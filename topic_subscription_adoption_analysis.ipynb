{
 "cells": [
  {
   "cell_type": "markdown",
   "metadata": {},
   "source": [
    "# Topic Subscriptions: Adoption Metrics Analysis\n",
    "\n",
    "[Task](https://phabricator.wikimedia.org/T280896)\n",
    "\n",
    "[Measurement plan](https://docs.google.com/document/d/15eD960rWRzxqYNQpjgsqd8nGwW9cRrpzOfYVd7nkX-0/edit#)\n",
    "\n",
    "[Instrumentation spec](https://docs.google.com/spreadsheets/d/1wlGzy6oZ8jbY5-EpydN7SqZnG1ikHTk05ZsZx1euWME/edit)"
   ]
  },
  {
   "cell_type": "markdown",
   "metadata": {},
   "source": [
    "# Purpose \n",
    "\n",
    "This task is about learning the extent to which contributors are engaging with the Topic Subscription beta feature (Manual and Automatic) and finding the feature valuable. Results of this analysis reflect how each feature has been used since deployed as a beta feature and will be used to decide whether Topic Subscriptions are in a state where the feature's impact can be evalauated through an AB test.\n"
   ]
  },
  {
   "cell_type": "markdown",
   "metadata": {},
   "source": [
    "# Contents\n",
    "1. [Are people aware of and trying the topic subscription feature?](#1.-Are-people-aware-of-and-trying-the-topic-subscription-feature?)\n",
    "2. [Are people finding the topic subscription feature valuable?](#2.-Are-people-finding-the-topic-subscription-feature-valuable?)\n",
    "3. [Are people finding the topic subscription feature disruptive?](#3.-Are-people-finding-the-topic-subscription-feature-disruptive?)"
   ]
  },
  {
   "cell_type": "markdown",
   "metadata": {},
   "source": [
    "# Data Source and Timeline\n",
    "\n",
    "**Sources**\n",
    "The results below reflect data retreived from the following data sources.\n",
    "* Discussiontools subscription [table](https://www.mediawiki.org/wiki/Extension:DiscussionTools/discussiontools_subscription_table). This provides a current snapshort of the users subscription status.\n",
    "* [EchoInteraction](https://schema.wikimedia.org/repositories//secondary/jsonschema/analytics/legacy/echointeraction/current.yaml): Users interactions with the notifications (might not be needed for this analysis)\n",
    "* [Echo_notification](https://www.mediawiki.org/wiki/Extension:Echo/echo_notification_table) database: Tracks notifications sent to users and if they received them.\n",
    "* [Mediawiki-history](https://wikitech.wikimedia.org/wiki/Analytics/Data_Lake/Edits/MediaWiki_history): Tracks published edit events.\n",
    "\n",
    "**Reviewed timelines**\n",
    "For the purpose of this analysis we reviewed all events logged since on 19 October 2021 (deployment of the manual topic notification at all Wiki project[i]) for manual topic subscription and since 13 January 2022 (deployment of automatic topic notifications at most Wikis) through 1 March 2022.\n",
    "\n",
    "[i] Note: For the purpose of this analysis, we only reviewed the timeframe once available at all wikis; however, manual topic subscriptions were rolled out to groups of wikis beginning on 28 June 2021.  Please see the topic notifications [project page](https://www.mediawiki.org/w/index.php?title=Talk_pages_project/Notifications&useskin=vector-2022) for further details about the deployment timeline for each feature."
   ]
  },
  {
   "cell_type": "markdown",
   "metadata": {},
   "source": [
    "# 1. Are people aware of and trying the topic subscription feature?"
   ]
  },
  {
   "cell_type": "markdown",
   "metadata": {},
   "source": [
    "## Of the people who have published an unreverted talk page edit in the time since Topic Subscriptions became available (including posting new comments or sections or editing exiting comments), what percent have subscribed to at least one topic. \n",
    "\n",
    "**Notes**:\n",
    "* We cannot know whether the topic someone subscribed to is a topic they also edited/contributed to.\n",
    "* At this time of this report, we did not have February editing data available so we only reviewed talk page edits made since topic Subscriptions become available on all Wikis (19 October 2021) through the end of January 2022."
   ]
  },
  {
   "cell_type": "code",
   "execution_count": 9,
   "metadata": {},
   "outputs": [],
   "source": [
    "import pandas as pd\n",
    "import numpy as np\n",
    "\n",
    "import datetime as dt\n",
    "\n",
    "from wmfdata import hive, mariadb"
   ]
  },
  {
   "cell_type": "markdown",
   "metadata": {},
   "source": [
    "### All Talk Page Editors"
   ]
  },
  {
   "cell_type": "markdown",
   "metadata": {},
   "source": [
    "We will first begin by finding all users that have published at least 1 unreverted talk page edit since topic subscriptions become available on all Wikis (19 October 2021) through the end of January 2022."
   ]
  },
  {
   "cell_type": "code",
   "execution_count": 264,
   "metadata": {},
   "outputs": [],
   "source": [
    "HIVE_SNAPSHOT = \"2022-01\"\n",
    "START_OF_DATA = \"2021-10-19\"\n",
    "END_OF_DATA = \"2022-01-30\" #allow two days to avoid revert data censoring"
   ]
  },
  {
   "cell_type": "code",
   "execution_count": 265,
   "metadata": {},
   "outputs": [],
   "source": [
    "# collect all talk page edits on desktop\n",
    "talk_page_editor_query = \"\"\"\n",
    "\n",
    "SELECT\n",
    "     wiki_db AS wiki,\n",
    "     event_user_id AS user_id,\n",
    "     CASE\n",
    "        WHEN min(event_user_revision_count) < 100 THEN 'under 100'\n",
    "        WHEN (min(event_user_revision_count) >=100 AND min(event_user_revision_count <= 500)) THEN '100-500'\n",
    "        ELSE 'over 500'\n",
    "        END AS edit_count,\n",
    "    COUNT(revision_id) as num_edits\n",
    "FROM wmf.mediawiki_history \n",
    "WHERE \n",
    "    -- include only desktop edits\n",
    "    NOT array_contains(revision_tags, 'iOS')\n",
    "    AND NOT array_contains(revision_tags, 'Android')\n",
    "    AND NOT array_contains(revision_tags, 'Mobile Web')\n",
    "     -- find all edits on talk pages \n",
    "    AND page_namespace_historical % 2 = 1\n",
    "    AND event_entity = 'revision'\n",
    "    AND event_type = 'create'\n",
    "-- edits not reverted within 48 hours\n",
    "    AND NOT (revision_is_identity_reverted \n",
    "    AND revision_seconds_to_identity_revert <= 172800)\n",
    "    -- remove bots\n",
    "    AND size(event_user_is_bot_by) <= 0 \n",
    "    AND size(event_user_is_bot_by_historical) <= 0 \n",
    "    -- date deployed\n",
    "    AND event_timestamp >= \"{START_OF_DATA}\"\n",
    "    AND event_timestamp < \"{END_OF_DATA}\" \n",
    "     -- FROM THE LATEST SNAPSHOT\n",
    "    AND snapshot = \"{hive_snapshot}\" \n",
    "    -- user is not anonymous\n",
    "    AND event_user_is_anonymous = FALSE\n",
    "GROUP BY \n",
    " wiki_db,\n",
    " event_user_id\n",
    " \"\"\""
   ]
  },
  {
   "cell_type": "code",
   "execution_count": 266,
   "metadata": {},
   "outputs": [],
   "source": [
    "talk_page_editors = hive.run(\n",
    "    talk_page_editor_query.format(\n",
    "        hive_snapshot = HIVE_SNAPSHOT,\n",
    "        START_OF_DATA= START_OF_DATA,\n",
    "        END_OF_DATA=END_OF_DATA\n",
    "    )\n",
    ")"
   ]
  },
  {
   "cell_type": "code",
   "execution_count": 267,
   "metadata": {},
   "outputs": [
    {
     "name": "stdout",
     "output_type": "stream",
     "text": [
      "Total number of editors for whom we will be checking topic subscription status: 163085\n"
     ]
    }
   ],
   "source": [
    "Total_talk_page_ed = talk_page_editors['user_id'].count()\n",
    "print('Total number of editors for whom we will be checking topic subscription status:' , Total_talk_page_ed) "
   ]
  },
  {
   "cell_type": "markdown",
   "metadata": {},
   "source": [
    "We will be using the discussiontools_subscription table to identify talk page editors that have enabled a subscription. Note that if a user has not subscribed to a topic then there will be no record for that user in this table."
   ]
  },
  {
   "cell_type": "code",
   "execution_count": 268,
   "metadata": {},
   "outputs": [],
   "source": [
    "#Querying discussiontools_subscription to see if any of the users have subscribed to a topic subscription\n",
    "\n",
    "query='''\n",
    "SELECT \n",
    "    database() AS wiki,\n",
    "    sub_user AS topic_subscriber,\n",
    "    COUNT(*) As num_subscriptions\n",
    "FROM discussiontools_subscription\n",
    "WHERE sub_user in ({users})\n",
    "GROUP BY\n",
    "    database(),\n",
    "    sub_user\n",
    "'''"
   ]
  },
  {
   "cell_type": "code",
   "execution_count": 269,
   "metadata": {},
   "outputs": [],
   "source": [
    "# Looping through each wiki for the list of users \n",
    "\n",
    "wikis=talk_page_editors['wiki'].unique()\n",
    "topic_subscription=list()\n",
    "for wiki in wikis:\n",
    "    user_ids = talk_page_editors[talk_page_editors['wiki'] == wiki][\"user_id\"]\n",
    "    user_list = ','.join([str(u) for u in user_ids])\n",
    "    sub_status = mariadb.run(\n",
    "      query.format(users=user_list),\n",
    "      wiki\n",
    "    )\n",
    "    topic_subscription.append(sub_status)\n",
    "\n",
    "topic_subscription_status= pd.concat(topic_subscription)"
   ]
  },
  {
   "cell_type": "code",
   "execution_count": 270,
   "metadata": {},
   "outputs": [
    {
     "name": "stdout",
     "output_type": "stream",
     "text": [
      "Total number of talk page editors that have subscribed to at least 1 topic since enabled 2743\n"
     ]
    }
   ],
   "source": [
    "# Total number of distinct topic subscribers\n",
    "topic_users = topic_subscription_status['topic_subscriber'].nunique()\n",
    "print('Total number of talk page editors that have subscribed to at least 1 topic since enabled' , topic_users) "
   ]
  },
  {
   "cell_type": "markdown",
   "metadata": {},
   "source": [
    "1.7% of all users that have made at least unreverted edit to a talk page since 19 October 2021 have subscribed to at least one new topic (as of the time of this report). This lower percentage is expected as the feature is currently only available as a beta preference. "
   ]
  },
  {
   "cell_type": "markdown",
   "metadata": {},
   "source": [
    "Now we join the topic subscribers data with the talk page editors data for further analysis and breakdowns."
   ]
  },
  {
   "cell_type": "code",
   "execution_count": 271,
   "metadata": {},
   "outputs": [],
   "source": [
    "# join two dataframes\n",
    "talk_page_subscribers = talk_page_editors.merge(topic_subscription_status, \n",
    "                                               how = \"left\", left_on = [\"user_id\", \"wiki\"] , \n",
    "                                               right_on = [\"topic_subscriber\", \"wiki\"])"
   ]
  },
  {
   "cell_type": "code",
   "execution_count": 272,
   "metadata": {},
   "outputs": [],
   "source": [
    "#refill missing columns with string types to avoid type errors\n",
    "talk_page_subscribers['topic_subscriber'] = talk_page_subscribers['topic_subscriber'].astype(str)\n",
    "talk_page_subscribers['num_subscriptions'] = talk_page_subscribers['num_subscriptions'].astype(str)"
   ]
  },
  {
   "cell_type": "markdown",
   "metadata": {},
   "source": [
    "#### By Experience Group"
   ]
  },
  {
   "cell_type": "code",
   "execution_count": 2,
   "metadata": {},
   "outputs": [
    {
     "name": "stderr",
     "output_type": "stream",
     "text": [
      "/home/mneisler/.conda/envs/2021-01-13T22.04.48_mneisler/lib/python3.7/site-packages/rpy2/robjects/pandas2ri.py:15: FutureWarning: pandas.core.index is deprecated and will be removed in a future version.  The public classes are available in the top-level namespace.\n",
      "  from pandas.core.index import Index as PandasIndex\n"
     ]
    }
   ],
   "source": [
    "%load_ext rpy2.ipython"
   ]
  },
  {
   "cell_type": "code",
   "execution_count": 3,
   "metadata": {},
   "outputs": [],
   "source": [
    "%%R\n",
    "# load required R packages\n",
    "shhh <- function(expr) suppressPackageStartupMessages(suppressWarnings(suppressMessages(expr)))\n",
    "shhh({\n",
    "    library(tidyverse); library(lubridate); library(scales)\n",
    "})"
   ]
  },
  {
   "cell_type": "code",
   "execution_count": 274,
   "metadata": {},
   "outputs": [
    {
     "name": "stdout",
     "output_type": "stream",
     "text": [
      "NULL\n"
     ]
    }
   ],
   "source": [
    "%%R -i talk_page_subscribers\n",
    "# import df from global environment"
   ]
  },
  {
   "cell_type": "code",
   "execution_count": 275,
   "metadata": {},
   "outputs": [
    {
     "name": "stderr",
     "output_type": "stream",
     "text": [
      "R[write to console]: `summarise()` ungrouping output (override with `.groups` argument)\n",
      "\n"
     ]
    },
    {
     "name": "stdout",
     "output_type": "stream",
     "text": [
      "# A tibble: 3 x 4\n",
      "  edit_count num_talk_editors num_topic_subscribers pct_subscribed\n",
      "  <chr>                 <int>                 <int>          <dbl>\n",
      "1 100-500               15157                   223          1.47 \n",
      "2 over 500              42774                  2082          4.87 \n",
      "3 under 100            105154                   441          0.419\n"
     ]
    }
   ],
   "source": [
    "%%R\n",
    "talk_page_subscribers_byexp <- talk_page_subscribers %>%\n",
    "    group_by(edit_count) %>%\n",
    "    summarise(num_talk_editors = n(),\n",
    "             num_topic_subscribers = sum(topic_subscriber != \"nan\"),\n",
    "             pct_subscribed = num_topic_subscribers/num_talk_editors * 100)\n",
    "\n",
    "talk_page_subscribers_byexp"
   ]
  },
  {
   "cell_type": "markdown",
   "metadata": {},
   "source": [
    "When broken down by experience group, the majority of talk page editors that have subscribed to a topic are senior editors (defined as having over 500 edits). 4.9% of all senior talk page editors have subscribed to a topic. "
   ]
  },
  {
   "cell_type": "markdown",
   "metadata": {},
   "source": [
    "### Talk page editors that have enabled topic subscription preference enabled"
   ]
  },
  {
   "cell_type": "markdown",
   "metadata": {},
   "source": [
    "Next we'll look specifically at talk page editors that have enabled the beta preference to see if they are using it. \n",
    "\n",
    "Note: we reviewed users that enabled `discussiontools-betaenable` as an indicator if they have the topic subscriptions feature enabled.  The `discussiontools-topicsub` preference is enabled by default when the beta preference is enabled."
   ]
  },
  {
   "cell_type": "code",
   "execution_count": 276,
   "metadata": {},
   "outputs": [],
   "source": [
    "#Querying the user_properties table to find talk page editors that have enabled the beta feature\n",
    "\n",
    "query='''\n",
    " SELECT\n",
    "    DISTINCT up_user AS beta_user,\n",
    "    database() AS wiki,\n",
    "    up_value AS pref_status\n",
    "FROM user_properties\n",
    "    WHERE \n",
    "    up_user in ({users})\n",
    "    AND up_property = 'discussiontools-betaenable'\n",
    "    \n",
    " '''\n"
   ]
  },
  {
   "cell_type": "code",
   "execution_count": 277,
   "metadata": {},
   "outputs": [],
   "source": [
    "# Looping through each wiki for the list of talk page editors that have the beta preference enabled \n",
    "\n",
    "wikis=talk_page_editors['wiki'].unique()\n",
    "beta_enabled=list()\n",
    "for wiki in wikis:\n",
    "    user_ids = talk_page_editors[talk_page_editors['wiki'] == wiki][\"user_id\"]\n",
    "    user_list = ','.join([str(u) for u in user_ids])\n",
    "    beta_status = mariadb.run(\n",
    "      query.format(users=user_list),\n",
    "      wiki\n",
    "    )\n",
    "    beta_enabled.append(beta_status)\n",
    "\n",
    "beta_enabled_status= pd.concat(beta_enabled)"
   ]
  },
  {
   "cell_type": "code",
   "execution_count": 278,
   "metadata": {},
   "outputs": [],
   "source": [
    "# replace skin field as string type for easier renaming \n",
    "beta_enabled_status['pref_status'] = beta_enabled_status['pref_status'].astype(str)\n"
   ]
  },
  {
   "cell_type": "code",
   "execution_count": 279,
   "metadata": {},
   "outputs": [],
   "source": [
    "# rename pref values to clarify\n",
    "pref_aliases = {\n",
    "    \"b\\'0\\'\":\"disabled\",\n",
    "    \"b\\'1\\'\":\"enabled\",\n",
    "}\n",
    "\n",
    "beta_enabled_status = beta_enabled_status.replace({\"pref_status\": pref_aliases})"
   ]
  },
  {
   "cell_type": "code",
   "execution_count": 280,
   "metadata": {},
   "outputs": [],
   "source": [
    "# Total number of distinct topic users that have the feature enabled\n",
    "beta_users = beta_enabled_status[beta_enabled_status.pref_status == \"enabled\"]\n",
    "beta_users_total = beta_users['beta_user'].nunique()"
   ]
  },
  {
   "cell_type": "code",
   "execution_count": 281,
   "metadata": {},
   "outputs": [
    {
     "name": "stdout",
     "output_type": "stream",
     "text": [
      "Total number of talk page editors that have the discussion tools beta feature enabled 9777\n"
     ]
    }
   ],
   "source": [
    "print('Total number of talk page editors that have the discussion tools beta feature enabled' , beta_users_total) "
   ]
  },
  {
   "cell_type": "markdown",
   "metadata": {},
   "source": [
    "A total of 9,777 distinct talk page editors have the discussion tools beta feature currently enabled. Of these users, 28% have subscribed to at least 1 topic."
   ]
  },
  {
   "cell_type": "code",
   "execution_count": 282,
   "metadata": {},
   "outputs": [],
   "source": [
    "# join two dataframes\n",
    "talk_page_subscribers_wbeta = talk_page_subscribers.merge(beta_users, \n",
    "                                               how = \"left\", left_on = [\"user_id\", \"wiki\"] , \n",
    "                                               right_on = [\"beta_user\", \"wiki\"])"
   ]
  },
  {
   "cell_type": "code",
   "execution_count": 283,
   "metadata": {},
   "outputs": [],
   "source": [
    "#refill missing columns with string types to avoid type errors\n",
    "talk_page_subscribers_wbeta['beta_user'] = talk_page_subscribers_wbeta['beta_user'].astype(str)\n",
    "talk_page_subscribers_wbeta['pref_status'] = talk_page_subscribers_wbeta['pref_status'].astype(str)"
   ]
  },
  {
   "cell_type": "markdown",
   "metadata": {},
   "source": [
    "#### By Experience Group"
   ]
  },
  {
   "cell_type": "code",
   "execution_count": 285,
   "metadata": {},
   "outputs": [
    {
     "name": "stderr",
     "output_type": "stream",
     "text": [
      "R[write to console]: `summarise()` ungrouping output (override with `.groups` argument)\n",
      "\n"
     ]
    },
    {
     "name": "stdout",
     "output_type": "stream",
     "text": [
      "# A tibble: 3 x 5\n",
      "  edit_count num_talk_editors num_beta_users num_topic_subscri… pct_beta_subscr…\n",
      "  <chr>                 <int>          <int>              <int>            <dbl>\n",
      "1 100-500               15157           1349                223             16.5\n",
      "2 over 500              42774           5247               2082             39.7\n",
      "3 under 100            105154           3219                441             13.7\n"
     ]
    }
   ],
   "source": [
    "%%R -i talk_page_subscribers_wbeta\n",
    "# import df from global environment\n",
    "\n",
    "# breakdown by experience\n",
    "talk_page_subscribers_wbeta_byexp <- talk_page_subscribers_wbeta %>%\n",
    "    group_by(edit_count) %>%\n",
    "    summarise(num_talk_editors = n(),\n",
    "              num_beta_users = sum(beta_user != \"nan\"),\n",
    "             num_topic_subscribers = sum(topic_subscriber != \"nan\"),\n",
    "             pct_beta_subscribed = num_topic_subscribers/num_beta_users * 100)\n",
    "\n",
    "talk_page_subscribers_wbeta_byexp"
   ]
  },
  {
   "cell_type": "markdown",
   "metadata": {},
   "source": [
    "About 39% of Senior Contributors that have enabled the beta feature and edited a talk page have subscribed to at least 1 topic."
   ]
  },
  {
   "cell_type": "markdown",
   "metadata": {},
   "source": [
    "# 2. Are people finding the topic subscription feature valuable?"
   ]
  },
  {
   "cell_type": "markdown",
   "metadata": {},
   "source": [
    "## [Manual] Of the people who have topic subscriptions enabled, what percentage of people are actively subscribed to the following number of discussions?\n",
    "\n",
    "Notes:\n",
    "* We reviewed the percent of people that not just have topic subscriptions preference enabled but have subscribed to at least 1 topic so you can get a sense of how frequently the feature is used by people that subscribe to at least 1 subscription. The prior section answers the question about how many users that have enabled the topic preference have subscribed to at least 1 topic.\n",
    "* The manual topic subscription preference is turned on by default when a user enables the Discussion Tools beta property. It does not need to be explicitly turned on in Special:Preferences. As a result, this property will not appear in the user properties table unless it is turned off. "
   ]
  },
  {
   "cell_type": "code",
   "execution_count": 108,
   "metadata": {},
   "outputs": [],
   "source": [
    "#loop through all wiki projects to create list of wikis for use in queries\n",
    "\n",
    "query = \"\"\" \n",
    "    SELECT\n",
    "        DISTINCT database_code\n",
    "    FROM canonical_data.wikis\n",
    "    WHERE\n",
    "    database_code NOT IN ('labswiki', 'labtestwiki', 'legalteamwiki')\n",
    "   \"\"\""
   ]
  },
  {
   "cell_type": "code",
   "execution_count": 109,
   "metadata": {},
   "outputs": [],
   "source": [
    "wikis = hive.run(query)"
   ]
  },
  {
   "cell_type": "code",
   "execution_count": 113,
   "metadata": {},
   "outputs": [],
   "source": [
    "wiki_list=wikis['database_code'].unique()"
   ]
  },
  {
   "cell_type": "code",
   "execution_count": 114,
   "metadata": {},
   "outputs": [],
   "source": [
    "#Querying discussiontools_subscription to determine subscription status\n",
    "\n",
    "query='''\n",
    "SELECT \n",
    "    database() AS wiki,\n",
    "    sub_user AS topic_subscriber,\n",
    "     CASE \n",
    "            WHEN sub_state = 1 THEN 'manual'\n",
    "            WHEN sub_state = 2 THEN 'automatic'\n",
    "            WHEN sub_state = 0 THEN 'unsubscribed'\n",
    "            ELSE 'NULL'\n",
    "            END AS initiation_type,\n",
    "        CASE \n",
    "            WHEN (sub_state = 1 OR sub_state = 2) THEN 'active'\n",
    "            ELSE 'inactive'\n",
    "            END AS sub_status,\n",
    "    COUNT(*) As num_subscriptions\n",
    "FROM discussiontools_subscription\n",
    "GROUP BY\n",
    "    database(),\n",
    "    sub_user\n",
    "'''"
   ]
  },
  {
   "cell_type": "code",
   "execution_count": 115,
   "metadata": {},
   "outputs": [],
   "source": [
    "topic_subscriptions = mariadb.run(commands = query, dbs = wiki_list, use_x1=False, format=\"pandas\")"
   ]
  },
  {
   "cell_type": "markdown",
   "metadata": {},
   "source": [
    "Next we find all users that have the manual topic subscription enabled."
   ]
  },
  {
   "cell_type": "code",
   "execution_count": 15,
   "metadata": {},
   "outputs": [],
   "source": [
    "#Querying the user_properties table  to find all users that have enabled the beta feature\n",
    "## And have not disabled the topic subscription feature \n",
    "\n",
    "query='''\n",
    "-- users that have not disabled the property\n",
    "WITH topic_pref AS (\n",
    " SELECT\n",
    "    up_user AS topic_user,\n",
    "    database() AS wiki\n",
    "FROM user_properties\n",
    "WHERE \n",
    "--if disabled this property will appear in user properties as it is the non-default option\n",
    "    NOT up_property = 'discussiontools-topicsubscription'\n",
    "),\n",
    "\n",
    "beta_pref AS (\n",
    " SELECT\n",
    "    up_user AS beta_user,\n",
    "    database() AS wiki,\n",
    "    up_value AS pref_status\n",
    "FROM user_properties\n",
    "    WHERE \n",
    "    up_property = 'discussiontools-betaenable'\n",
    ")\n",
    "\n",
    "SELECT\n",
    "    beta_user,\n",
    "    beta_pref.wiki,\n",
    "    pref_status\n",
    "FROM beta_pref\n",
    "INNER JOIN topic_pref ON\n",
    "beta_pref.beta_user = topic_pref.topic_user\n",
    "AND beta_pref.wiki = topic_pref.wiki\n",
    " '''"
   ]
  },
  {
   "cell_type": "code",
   "execution_count": 116,
   "metadata": {},
   "outputs": [],
   "source": [
    "# ALternative if query above not working\n",
    "# Does not account for any users that explciitly disabled the manual topic subscription preference but that is a small percent\n",
    "query='''\n",
    "SELECT\n",
    "    up_user AS beta_user,\n",
    "    database() AS wiki,\n",
    "    up_value AS pref_status\n",
    "FROM user_properties\n",
    "    WHERE \n",
    "    up_property = 'discussiontools-betaenable'\n",
    "'''"
   ]
  },
  {
   "cell_type": "code",
   "execution_count": 117,
   "metadata": {},
   "outputs": [],
   "source": [
    "manual_pref = mariadb.run(commands = query, dbs = wiki_list, use_x1=False, format=\"pandas\")"
   ]
  },
  {
   "cell_type": "code",
   "execution_count": 118,
   "metadata": {},
   "outputs": [],
   "source": [
    "# replace skin field as string type for easier renaming \n",
    "manual_pref['pref_status'] = manual_pref['pref_status'].astype(str)"
   ]
  },
  {
   "cell_type": "code",
   "execution_count": 119,
   "metadata": {},
   "outputs": [],
   "source": [
    "# rename pref values to clarify\n",
    "pref_aliases = {\n",
    "    \"b\\'0\\'\":\"disabled\",\n",
    "    \"b\\'1\\'\":\"enabled\",\n",
    "}\n",
    "\n",
    "manual_pref = manual_pref.replace({\"pref_status\": pref_aliases})"
   ]
  },
  {
   "cell_type": "code",
   "execution_count": 120,
   "metadata": {},
   "outputs": [
    {
     "data": {
      "text/plain": [
       "95582"
      ]
     },
     "execution_count": 120,
     "metadata": {},
     "output_type": "execute_result"
    }
   ],
   "source": [
    "# Total number of distinct users that have the feature enabled\n",
    "manual_pref_enabled = manual_pref[manual_pref.pref_status == \"enabled\"]\n",
    "manual_pref_enabled_total = manual_pref_enabled['beta_user'].nunique()   \n",
    "\n",
    "manual_pref_enabled_total"
   ]
  },
  {
   "cell_type": "markdown",
   "metadata": {},
   "source": [
    "There are 95,582 users that have the manual topic subscription feature enabled currently in there user preferences (this includes users that might not have edited a talk page since the feature was deployed). Next, we'll determine what percent of these users are actively subscribed to at least one subscription. "
   ]
  },
  {
   "cell_type": "code",
   "execution_count": 121,
   "metadata": {},
   "outputs": [],
   "source": [
    "# join two dataframes\n",
    "manual_users_sub_status = manual_pref_enabled.merge(topic_subscriptions, \n",
    "                                               how = \"left\", left_on = [\"beta_user\", \"wiki\"] , \n",
    "                                               right_on = [\"topic_subscriber\", \"wiki\"])"
   ]
  },
  {
   "cell_type": "code",
   "execution_count": 122,
   "metadata": {},
   "outputs": [],
   "source": [
    "#refill missing columns with string types to avoid type errors\n",
    "manual_users_sub_status['topic_subscriber'] = manual_users_sub_status['topic_subscriber'].astype(str)\n",
    "manual_users_sub_status['initiation_type'] = manual_users_sub_status['initiation_type'].astype(str)\n",
    "manual_users_sub_status['sub_status'] = manual_users_sub_status['sub_status'].astype(str)\n",
    "manual_users_sub_status['num_subscriptions'] = manual_users_sub_status['num_subscriptions'].astype(str)"
   ]
  },
  {
   "cell_type": "code",
   "execution_count": 123,
   "metadata": {},
   "outputs": [
    {
     "name": "stdout",
     "output_type": "stream",
     "text": [
      "NULL\n"
     ]
    }
   ],
   "source": [
    "%%R  -i manual_users_sub_status\n",
    "# import df from global environment"
   ]
  },
  {
   "cell_type": "code",
   "execution_count": 124,
   "metadata": {},
   "outputs": [
    {
     "name": "stdout",
     "output_type": "stream",
     "text": [
      "  num_beta_users num_beta_users_check num_manual_subscribers pct_beta_manual\n",
      "1          97185                95582                   2099        2.159798\n"
     ]
    }
   ],
   "source": [
    "%%R\n",
    "# Find percent oveall \n",
    "active_manual_subscribers <- manual_users_sub_status %>%\n",
    "    summarise(num_beta_users = n(),\n",
    "              num_beta_users_check = n_distinct(beta_user),\n",
    "             num_manual_subscribers = length(topic_subscriber[initiation_type == 'manual']),\n",
    "             pct_beta_manual = num_manual_subscribers/num_beta_users * 100)\n",
    "\n",
    "active_manual_subscribers"
   ]
  },
  {
   "cell_type": "markdown",
   "metadata": {},
   "source": [
    "2.2% of all users subscribed to manual topic subscriptions are actively manually subscribed to at least one topic discussion.  Note: This is not restricted to users that have edited a talk page so many of these users may not have visited a talk page since it become availabe as the manual preference is enabled by default for discussion tool beta users.\n"
   ]
  },
  {
   "cell_type": "markdown",
   "metadata": {},
   "source": [
    "### Breakdown by the number of subscriptions\n",
    "\n",
    "We next reviewed the percent of users that have at least 1 manual active subscription enabled by number of active subscriptions. \n",
    "\n",
    "Notes:\n",
    "* Based on review of the average number of active subscriptions per user, I decided to group the number of subscriptions by 2. Since the majority of user subscribe to only 1 or 2 topic subscriptions, these smaller groupings provide the level of detail needed to understand the frequency of usage.\n",
    "* The majority of users subscribe to between 1 to 2 topics but there are also users that subscribe to over 20 subscriptions. It is difficult to understand the behavior of these power users because the data is so highly skewed to the left. As a result, we created an additional chart to better understnad and visualize what \"power usage\" of this new feature looks like. \n"
   ]
  },
  {
   "cell_type": "code",
   "execution_count": 170,
   "metadata": {},
   "outputs": [
    {
     "name": "stderr",
     "output_type": "stream",
     "text": [
      "R[write to console]: `summarise()` ungrouping output (override with `.groups` argument)\n",
      "\n"
     ]
    }
   ],
   "source": [
    "%%R \n",
    "# percent of users by num of subscriptions group \n",
    "active_manual_subscriptions_all  <- manual_users_sub_status %>%\n",
    "    filter(pref_status == 'enabled' & # only users that have the prefernece enabled over 20 active subscription\n",
    "          initiation_type == 'manual' &\n",
    "           as.numeric(num_subscriptions) < 1000) %>%  #remove likely bot activity\n",
    "      mutate(num_subscriptions_group = cut(as.numeric(num_subscriptions), \n",
    "                                         breaks = c(0, 2, 4, 6, 8, 10, 12, 14, 16, 18, 20, 30, 40, 50, 60, 70, 80, 90, 100, \n",
    "                                                    110, 120, 130, 140, 150, 160, 170, 180, 190, \n",
    "                                                    200, 210, 220, 230, 240, 250, 260, 270, 280,\n",
    "                                                    290, 300, Inf), \n",
    "                                         labels = c('1-2', '3-4', '5-6', '7-8', '9-10', '11-12', '13-14',\n",
    "                                                    '15-16', '17-18', '19-20', '21-30', '31-40', '41-50', '51-60', '61-70',\n",
    "                                                    '71-80', '81-90', '91-100', '101-110', '111-120', '121-130', '131-140', '141-150',\n",
    "                                                    '151-160', '161-170', '171-180', '181-190', '191-200', '201-210', '211-220', \n",
    "                                                    '221-230', '231-240', '241-250', '251-260', '261-270', '271-280', '281-290', '291-300', \n",
    "                                                    'over 300')))  %>%\n",
    "    group_by(num_subscriptions_group) %>%\n",
    "    summarise(n_users = n_distinct(topic_subscriber))%>%\n",
    "    mutate(percent_users = n_users/sum(n_users))\n",
    "    "
   ]
  },
  {
   "cell_type": "markdown",
   "metadata": {},
   "source": [
    "#### Topic subscribers with under 20 topic subscriptions"
   ]
  },
  {
   "cell_type": "code",
   "execution_count": 130,
   "metadata": {},
   "outputs": [
    {
     "name": "stderr",
     "output_type": "stream",
     "text": [
      "R[write to console]: `summarise()` ungrouping output (override with `.groups` argument)\n",
      "\n"
     ]
    }
   ],
   "source": [
    "%%R \n",
    "# percent of users by num of subscriptions group \n",
    "active_manual_subscriptions <- manual_users_sub_status %>%\n",
    "    filter(pref_status == 'enabled' & # only users that have the prefernece enabled and 1 active subscription\n",
    "          initiation_type == 'manual')  %>%\n",
    "    mutate(num_subscriptions_group = cut(as.numeric(num_subscriptions), \n",
    "                                         breaks = c(0, 2, 4, 6, 8, 10, 12, 14, 16, 18, 20, Inf), \n",
    "                                         labels = c('1-2', '3-4', '5-6', '7-8', '9-10', '11-12', '13-14',\n",
    "                                                    '15-16', '17-18', '19-20','over 20')))  %>%\n",
    "    group_by(num_subscriptions_group) %>%\n",
    "    summarise(n_users = n_distinct(topic_subscriber))%>%\n",
    "    mutate(percent_users = n_users/sum(n_users))\n",
    "    "
   ]
  },
  {
   "cell_type": "code",
   "execution_count": 178,
   "metadata": {},
   "outputs": [
    {
     "data": {
      "image/png": "[encoded data removed]"
     },
     "metadata": {},
     "output_type": "display_data"
    }
   ],
   "source": [
    "%%R -w 800 -h 600\n",
    "#chart overall users by days of activity group\n",
    "\n",
    "p <- active_manual_subscriptions %>%\n",
    "    ggplot(aes(x=num_subscriptions_group, y = percent_users, \n",
    "               fill=factor(ifelse(num_subscriptions_group == \"over 20\",\"Power users\", \"Normal\")))) +\n",
    "    geom_bar(stat = 'identity') +\n",
    "    scale_fill_manual(name = \"\", breaks = \"Power Users\", values=c(\"grey50\",\"darkblue\")) +\n",
    "    scale_y_continuous(labels = scales::percent) +\n",
    "    labs (y = \"Percent of manual topic subscribers\",\n",
    "          x = \"Number of subscriptions\",\n",
    "         title = \"Active manual topic subscribers by number of subscriptions\",\n",
    "         caption = \"6% of users are active topic subscribers are 'power users' that have subscribed to over 20 manual topic subscriptions\")  +\n",
    "     theme_bw() +\n",
    "   theme(plot.title = element_text(hjust = 0.5),\n",
    "        text = element_text(size=16),\n",
    "        axis.text.x = element_text(angle=45, hjust=1),\n",
    "        legend.position =\"bottom\") \n",
    "\n",
    "ggsave(\"Figures/active_manual_subscribers_bynsub.png\", p, width = 16, height = 8, units = \"in\", dpi = 300)\n",
    "p"
   ]
  },
  {
   "cell_type": "markdown",
   "metadata": {},
   "source": [
    "The majority (65%) users actively subscribed to manual topic subscriptions are subscribed to 1 to 2 topics. 35% of manual topic subscribers have subscribed to over 2 distinct topics.\n"
   ]
  },
  {
   "cell_type": "markdown",
   "metadata": {},
   "source": [
    "### Review of topic subscribers with over 20 topic subscriptions"
   ]
  },
  {
   "cell_type": "markdown",
   "metadata": {},
   "source": [
    "There are 129 distinct users (6% of all active manual topic subscribers) that are actively subscribed to over 20 topic subscriptions. We'll take a closer look at the over 20 bucket so that we can better understand what \"power usage\" looks like in this context."
   ]
  },
  {
   "cell_type": "code",
   "execution_count": 185,
   "metadata": {},
   "outputs": [
    {
     "data": {
      "image/png": "[encoded data removed]"
     },
     "metadata": {},
     "output_type": "display_data"
    }
   ],
   "source": [
    "%%R -w 800 -h 600\n",
    "#chart overall users by days of activity group\n",
    "\n",
    "p <- active_manual_subscriptions_all %>%\n",
    "    filter(num_subscriptions_group %in% \n",
    "           c('21-30', '31-40', '41-50', '51-60', '61-70',\n",
    "            '71-80', '81-90', '91-100', '101-110', '111-120', '121-130', '131-140', '141-150',\n",
    "            '151-160', '161-170', '171-180', '181-190', '191-200', '201-210', '211-220', \n",
    "            '221-230', '231-240', '241-250', '251-260', '261-270', '271-280', '281-290', '291-300', \n",
    "            'over 300')) %>%\n",
    "    ggplot(aes(x=num_subscriptions_group, y = percent_users)) +\n",
    "    geom_bar(stat = 'identity', fill = 'darkblue') +\n",
    "    scale_y_continuous(labels = scales::percent) +\n",
    "    labs (y = \"Percent of manual topic subscribers\",\n",
    "          x = \"Number of subscriptions\",\n",
    "         title = \"Active manual topic subscribers with over 20 topic subscriptions \\n\n",
    "          by number of subscriptions\")  +\n",
    "     theme_bw() +\n",
    "   theme(plot.title = element_text(hjust = 0.5),\n",
    "        text = element_text(size=16),\n",
    "        axis.text.x = element_text(angle=45, hjust=1),\n",
    "        legend.position =\"none\") \n",
    "\n",
    "ggsave(\"Figures/power_users_bynsub.png\", p, width = 16, height = 8, units = \"in\", dpi = 300)\n",
    "\n",
    "p"
   ]
  },
  {
   "cell_type": "markdown",
   "metadata": {},
   "source": [
    "* Of these \"power users\", most (55%) subscribe to between 21 to up to 40 topic subscriptions. Power users are almost as likely to subscribe to 31 to 40 topic subscriptions as they are to subscribe to between 21 to 30.\n",
    "* After 40 topic subscriptions, the percent of users drops significantly and generally continues to decrease with a small percentage (13%) of users subscribing to over 100 topic subscriptions. "
   ]
  },
  {
   "cell_type": "markdown",
   "metadata": {},
   "source": [
    "## [Automatic] Of the people who have manual topic subscriptions enabled (and edited a talk page[ii]), what percentage of them enabled automatic topic subscriptions within Special:Preferences?\n",
    "\n",
    "Automatic Topic Subscriptions are available as a beta feature at most Wikimedia wikis as of 13 January 2022 [iii].  For people to become automatically subscribed to discussions they start and/or comment within, they will need to manually enable the Automatically subscribe to topics setting within Special:Preferences#mw-prefsection-editing.\n",
    "\n",
    "We will look at the percent of people who have the manual topic subscription feature enabled and have also explcitly enabled this feature. \n",
    "\n",
    "Note:\n",
    "* [ii] Since the manual topic subscription feature is enabled by default, we will look only at users that edited a talk page to look specifically at users that have visited talk pages since deployment of automatic topic feature been availble. Alternate option for consideration: Review users that are manaully subscribed to a topic.\n",
    "* [iii] See https://phabricator.wikimedia.org/T290500?useskin=vector-2022 for list of wikis where automatic topic subscriptions are not currently offered as a beta feature.\n",
    "* For this analysis, we reviewed from the time automatic topic subscriptions become available on 13 January 2022 to 2 March 2022.\n",
    "* The automatic topic subscription preference 'discussiontools-autotopicsub' will appears in the user properties table when explicitly enabled. It is not enabled by default with the discussion tools beta preference."
   ]
  },
  {
   "cell_type": "code",
   "execution_count": 306,
   "metadata": {},
   "outputs": [],
   "source": [
    "#Querying the user_properties table to find beta users that have enabled the automatic topic preference setting\n",
    "\n",
    "query='''\n",
    "-- users that enabled the beta property and therfore the manual topic subscription property\n",
    "WITH dt_users AS (\n",
    " SELECT\n",
    "    DISTINCT up_user AS beta_user,\n",
    "    database() AS wiki,\n",
    "    up_value AS beta_status\n",
    "FROM \n",
    "    user_properties\n",
    "WHERE \n",
    "    up_property = 'discussiontools-betaenable'\n",
    "),\n",
    "-- users that enabled the auto topic subsctiption\n",
    "auto_users AS (\n",
    "SELECT\n",
    "    DISTINCT up_user AS auto_user,\n",
    "    database() AS wiki,\n",
    "    up_value AS auto_status\n",
    "FROM user_properties\n",
    "WHERE\n",
    "  up_property = 'discussiontools-autotopicsub'\n",
    "  )\n",
    "\n",
    "SELECT\n",
    " beta_user,\n",
    " beta_status,\n",
    " auto_user,\n",
    " auto_status,\n",
    " dt_users.wiki\n",
    "FROM\n",
    "    dt_users\n",
    "LEFT JOIN \n",
    "    auto_users ON\n",
    "    dt_users.beta_user = auto_users.auto_user AND\n",
    "    dt_users.wiki = auto_users.wiki\n",
    "    \n",
    " '''"
   ]
  },
  {
   "cell_type": "code",
   "execution_count": 307,
   "metadata": {},
   "outputs": [],
   "source": [
    "auto_users = mariadb.run(commands = query, dbs = wiki_list, use_x1=False, format=\"pandas\")"
   ]
  },
  {
   "cell_type": "code",
   "execution_count": 308,
   "metadata": {},
   "outputs": [],
   "source": [
    "# replace skin field as string type for easier renaming \n",
    "auto_users['beta_status'] = auto_users['beta_status'].astype(str)\n",
    "auto_users['auto_status'] = auto_users['auto_status'].astype(str)"
   ]
  },
  {
   "cell_type": "code",
   "execution_count": 309,
   "metadata": {},
   "outputs": [],
   "source": [
    "# rename pref values to clarify\n",
    "pref_aliases = {\n",
    "    \"b\\'0\\'\":\"disabled\",\n",
    "    \"b\\'1\\'\":\"enabled\",\n",
    "}\n",
    "\n",
    "auto_users =auto_users.replace({\"beta_status\": pref_aliases})\n",
    "auto_users =auto_users.replace({\"auto_status\": pref_aliases})"
   ]
  },
  {
   "cell_type": "code",
   "execution_count": 310,
   "metadata": {},
   "outputs": [],
   "source": [
    "#refill missing columns with string types to avoid type errors\n",
    "auto_users['auto_user'] = auto_users['auto_user'].astype(str)\n",
    "auto_users['auto_status'] = auto_users['auto_status'].astype(str)"
   ]
  },
  {
   "cell_type": "code",
   "execution_count": 312,
   "metadata": {},
   "outputs": [
    {
     "name": "stdout",
     "output_type": "stream",
     "text": [
      "NULL\n"
     ]
    }
   ],
   "source": [
    "%%R  -i auto_users\n",
    "#import from global environment"
   ]
  },
  {
   "cell_type": "code",
   "execution_count": 314,
   "metadata": {},
   "outputs": [
    {
     "name": "stdout",
     "output_type": "stream",
     "text": [
      "  num_beta_users num_auto_subscribers pct_auto_users\n",
      "1          68010                  537      0.7895898\n"
     ]
    }
   ],
   "source": [
    "%%R\n",
    "auto_users_pct <- auto_users %>%\n",
    "      filter(beta_status == 'enabled', # only users that have manual preference enabled\n",
    "             !(wiki %in% c('amwiki', 'bnwiki', 'zhwiki', 'nlwiki', 'arzwiki',\n",
    "                         'frwiki', 'hewiki', 'hiwiki', 'idwiki', 'itwiki', 'jawiki',\n",
    "                         'kowiki', 'omwiki', 'fawiki', 'plwiki', 'ptwiki', 'eswiki',\n",
    "                         'thwiki', 'ukwiki', 'viwiki'))) %>% #remove wikis where not available\n",
    "      summarise(num_beta_users = n(),\n",
    "            num_auto_subscribers = length(auto_user[auto_status == 'enabled']),\n",
    "             pct_auto_users = num_auto_subscribers/num_beta_users * 100)\n",
    "    \n",
    "auto_users_pct \n"
   ]
  },
  {
   "cell_type": "markdown",
   "metadata": {},
   "source": [
    "There are 537 users that have enabled the automatic topic subscriptions preference across all wikis where available. This represents about 0.8% of all users that have manual topic subscriptions enabled. This percentage may be small because many of the users that have the beta preference enabled may not have viewed a talk page since it has only be enabled for a month. \n",
    "\n",
    "We next reviewed the percent of users that edits a talk page since automatic preference was made available to get a better estimate of the percent of users that had access to the feature and enabled it. "
   ]
  },
  {
   "cell_type": "markdown",
   "metadata": {},
   "source": [
    "### Of the users that have edited a talk page since it was deployed, what percent of beta users have also enabled the automatic topic subscription preference?\n"
   ]
  },
  {
   "cell_type": "code",
   "execution_count": 315,
   "metadata": {},
   "outputs": [],
   "source": [
    "HIVE_SNAPSHOT = \"2022-01\"\n",
    "START_OF_DATA = \"2022-01-13\"\n",
    "END_OF_DATA = \"2022-01-30\" #allow two days to avoid revert data censoring"
   ]
  },
  {
   "cell_type": "code",
   "execution_count": 316,
   "metadata": {},
   "outputs": [],
   "source": [
    "# collect all talk page edits on desktop\n",
    "talk_page_editor_query = \"\"\"\n",
    "\n",
    "SELECT\n",
    "     wiki_db AS wiki,\n",
    "     event_user_id AS user_id,\n",
    "     CASE\n",
    "        WHEN min(event_user_revision_count) < 100 THEN 'under 100'\n",
    "        WHEN (min(event_user_revision_count) >=100 AND min(event_user_revision_count <= 500)) THEN '100-500'\n",
    "        ELSE 'over 500'\n",
    "        END AS edit_count,\n",
    "    COUNT(revision_id) as num_edits\n",
    "FROM wmf.mediawiki_history \n",
    "WHERE \n",
    "    -- include only desktop edits\n",
    "    NOT array_contains(revision_tags, 'iOS')\n",
    "    AND NOT array_contains(revision_tags, 'Android')\n",
    "    AND NOT array_contains(revision_tags, 'Mobile Web')\n",
    "     -- find all edits on talk pages \n",
    "    AND page_namespace_historical % 2 = 1\n",
    "    AND event_entity = 'revision'\n",
    "    AND event_type = 'create'\n",
    "-- edits not reverted within 48 hours\n",
    "    AND NOT (revision_is_identity_reverted \n",
    "    AND revision_seconds_to_identity_revert <= 172800)\n",
    "    -- remove bots\n",
    "    AND size(event_user_is_bot_by) <= 0 \n",
    "    AND size(event_user_is_bot_by_historical) <= 0 \n",
    "    -- date deployed\n",
    "    AND event_timestamp >= \"{START_OF_DATA}\"\n",
    "    AND event_timestamp < \"{END_OF_DATA}\" \n",
    "     -- FROM THE LATEST SNAPSHOT\n",
    "    AND snapshot = \"{hive_snapshot}\" \n",
    "    -- user is not anonymous\n",
    "    AND event_user_is_anonymous = FALSE\n",
    "    -- remove wikis where not available\n",
    "    AND wiki_db NOT IN ('amwiki', 'bnwiki', 'zhwiki', 'nlwiki', 'arzwiki',\n",
    "                         'frwiki', 'hewiki', 'hiwiki', 'idwiki', 'itwiki', 'jawiki',\n",
    "                         'kowiki', 'omwiki', 'fawiki', 'plwiki', 'ptwiki', 'eswiki',\n",
    "                         'thwiki', 'ukwiki', 'viwiki')\n",
    "GROUP BY \n",
    " wiki_db,\n",
    " event_user_id\n",
    " \"\"\""
   ]
  },
  {
   "cell_type": "code",
   "execution_count": 317,
   "metadata": {},
   "outputs": [],
   "source": [
    "talk_page_editors_auto_deployment = hive.run(\n",
    "    talk_page_editor_query.format(\n",
    "        hive_snapshot = HIVE_SNAPSHOT,\n",
    "        START_OF_DATA= START_OF_DATA,\n",
    "        END_OF_DATA=END_OF_DATA\n",
    "    )\n",
    ")"
   ]
  },
  {
   "cell_type": "code",
   "execution_count": 318,
   "metadata": {},
   "outputs": [
    {
     "name": "stdout",
     "output_type": "stream",
     "text": [
      "Total number of users that have edited a talk page since automatic topic subscription preference became available: 36192\n"
     ]
    }
   ],
   "source": [
    "Total_talk_page_editors_auto_deployment = talk_page_editors_auto_deployment['user_id'].count()\n",
    "print('Total number of users that have edited a talk page since automatic topic subscription preference became available:' , Total_talk_page_editors_auto_deployment) "
   ]
  },
  {
   "cell_type": "code",
   "execution_count": 319,
   "metadata": {},
   "outputs": [],
   "source": [
    "#Querying the user_properties table to find beta users that have enabled the automatic topic preference setting\n",
    "\n",
    "query='''\n",
    "WITH dt_users AS (\n",
    " SELECT\n",
    "    DISTINCT up_user AS beta_user,\n",
    "    database() AS wiki,\n",
    "    up_value AS beta_status\n",
    "FROM \n",
    "    user_properties\n",
    "WHERE \n",
    "    up_property = 'discussiontools-betaenable'\n",
    "),\n",
    "\n",
    "auto_users AS (\n",
    "SELECT\n",
    "    DISTINCT up_user AS auto_user,\n",
    "    database() AS wiki,\n",
    "    up_value AS auto_status\n",
    "FROM user_properties\n",
    "WHERE\n",
    "  up_property = 'discussiontools-autotopicsub'\n",
    "  )\n",
    "\n",
    "SELECT\n",
    " beta_user,\n",
    " beta_status,\n",
    " auto_user,\n",
    " auto_status,\n",
    " dt_users.wiki\n",
    "FROM\n",
    "    dt_users\n",
    "LEFT JOIN \n",
    "    auto_users ON\n",
    "    dt_users.beta_user = auto_users.auto_user AND\n",
    "    dt_users.wiki = auto_users.wiki\n",
    "WHERE beta_user in ({users})\n",
    "    \n",
    " '''"
   ]
  },
  {
   "cell_type": "code",
   "execution_count": 320,
   "metadata": {},
   "outputs": [],
   "source": [
    "# Looping through each wiki for the list of users \n",
    "\n",
    "wikis=talk_page_editors_auto_deployment['wiki'].unique()\n",
    "auto_preference=list()\n",
    "for wiki in wikis:\n",
    "    user_ids = talk_page_editors_auto_deployment[talk_page_editors_auto_deployment['wiki'] == wiki][\"user_id\"]\n",
    "    user_list = ','.join([str(u) for u in user_ids])\n",
    "    auto_status = mariadb.run(\n",
    "      query.format(users=user_list),\n",
    "      wiki\n",
    "    )\n",
    "    auto_preference.append(auto_status)\n",
    "\n",
    "talk_user_auto_preference_status= pd.concat(auto_preference)"
   ]
  },
  {
   "cell_type": "code",
   "execution_count": 322,
   "metadata": {},
   "outputs": [],
   "source": [
    "# replace skin field as string type for easier renaming \n",
    "talk_user_auto_preference_status['beta_status'] = talk_user_auto_preference_status['beta_status'].astype(str)\n",
    "talk_user_auto_preference_status['auto_status'] = talk_user_auto_preference_status['auto_status'].astype(str)"
   ]
  },
  {
   "cell_type": "code",
   "execution_count": 323,
   "metadata": {},
   "outputs": [],
   "source": [
    "# rename pref values to clarify\n",
    "pref_aliases = {\n",
    "    \"b\\'0\\'\":\"disabled\",\n",
    "    \"b\\'1\\'\":\"enabled\",\n",
    "}\n",
    "\n",
    "talk_user_auto_preference_status =talk_user_auto_preference_status.replace({\"beta_status\": pref_aliases})\n",
    "talk_user_auto_preference_status =talk_user_auto_preference_status.replace({\"auto_status\": pref_aliases})"
   ]
  },
  {
   "cell_type": "code",
   "execution_count": 324,
   "metadata": {},
   "outputs": [],
   "source": [
    "#refill missing columns with string types to avoid type errors\n",
    "talk_user_auto_preference_status['auto_user'] = talk_user_auto_preference_status['auto_user'].astype(str)\n",
    "talk_user_auto_preference_status['auto_status'] = talk_user_auto_preference_status['auto_status'].astype(str)"
   ]
  },
  {
   "cell_type": "code",
   "execution_count": 325,
   "metadata": {},
   "outputs": [
    {
     "name": "stdout",
     "output_type": "stream",
     "text": [
      "NULL\n"
     ]
    }
   ],
   "source": [
    "%%R  -i talk_user_auto_preference_status\n",
    "#import from global environment"
   ]
  },
  {
   "cell_type": "code",
   "execution_count": 327,
   "metadata": {},
   "outputs": [
    {
     "name": "stdout",
     "output_type": "stream",
     "text": [
      "  num_beta_users num_auto_subscribers pct_auto_users\n",
      "1           3076                  187       6.079324\n"
     ]
    }
   ],
   "source": [
    "%%R\n",
    "talk_user_auto_pref_pct <- talk_user_auto_preference_status %>%\n",
    "      filter(beta_status == 'enabled') %>% \n",
    "      summarise(num_beta_users = n(),\n",
    "                num_auto_subscribers =  sum(auto_user != \"nan\"),\n",
    "             pct_auto_users = num_auto_subscribers/num_beta_users * 100)\n",
    "    \n",
    "talk_user_auto_pref_pct \n"
   ]
  },
  {
   "cell_type": "markdown",
   "metadata": {},
   "source": [
    "### By Experience Group"
   ]
  },
  {
   "cell_type": "code",
   "execution_count": 328,
   "metadata": {},
   "outputs": [],
   "source": [
    "# join two dataframes\n",
    "talk_page_auto_pref_witheditcount = talk_page_editors_auto_deployment.merge(talk_user_auto_preference_status, \n",
    "                                               how = \"left\", left_on = [\"user_id\", \"wiki\"] , \n",
    "                                               right_on = [\"beta_user\", \"wiki\"])"
   ]
  },
  {
   "cell_type": "code",
   "execution_count": 330,
   "metadata": {},
   "outputs": [],
   "source": [
    "#refill missing columns with string types to avoid type errors\n",
    "talk_page_auto_pref_witheditcount['beta_user'] = talk_page_auto_pref_witheditcount['beta_user'].astype(str)\n",
    "talk_page_auto_pref_witheditcount['beta_status'] = talk_page_auto_pref_witheditcount['beta_status'].astype(str)\n",
    "talk_page_auto_pref_witheditcount['auto_user'] = talk_page_auto_pref_witheditcount['auto_user'].astype(str)\n",
    "talk_page_auto_pref_witheditcount['auto_status'] = talk_page_auto_pref_witheditcount['auto_status'].astype(str)"
   ]
  },
  {
   "cell_type": "code",
   "execution_count": 332,
   "metadata": {},
   "outputs": [
    {
     "name": "stderr",
     "output_type": "stream",
     "text": [
      "R[write to console]: `summarise()` ungrouping output (override with `.groups` argument)\n",
      "\n"
     ]
    },
    {
     "name": "stdout",
     "output_type": "stream",
     "text": [
      "# A tibble: 3 x 5\n",
      "  edit_count num_talk_editors num_beta_users num_auto_subscrib… pct_beta_subscr…\n",
      "  <chr>                 <int>          <int>              <int>            <dbl>\n",
      "1 100-500                3452            383                 13             3.39\n",
      "2 over 500              15482           2190                141             6.44\n",
      "3 under 100             17258            503                 33             6.56\n"
     ]
    }
   ],
   "source": [
    "%%R -i talk_page_auto_pref_witheditcount\n",
    "# import df from global environment\n",
    "\n",
    "# breakdown by experience\n",
    "talk_page_auto_pref_witheditcount_sum <- talk_page_auto_pref_witheditcount %>%\n",
    "    group_by(edit_count) %>%\n",
    "    summarise(num_talk_editors = n(),\n",
    "              num_beta_users = sum(beta_status == \"enabled\"),\n",
    "             num_auto_subscribers = sum(auto_status == \"enabled\"),\n",
    "             pct_beta_subscribed = num_auto_subscribers/num_beta_users * 100)\n",
    "\n",
    "talk_page_auto_pref_witheditcount_sum"
   ]
  },
  {
   "cell_type": "markdown",
   "metadata": {},
   "source": [
    "## [Both] Percentage of new comment notifications Junior and Senior Contributors engage with (e.g. make as read, tap a notification) within two weeks of receiving them.\n",
    "\n",
    "**Data Source**: \n",
    "* [echo_notification table](https://www.mediawiki.org/wiki/Extension:Echo/echo_notification_table?useskin=vector-2022)\n",
    "* [Echo Interfaction](https://schema.wikimedia.org/repositories//secondary/jsonschema/analytics/legacy/echointeraction/current.yaml)\n",
    "\n",
    "Notes: \n",
    "* With currently available instrumentation, we do not know the type of notification that was sent and read. As a result, I limited this analysis to contributors that have subscribed to a topic (either automatic or manual). Note: This may still include some notifications received by topic subscribers that were not sent from the topic notifications feature.\n",
    "* TODO: Will submit a ticket to add a notification type field to Echo Interaction so we can more clearly identify events sent by this feature."
   ]
  },
  {
   "cell_type": "markdown",
   "metadata": {},
   "source": [
    "We first find all notifications "
   ]
  },
  {
   "cell_type": "code",
   "execution_count": 334,
   "metadata": {},
   "outputs": [],
   "source": [
    "query = '''\n",
    "SELECT\n",
    "DATEDIFF(notification_read_timestamp, notification_timestamp) AS diff_days\n",
    "FROM\n",
    "echo_notification\n",
    "WHERE \n",
    "notification_timestamp >= 20211019000000\n",
    "'''\n"
   ]
  },
  {
   "cell_type": "code",
   "execution_count": 335,
   "metadata": {},
   "outputs": [],
   "source": [
    "notifications = mariadb.run(commands = query, dbs = wiki_list, use_x1=True, format=\"pandas\")"
   ]
  },
  {
   "cell_type": "code",
   "execution_count": 338,
   "metadata": {},
   "outputs": [
    {
     "name": "stdout",
     "output_type": "stream",
     "text": [
      "NULL\n"
     ]
    }
   ],
   "source": [
    "%%R -i notifications\n",
    "# import from global environment"
   ]
  },
  {
   "cell_type": "code",
   "execution_count": 339,
   "metadata": {},
   "outputs": [
    {
     "name": "stderr",
     "output_type": "stream",
     "text": [
      "R[write to console]: `summarise()` ungrouping output (override with `.groups` argument)\n",
      "\n"
     ]
    },
    {
     "name": "stdout",
     "output_type": "stream",
     "text": [
      "# A tibble: 3 x 3\n",
      "  time_to_engage       n  Freq\n",
      "  <chr>            <int> <dbl>\n",
      "1 over_2_weeks    261890  2.46\n",
      "2 within_2_weeks 4056886 38.2 \n",
      "3 <NA>           6311829 59.4 \n"
     ]
    }
   ],
   "source": [
    "%%R\n",
    "notification_engagement <- notifications %>%\n",
    "   mutate(time_to_engage = \n",
    "          ifelse(diff_days <= 14, \"within_2_weeks\", \"over_2_weeks\")) %>%\n",
    "    group_by(time_to_engage)  %>%\n",
    "    summarise(n = n()) %>%\n",
    "    mutate(Freq = n/sum(n) * 100)\n",
    "    \n",
    "\n",
    "notification_engagement"
   ]
  },
  {
   "cell_type": "markdown",
   "metadata": {},
   "source": [
    "38% of all notifications were sent following deployment of the manual topic subscriptions features were read within two weeks. A large percentage of notifications are not read; however, the results are not currently limited to just notifications sent with manual or automatic topic subscriptions. "
   ]
  },
  {
   "cell_type": "markdown",
   "metadata": {},
   "source": [
    "We'll next take a look at only users that are subscribed to a manual or automatic topic subscription."
   ]
  },
  {
   "cell_type": "code",
   "execution_count": 340,
   "metadata": {},
   "outputs": [],
   "source": [
    "#Querying discussiontools_subscription to find all topic subscibers\n",
    "\n",
    "query='''\n",
    "SELECT \n",
    "    database() AS wiki,\n",
    "    sub_user AS topic_subscriber,\n",
    "    COUNT(*) AS num_subscriptions\n",
    "FROM discussiontools_subscription\n",
    "GROUP BY\n",
    "    database(),\n",
    "    sub_user\n",
    "'''"
   ]
  },
  {
   "cell_type": "code",
   "execution_count": 341,
   "metadata": {},
   "outputs": [],
   "source": [
    "active_subscribers = mariadb.run(commands = query, dbs = wiki_list, use_x1=False, format=\"pandas\")"
   ]
  },
  {
   "cell_type": "code",
   "execution_count": 342,
   "metadata": {},
   "outputs": [],
   "source": [
    "#find all time to read for all notifications sent to users that are actively subscribed to a topic\n",
    "query = '''\n",
    "SELECT\n",
    "DATEDIFF(notification_read_timestamp, notification_timestamp) AS diff_days\n",
    "FROM\n",
    "echo_notification\n",
    "WHERE \n",
    "notification_user in ({users}) AND\n",
    "notification_timestamp >= 20211019000000\n",
    "'''\n",
    "\n",
    "\n"
   ]
  },
  {
   "cell_type": "code",
   "execution_count": 343,
   "metadata": {},
   "outputs": [],
   "source": [
    "# Looping through each wiki for the list of users \n",
    "\n",
    "wikis=active_subscribers['wiki'].unique()\n",
    "active_subscribers_notification=list()\n",
    "for wiki in wikis:\n",
    "    user_ids = active_subscribers[active_subscribers['wiki'] == wiki][\"topic_subscriber\"]\n",
    "    user_list = ','.join([str(u) for u in user_ids])\n",
    "    notification_status = mariadb.run(\n",
    "      query.format(users=user_list),\n",
    "      wiki,\n",
    "      use_x1 = True\n",
    "    )\n",
    "    active_subscribers_notification.append(notification_status)\n",
    "\n",
    "active_subscribers_notification_status= pd.concat(active_subscribers_notification)"
   ]
  },
  {
   "cell_type": "code",
   "execution_count": 344,
   "metadata": {},
   "outputs": [
    {
     "name": "stdout",
     "output_type": "stream",
     "text": [
      "NULL\n"
     ]
    }
   ],
   "source": [
    "%%R -i active_subscribers_notification_status\n",
    "# import from global environment"
   ]
  },
  {
   "cell_type": "code",
   "execution_count": 345,
   "metadata": {},
   "outputs": [
    {
     "name": "stderr",
     "output_type": "stream",
     "text": [
      "R[write to console]: `summarise()` ungrouping output (override with `.groups` argument)\n",
      "\n"
     ]
    },
    {
     "name": "stdout",
     "output_type": "stream",
     "text": [
      "# A tibble: 3 x 3\n",
      "  time_to_engage      n  Freq\n",
      "  <chr>           <int> <dbl>\n",
      "1 over_2_weeks    10466  2.34\n",
      "2 within_2_weeks 414061 92.5 \n",
      "3 <NA>            23249  5.19\n"
     ]
    }
   ],
   "source": [
    "%%R\n",
    "notification_engagement_subscribers <- active_subscribers_notification_status %>%\n",
    "   mutate(time_to_engage = \n",
    "          ifelse(diff_days <= 14, \"within_2_weeks\", \"over_2_weeks\")) %>%\n",
    "    group_by(time_to_engage)  %>%\n",
    "    summarise(n = n()) %>%\n",
    "    mutate(Freq = n/sum(n) * 100)\n",
    "    \n",
    "\n",
    "notification_engagement_subscribers"
   ]
  },
  {
   "cell_type": "markdown",
   "metadata": {},
   "source": [
    "Most notifications (92.5%) sent to topic subscribers (includes both manual or automatic topic subscribers) are read a notification within 2 weeks of recieving them.  "
   ]
  },
  {
   "cell_type": "markdown",
   "metadata": {},
   "source": [
    "# 3. Are people finding the topic subscription feature disruptive?"
   ]
  },
  {
   "cell_type": "markdown",
   "metadata": {},
   "source": [
    "## [Automatic] Of the people who enabled Automatic Topic Subscriptions, what percentage of people disable the feature after have been automatically subscribed to at least one conversation?\n",
    "\n",
    "Notes: \n",
    "* If a user disables the `discussiontools-autotopicsub` user property, it will disappear from their user preferences so we will need to check the absence of that property to confirm if it was disabled.\n",
    "* To calculate this metric, we first determined all users that have been automatically subscribed to a topic subscription (implying that they turned the preference on) and then reviewed the number of those users that disabled that property.\n"
   ]
  },
  {
   "cell_type": "code",
   "execution_count": 346,
   "metadata": {},
   "outputs": [],
   "source": [
    "#Querying discussiontools_subscription to determine users with automatic topic subscription \n",
    "\n",
    "query='''\n",
    "SELECT \n",
    "    database() AS wiki,\n",
    "    sub_user AS topic_subscriber,\n",
    "    COUNT(*) As num_subscriptions\n",
    "FROM discussiontools_subscription\n",
    "WHERE \n",
    "-- automatic topic subscriptions\n",
    "    sub_state = 2\n",
    "GROUP BY\n",
    "    database(),\n",
    "    sub_user\n",
    "'''"
   ]
  },
  {
   "cell_type": "code",
   "execution_count": 347,
   "metadata": {},
   "outputs": [],
   "source": [
    "auto_topic_users = mariadb.run(commands = query, dbs = wiki_list, use_x1=False, format=\"pandas\")"
   ]
  },
  {
   "cell_type": "code",
   "execution_count": 348,
   "metadata": {},
   "outputs": [
    {
     "name": "stdout",
     "output_type": "stream",
     "text": [
      "Total number of subscribers for whom we will be checking auto topic subscription status: 259\n"
     ]
    }
   ],
   "source": [
    "Total_auto_topic_users= auto_topic_users['topic_subscriber'].count()\n",
    "print('Total number of subscribers for whom we will be checking auto topic subscription status:' , Total_auto_topic_users) "
   ]
  },
  {
   "cell_type": "markdown",
   "metadata": {},
   "source": [
    "There are 259 distinct users that are automatically subscribed to a topic notification.  Now we will check if any of those users do not have the 'discussiontools-autotopicsub' property set in their preferences indicating that they explicitly disabled the preference."
   ]
  },
  {
   "cell_type": "code",
   "execution_count": 349,
   "metadata": {},
   "outputs": [],
   "source": [
    "#Querying the user_properties table  to find past auto subscribers that have the feature still in their preferences\n",
    "\n",
    "query='''\n",
    " SELECT\n",
    "    DISTINCT up_user AS auto_user,\n",
    "    up_value AS auto_status,\n",
    "    database() AS wiki\n",
    "FROM user_properties\n",
    "    WHERE \n",
    "    up_property = 'discussiontools-autotopicsub'   \n",
    " '''"
   ]
  },
  {
   "cell_type": "code",
   "execution_count": 350,
   "metadata": {},
   "outputs": [],
   "source": [
    "auto_topic_subscribers = mariadb.run(commands = query, dbs = wiki_list, use_x1=False, format=\"pandas\")"
   ]
  },
  {
   "cell_type": "code",
   "execution_count": 353,
   "metadata": {},
   "outputs": [],
   "source": [
    "# join two dataframes\n",
    "auto_topic_subscribers_disabled = auto_topic_users.merge(auto_topic_subscribers, \n",
    "                                               how = \"left\", left_on = [\"topic_subscriber\", \"wiki\"] , \n",
    "                                               right_on = [\"auto_user\", \"wiki\"])"
   ]
  },
  {
   "cell_type": "code",
   "execution_count": 355,
   "metadata": {},
   "outputs": [],
   "source": [
    "#refill missing columns with string types to avoid type errors\n",
    "auto_topic_subscribers_disabled['auto_user'] = auto_topic_subscribers_disabled['auto_user'].astype(str)\n",
    "auto_topic_subscribers_disabled['auto_status'] = auto_topic_subscribers_disabled['auto_status'].astype(str)"
   ]
  },
  {
   "cell_type": "code",
   "execution_count": 356,
   "metadata": {},
   "outputs": [
    {
     "name": "stdout",
     "output_type": "stream",
     "text": [
      "NULL\n"
     ]
    }
   ],
   "source": [
    "%%R -i auto_topic_subscribers_disabled\n",
    "# import from global environment"
   ]
  },
  {
   "cell_type": "code",
   "execution_count": 358,
   "metadata": {},
   "outputs": [
    {
     "name": "stdout",
     "output_type": "stream",
     "text": [
      "  auto_subscribers auto_disabled pct_disabled\n",
      "1              259            61     23.55212\n"
     ]
    }
   ],
   "source": [
    "%%R\n",
    "auto_topic_subscribers_disabled_pct <- auto_topic_subscribers_disabled %>%\n",
    "    summarise(auto_subscribers = n(),\n",
    "             auto_disabled = sum(auto_user == \"nan\"),\n",
    "              pct_disabled = auto_disabled/auto_subscribers * 100)\n",
    "\n",
    "auto_topic_subscribers_disabled_pct"
   ]
  },
  {
   "cell_type": "markdown",
   "metadata": {},
   "source": [
    "23% of users disabled the automatic topic subscription preference in their user properties after being automatically subscribed to a topic. "
   ]
  },
  {
   "cell_type": "markdown",
   "metadata": {},
   "source": [
    "## [Both] Sudden increase in the average number of notifications sent per person, per day\n",
    "\n",
    "**Data Source**: [echo_notification table](https://www.mediawiki.org/wiki/Extension:Echo/echo_notification_table?useskin=vector-2022)\n"
   ]
  },
  {
   "cell_type": "code",
   "execution_count": 186,
   "metadata": {},
   "outputs": [],
   "source": [
    "query = '''\n",
    "SELECT\n",
    "notification_user,\n",
    "notification_timestamp AS time_sent,\n",
    "COUNT(notification_event) AS num_notifications\n",
    "FROM\n",
    "echo_notification\n",
    "WHERE \n",
    "-- review several months before and after deployment\n",
    "notification_timestamp >= 20210801000000\n",
    "GROUP BY\n",
    "notification_user,\n",
    "notification_timestamp\n",
    "'''"
   ]
  },
  {
   "cell_type": "code",
   "execution_count": 187,
   "metadata": {},
   "outputs": [],
   "source": [
    "notifications_sent = mariadb.run(commands = query, dbs = wiki_list, use_x1=True, format=\"pandas\")"
   ]
  },
  {
   "cell_type": "code",
   "execution_count": 188,
   "metadata": {},
   "outputs": [
    {
     "name": "stdout",
     "output_type": "stream",
     "text": [
      "NULL\n"
     ]
    }
   ],
   "source": [
    "%%R -i notifications_sent\n",
    "# import from global environment"
   ]
  },
  {
   "cell_type": "code",
   "execution_count": 189,
   "metadata": {},
   "outputs": [],
   "source": [
    "%%R\n",
    "# convert time sent to date time\n",
    "notifications_sent$time_sent <- as.Date(notifications_sent$time_sent, format = \"%Y%m%d%H%M%S\")"
   ]
  },
  {
   "cell_type": "code",
   "execution_count": 190,
   "metadata": {},
   "outputs": [
    {
     "name": "stderr",
     "output_type": "stream",
     "text": [
      "R[write to console]: `summarise()` regrouping output by 'notification_user' (override with `.groups` argument)\n",
      "\n",
      "R[write to console]: `summarise()` ungrouping output (override with `.groups` argument)\n",
      "\n"
     ]
    },
    {
     "name": "stdout",
     "output_type": "stream",
     "text": [
      "# A tibble: 6 x 2\n",
      "  time_sent  avg_daily_notifications\n",
      "  <date>                       <dbl>\n",
      "1 2021-08-01                    2.01\n",
      "2 2021-08-02                    2.05\n",
      "3 2021-08-03                    1.95\n",
      "4 2021-08-04                    2.21\n",
      "5 2021-08-05                    1.90\n",
      "6 2021-08-06                    2.15\n"
     ]
    }
   ],
   "source": [
    "%%R\n",
    "# calculate avg notifications sent per user per day\n",
    "notifications_sent_byday <- notifications_sent %>%\n",
    "    group_by(notification_user, time_sent) %>%\n",
    "    summarise(n_notifications = sum(num_notifications)) %>%\n",
    "    group_by(time_sent)  %>%\n",
    "    summarise(avg_daily_notifications = mean(n_notifications))\n",
    " \n",
    "    \n",
    "head(notifications_sent_byday)"
   ]
  },
  {
   "cell_type": "code",
   "execution_count": 191,
   "metadata": {},
   "outputs": [
    {
     "data": {
      "image/png": "[encoded data removed]"
     },
     "metadata": {},
     "output_type": "display_data"
    }
   ],
   "source": [
    "%%R -w 900 -h 600\n",
    "# plot average notifications\n",
    "\n",
    "textaes <- data.frame(y = c(2.7,2.7, 2.7),\n",
    "                      x = as.Date(c('2021-09-20','2021-11-29','2022-02-10')),\n",
    "                      lab = c(\"Manual topic subscriptions available \\n  at all Wikpedias \\n except English Wiki\",\n",
    "                          \"Manual topic subscriptions available \\n  at all Wikis\", \n",
    "                              \"Automatic topic subscriptions available \\n at most Wikis\"))\n",
    "\n",
    " p <- notifications_sent_byday %>%   \n",
    "    ggplot(aes(x= time_sent, y = avg_daily_notifications)) +\n",
    "    geom_line(size = 1.2, color = 'blue') +\n",
    "    geom_vline(xintercept = as.Date('2021-08-25'), linetype = 'dashed', size = 1) +\n",
    "    geom_vline(xintercept = as.Date('2021-10-19'), linetype = 'dashed', size = 1) +\n",
    "    geom_vline(xintercept = as.Date('2022-01-13'), linetype = 'dashed', size = 1) +\n",
    "    geom_text(mapping = aes(y = y, x = x, label = lab), \n",
    "            data = textaes, inherit.aes = FALSE, size = 4) +\n",
    "    scale_x_date(date_labels = \"%d-%b\", date_breaks = \"1 week\", minor_breaks = NULL) +\n",
    "    labs (y = \"Average number of notifications sent per user\",\n",
    "          x = \"Date\",\n",
    "         title = \"Average daily notifications sent per user per day\",\n",
    "         subtitle = \"13 September 2021 through 2 March 2022\")  +\n",
    "    ylim(0,2.9)+\n",
    "     theme_bw() +\n",
    "   theme(legend.position = \"bottom\",\n",
    "        axis.text.x=element_text(angle = 45, hjust = 1),\n",
    "        plot.title = element_text(hjust = 0.5)) \n",
    "\n",
    "ggsave(\"Figures/avg_daily_topic_notifications.png\", p, width = 16, height = 8, units = \"in\", dpi = 300)\n",
    "p"
   ]
  },
  {
   "cell_type": "code",
   "execution_count": 213,
   "metadata": {},
   "outputs": [
    {
     "name": "stdout",
     "output_type": "stream",
     "text": [
      "   time_sent          avg_daily_notifications\n",
      " Min.   :2021-08-01   Min.   :1.498          \n",
      " 1st Qu.:2021-09-23   1st Qu.:1.965          \n",
      " Median :2021-11-15   Median :2.077          \n",
      " Mean   :2021-11-15   Mean   :2.088          \n",
      " 3rd Qu.:2022-01-07   3rd Qu.:2.182          \n",
      " Max.   :2022-03-01   Max.   :2.844          \n"
     ]
    }
   ],
   "source": [
    "%%R\n",
    "summary(notifications_sent_byday)"
   ]
  },
  {
   "cell_type": "markdown",
   "metadata": {},
   "source": [
    "The average number of notifications sent per day has remained stable with the highest daily average of 2.8 notifications per user on 20 August 2021 (two days after manual topic notifications was deployed to Commons and Wikidata) and the lowest daily average of 1.5 notifications per user on 23 November 2021 (several weeks after manual topic notifications were available at all Wikis).\n"
   ]
  },
  {
   "cell_type": "code",
   "execution_count": 212,
   "metadata": {},
   "outputs": [
    {
     "name": "stderr",
     "output_type": "stream",
     "text": [
      "R[write to console]: `summarise()` regrouping output by 'notification_user' (override with `.groups` argument)\n",
      "\n"
     ]
    },
    {
     "name": "stdout",
     "output_type": "stream",
     "text": [
      " notification_user    time_sent          n_notifications   \n",
      " Min.   :       1   Min.   :2021-08-01   Min.   :   1.000  \n",
      " 1st Qu.:  571354   1st Qu.:2021-09-22   1st Qu.:   1.000  \n",
      " Median : 2194407   Median :2021-11-17   Median :   1.000  \n",
      " Mean   :10613844   Mean   :2021-11-16   Mean   :   2.082  \n",
      " 3rd Qu.:10906702   3rd Qu.:2022-01-11   3rd Qu.:   2.000  \n",
      " Max.   :73403068   Max.   :2022-03-01   Max.   :2002.000  \n"
     ]
    }
   ],
   "source": [
    "%%R\n",
    "# total notifications\n",
    "notifications_sent_byday_total <- notifications_sent %>%\n",
    "    group_by(notification_user, time_sent) %>%\n",
    "    summarise(n_notifications = sum(num_notifications))\n",
    "    \n",
    "summary(notifications_sent_byday_total)"
   ]
  },
  {
   "cell_type": "code",
   "execution_count": 363,
   "metadata": {},
   "outputs": [
    {
     "data": {
      "image/png": "[encoded data removed]"
     },
     "metadata": {},
     "output_type": "display_data"
    }
   ],
   "source": [
    "%%R -w 900 -h 600\n",
    "# quick histogram to look at distribution of notificatons\n",
    "p <- ggplot(notifications_sent_byday_total, aes(x=n_notifications)) + \n",
    "    geom_histogram(binwidth=50, color = 'darkblue') + \n",
    "        labs (y = \"Distribution of total daily notifications sent per user\",\n",
    "          x = \"Number of users\",\n",
    "         title = \"Distribution of total daily notifications sent per user\",\n",
    "         subtitle = \"13 September 2021 through 2 March 2022\")  +\n",
    "     theme_bw() +\n",
    "   theme(legend.position = \"bottom\",\n",
    "        axis.text.x=element_text(angle = 45, hjust = 1),\n",
    "        plot.title = element_text(hjust = 0.5))\n",
    "    \n",
    "p"
   ]
  },
  {
   "cell_type": "markdown",
   "metadata": {},
   "source": [
    "Looking at the total number of notifications sent per user, the majority of users just receive 1 notification per day with a few outlier cases. There are 49 users that recieve more than 1000 notifications a day (less than 0.01% of all users that receive a notification)."
   ]
  },
  {
   "cell_type": "markdown",
   "metadata": {},
   "source": [
    "## [Both] Percent of contributors that receive notifications and turn them off (read: change their preferences).\n",
    "\n",
    "**Data Source**: Need to combine echo_notification database with user_properties table.\n",
    "\n",
    "Note: \n",
    "* We are unable to review only notifications sent by the topic notifications feature. Instead, we  limited the analysis to notifications sent to users that subscribed to a topic. \n",
    "* We only instances where the contributors both received and read the notification.\n"
   ]
  },
  {
   "cell_type": "markdown",
   "metadata": {},
   "source": [
    "### Find users that turned off the manual topic subscription property.\n",
    "\n",
    "Notes: The manual topic subscription preference is not recorded when the user opts into the beta preference as it is enabled by default. It only shows when disabled."
   ]
  },
  {
   "cell_type": "markdown",
   "metadata": {},
   "source": [
    "First we find all users that have manually subscribed to a topic and recieved a notification."
   ]
  },
  {
   "cell_type": "code",
   "execution_count": 365,
   "metadata": {},
   "outputs": [],
   "source": [
    "# find all users that receive notifications and read them\n",
    "\n",
    "query = '''\n",
    "SELECT\n",
    "database() AS wiki,\n",
    "notification_user,\n",
    "COUNT(notification_event) AS num_notifications\n",
    "FROM\n",
    "echo_notification\n",
    "WHERE \n",
    "notification_user in ({users})\n",
    "AND notification_timestamp >= 20211019000000\n",
    "AND notification_read_timestamp IS NOT NULL\n",
    "GROUP BY\n",
    "database(),\n",
    "notification_user\n",
    "'''"
   ]
  },
  {
   "cell_type": "code",
   "execution_count": 366,
   "metadata": {},
   "outputs": [],
   "source": [
    "# Looping through each wiki to identify topic subscribers that recieved notifications\n",
    "\n",
    "wikis=active_subscribers['wiki'].unique()\n",
    "active_subscribers_notification=list()\n",
    "for wiki in wikis:\n",
    "    user_ids = active_subscribers[active_subscribers['wiki'] == wiki][\"topic_subscriber\"]\n",
    "    user_list = ','.join([str(u) for u in user_ids])\n",
    "    notification_status = mariadb.run(\n",
    "      query.format(users=user_list),\n",
    "      wiki,\n",
    "      use_x1 = True\n",
    "    )\n",
    "    active_subscribers_notification.append(notification_status)\n",
    "\n",
    "subscribers_notification_status= pd.concat(active_subscribers_notification)"
   ]
  },
  {
   "cell_type": "code",
   "execution_count": 367,
   "metadata": {},
   "outputs": [],
   "source": [
    "# find users that disabled the preference\n",
    "query='''\n",
    " SELECT\n",
    "    up_user AS topic_user,\n",
    "    up_value AS topic_preference,\n",
    "    database() AS wiki\n",
    "FROM user_properties\n",
    "    WHERE \n",
    "    up_property = \"discussiontools-topicsubscription\"\n",
    " '''"
   ]
  },
  {
   "cell_type": "code",
   "execution_count": 368,
   "metadata": {},
   "outputs": [],
   "source": [
    "topic_subscribers = mariadb.run(commands = query, dbs = wiki_list, use_x1=False, format=\"pandas\")"
   ]
  },
  {
   "cell_type": "code",
   "execution_count": 370,
   "metadata": {},
   "outputs": [],
   "source": [
    "# replace skin field as string type for easier renaming \n",
    "topic_subscribers['topic_preference'] = topic_subscribers['topic_preference'].astype(str)\n"
   ]
  },
  {
   "cell_type": "code",
   "execution_count": 371,
   "metadata": {},
   "outputs": [],
   "source": [
    "# rename pref values to clarify\n",
    "pref_aliases = {\n",
    "    \"b\\'0\\'\":\"disabled\",\n",
    "    \"b\\'1\\'\":\"enabled\",\n",
    "}\n",
    "\n",
    "topic_subscribers =topic_subscribers.replace({\"topic_preference\": pref_aliases})"
   ]
  },
  {
   "cell_type": "code",
   "execution_count": 373,
   "metadata": {},
   "outputs": [],
   "source": [
    "# join two dataframes\n",
    "notification_users_disabled = subscribers_notification_status.merge(topic_subscribers, \n",
    "                                               how = \"left\", left_on = [\"notification_user\", \"wiki\"] , \n",
    "                                               right_on = [\"topic_user\", \"wiki\"])"
   ]
  },
  {
   "cell_type": "code",
   "execution_count": 374,
   "metadata": {},
   "outputs": [],
   "source": [
    "#refill missing columns with string types to avoid type errors\n",
    "notification_users_disabled['topic_user'] = notification_users_disabled['topic_user'].astype(str)\n",
    "notification_users_disabled['topic_preference'] = notification_users_disabled['topic_preference'].astype(str)"
   ]
  },
  {
   "cell_type": "code",
   "execution_count": 375,
   "metadata": {},
   "outputs": [
    {
     "name": "stdout",
     "output_type": "stream",
     "text": [
      "NULL\n"
     ]
    }
   ],
   "source": [
    "%%R -i notification_users_disabled\n",
    "# import from global environment"
   ]
  },
  {
   "cell_type": "code",
   "execution_count": 376,
   "metadata": {},
   "outputs": [
    {
     "name": "stdout",
     "output_type": "stream",
     "text": [
      "  notification_users topic_disabled pct_disabled\n",
      "1               2925             15    0.5128205\n"
     ]
    }
   ],
   "source": [
    "%%R\n",
    "#Find percent of all users that received a notification and disabled the feature\n",
    "notification_users_disabled_disabled_pct <- notification_users_disabled %>%\n",
    "    summarise(notification_users = n(),\n",
    "             topic_disabled = sum(topic_user != \"nan\"), #disabled if the feature is present\n",
    "              pct_disabled = topic_disabled/notification_users * 100)\n",
    "\n",
    "notification_users_disabled_disabled_pct"
   ]
  },
  {
   "cell_type": "markdown",
   "metadata": {},
   "source": [
    "0.5% of all users that subscribed to and recieved a notification explicitly disabled the manual topic subscription feature."
   ]
  },
  {
   "cell_type": "markdown",
   "metadata": {},
   "source": [
    "### Find users that turned off the automatic topic subscription property\n",
    "\n",
    "Note: \n",
    "* The automatic topic subscription preference is only recorded when the user turns on the preference. It does not appear when it is disabled. \n",
    "* I only reviewed the time frame since the automatic topic subscription was available as a beta feature (2022 January 13)"
   ]
  },
  {
   "cell_type": "code",
   "execution_count": 392,
   "metadata": {},
   "outputs": [],
   "source": [
    "# find all users that receive notifications and read them since auto topic subscription deplyoment\n",
    "\n",
    "query = '''\n",
    "SELECT\n",
    "database() AS wiki,\n",
    "notification_user,\n",
    "COUNT(notification_event) AS num_notifications\n",
    "FROM\n",
    "echo_notification\n",
    "WHERE \n",
    "notification_user in ({users})\n",
    "AND notification_timestamp >= 20220113000000\n",
    "AND notification_read_timestamp IS NOT NULL\n",
    "GROUP BY\n",
    "database(),\n",
    "notification_user\n",
    "'''"
   ]
  },
  {
   "cell_type": "code",
   "execution_count": 393,
   "metadata": {},
   "outputs": [],
   "source": [
    "# Looping through each wiki to identify auto topic subscribers that recieved notifications\n",
    "\n",
    "wikis=auto_topic_users['wiki'].unique()\n",
    "auto_subscribers_notification=list()\n",
    "for wiki in wikis:\n",
    "    user_ids = auto_topic_users[auto_topic_users['wiki'] == wiki][\"topic_subscriber\"]\n",
    "    user_list = ','.join([str(u) for u in user_ids])\n",
    "    notification_status = mariadb.run(\n",
    "      query.format(users=user_list),\n",
    "      wiki,\n",
    "      use_x1 = True\n",
    "    )\n",
    "    auto_subscribers_notification.append(notification_status)\n",
    "\n",
    "auto_subscribers_notification_status= pd.concat(auto_subscribers_notification)"
   ]
  },
  {
   "cell_type": "code",
   "execution_count": 394,
   "metadata": {},
   "outputs": [],
   "source": [
    "#Querying the user_properties table to find past auto subscribers that have the feature still in their preferences\n",
    "\n",
    "query='''\n",
    " SELECT\n",
    "    DISTINCT up_user AS auto_user,\n",
    "    up_value AS auto_status,\n",
    "    database() AS wiki\n",
    "FROM user_properties\n",
    "    WHERE \n",
    "    up_property = 'discussiontools-autotopicsub'   \n",
    " '''"
   ]
  },
  {
   "cell_type": "code",
   "execution_count": 395,
   "metadata": {},
   "outputs": [],
   "source": [
    "auto_topic_subscribers = mariadb.run(commands = query, dbs = wiki_list, use_x1=False, format=\"pandas\")"
   ]
  },
  {
   "cell_type": "code",
   "execution_count": 397,
   "metadata": {},
   "outputs": [],
   "source": [
    "# replace skin field as string type for easier renaming \n",
    "auto_topic_subscribers['auto_status'] = auto_topic_subscribers['auto_status'].astype(str)\n"
   ]
  },
  {
   "cell_type": "code",
   "execution_count": 398,
   "metadata": {},
   "outputs": [],
   "source": [
    "# rename pref values to clarify\n",
    "pref_aliases = {\n",
    "    \"b\\'0\\'\":\"disabled\",\n",
    "    \"b\\'1\\'\":\"enabled\",\n",
    "}\n",
    "\n",
    "auto_topic_subscribers =auto_topic_subscribers.replace({\"auto_status\": pref_aliases})"
   ]
  },
  {
   "cell_type": "code",
   "execution_count": 400,
   "metadata": {},
   "outputs": [],
   "source": [
    "# join two dataframes\n",
    "auto_notification_users_disabled = auto_subscribers_notification_status.merge(auto_topic_subscribers, \n",
    "                                               how = \"left\", left_on = [\"notification_user\", \"wiki\"] , \n",
    "                                               right_on = [\"auto_user\", \"wiki\"])"
   ]
  },
  {
   "cell_type": "code",
   "execution_count": 402,
   "metadata": {},
   "outputs": [],
   "source": [
    "#refill missing columns with string types to avoid type errors\n",
    "auto_notification_users_disabled['auto_user'] = auto_notification_users_disabled['auto_user'].astype(str)\n",
    "auto_notification_users_disabled['auto_status'] = auto_notification_users_disabled['auto_status'].astype(str)"
   ]
  },
  {
   "cell_type": "code",
   "execution_count": 403,
   "metadata": {},
   "outputs": [
    {
     "name": "stdout",
     "output_type": "stream",
     "text": [
      "NULL\n"
     ]
    }
   ],
   "source": [
    "%%R -i auto_notification_users_disabled\n",
    "# import from global environment"
   ]
  },
  {
   "cell_type": "code",
   "execution_count": 404,
   "metadata": {},
   "outputs": [
    {
     "name": "stdout",
     "output_type": "stream",
     "text": [
      "  notification_users auto_disabled pct_disabled\n",
      "1                207            38     18.35749\n"
     ]
    }
   ],
   "source": [
    "%%R\n",
    "#Find percent of all users that received a notification and disabled the feature\n",
    "auto_notification_users_disabled_pct <- auto_notification_users_disabled %>%\n",
    "    summarise(notification_users = n(),\n",
    "             auto_disabled = sum(auto_user == \"nan\"), # diabled if the feature is not present\n",
    "              pct_disabled = auto_disabled/notification_users * 100)\n",
    "\n",
    "auto_notification_users_disabled_pct"
   ]
  },
  {
   "cell_type": "markdown",
   "metadata": {},
   "source": [
    "18% of automatic topic notification users that received and read a notification disabled the topic preference in their preferences."
   ]
  }
 ],
 "metadata": {
  "kernelspec": {
   "display_name": "Python 3",
   "language": "python",
   "name": "python3"
  },
  "language_info": {
   "codemirror_mode": {
    "name": "ipython",
    "version": 3
   },
   "file_extension": ".py",
   "mimetype": "text/x-python",
   "name": "python",
   "nbconvert_exporter": "python",
   "pygments_lexer": "ipython3",
   "version": "3.7.8"
  }
 },
 "nbformat": 4,
 "nbformat_minor": 4
}
