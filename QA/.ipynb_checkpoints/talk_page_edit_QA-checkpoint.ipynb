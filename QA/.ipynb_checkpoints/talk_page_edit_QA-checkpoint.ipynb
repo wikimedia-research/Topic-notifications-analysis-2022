{
 "cells": [
  {
   "cell_type": "markdown",
   "metadata": {},
   "source": [
    "# Talk Page Edit Schema QA\n",
    "[TASK](https://phabricator.wikimedia.org/T286076)\n",
    "\n",
    "[Add distinct event to talk_page_edit for when a new section is added](https://phabricator.wikimedia.org/T301496)"
   ]
  },
  {
   "cell_type": "markdown",
   "metadata": {},
   "source": [
    "# Upload Data"
   ]
  },
  {
   "cell_type": "code",
   "execution_count": 7,
   "metadata": {},
   "outputs": [],
   "source": [
    "shhh <- function(expr) suppressPackageStartupMessages(suppressWarnings(suppressMessages(expr)))\n",
    "shhh({\n",
    "    library(tidyverse); library(glue); library(lubridate); library(scales)\n",
    "})"
   ]
  },
  {
   "cell_type": "code",
   "execution_count": 1,
   "metadata": {},
   "outputs": [],
   "source": [
    "# Collect talk page edit events\n",
    "\n",
    "query <-\n",
    "\"SELECT\n",
    " component_type,\n",
    " topic_id,\n",
    " comment_parent_id,\n",
    "comment_id,\n",
    "page_namespace,\n",
    "performer.user_id As `user`,\n",
    "performer.user_is_anonymous As is_anon,\n",
    "revision_id,\n",
    "session_id,\n",
    "integration,\n",
    "action,\n",
    "performer.user_edit_count As edit_count,\n",
    "performer.user_edit_count_bucket As edit_count_bucket,\n",
    "`database`,\n",
    "meta.dt\n",
    "FROM\n",
    "event.mediawiki_talk_page_edit\n",
    "WHERE\n",
    "-- since deployment of the patch to add heading component type\n",
    "    year = 2022 \n",
    "    AND month = 02\n",
    "    AND day >=18\n",
    "\""
   ]
  },
  {
   "cell_type": "code",
   "execution_count": 2,
   "metadata": {},
   "outputs": [
    {
     "name": "stderr",
     "output_type": "stream",
     "text": [
      "Don't forget to authenticate with Kerberos using kinit\n",
      "\n"
     ]
    }
   ],
   "source": [
    "collect_talk_events <-  wmfdata::query_hive(query)"
   ]
  },
  {
   "cell_type": "code",
   "execution_count": 5,
   "metadata": {},
   "outputs": [],
   "source": [
    "collect_talk_events$dt <- as.Date(collect_talk_events$dt, format = \"%Y-%m-%d\")"
   ]
  },
  {
   "cell_type": "code",
   "execution_count": 8,
   "metadata": {},
   "outputs": [
    {
     "data": {
      "text/html": [
       "<table>\n",
       "<caption>A grouped_df: 5 × 2</caption>\n",
       "<thead>\n",
       "\t<tr><th scope=col>dt</th><th scope=col>n</th></tr>\n",
       "\t<tr><th scope=col>&lt;date&gt;</th><th scope=col>&lt;int&gt;</th></tr>\n",
       "</thead>\n",
       "<tbody>\n",
       "\t<tr><td>2022-02-18</td><td>4241</td></tr>\n",
       "\t<tr><td>2022-02-19</td><td>3808</td></tr>\n",
       "\t<tr><td>2022-02-20</td><td>3832</td></tr>\n",
       "\t<tr><td>2022-02-21</td><td>4464</td></tr>\n",
       "\t<tr><td>2022-02-22</td><td>2573</td></tr>\n",
       "</tbody>\n",
       "</table>\n"
      ],
      "text/latex": [
       "A grouped\\_df: 5 × 2\n",
       "\\begin{tabular}{ll}\n",
       " dt & n\\\\\n",
       " <date> & <int>\\\\\n",
       "\\hline\n",
       "\t 2022-02-18 & 4241\\\\\n",
       "\t 2022-02-19 & 3808\\\\\n",
       "\t 2022-02-20 & 3832\\\\\n",
       "\t 2022-02-21 & 4464\\\\\n",
       "\t 2022-02-22 & 2573\\\\\n",
       "\\end{tabular}\n"
      ],
      "text/markdown": [
       "\n",
       "A grouped_df: 5 × 2\n",
       "\n",
       "| dt &lt;date&gt; | n &lt;int&gt; |\n",
       "|---|---|\n",
       "| 2022-02-18 | 4241 |\n",
       "| 2022-02-19 | 3808 |\n",
       "| 2022-02-20 | 3832 |\n",
       "| 2022-02-21 | 4464 |\n",
       "| 2022-02-22 | 2573 |\n",
       "\n"
      ],
      "text/plain": [
       "  dt         n   \n",
       "1 2022-02-18 4241\n",
       "2 2022-02-19 3808\n",
       "3 2022-02-20 3832\n",
       "4 2022-02-21 4464\n",
       "5 2022-02-22 2573"
      ]
     },
     "metadata": {},
     "output_type": "display_data"
    }
   ],
   "source": [
    "daily_events <-  collect_talk_events %>%\n",
    "    group_by(dt) %>%\n",
    "    count() %>%\n",
    "    arrange(dt)\n",
    "\n",
    "daily_events"
   ]
  },
  {
   "cell_type": "markdown",
   "metadata": {},
   "source": [
    "We start recording events on November 3rd, which is when the change was deployed. "
   ]
  },
  {
   "cell_type": "code",
   "execution_count": 9,
   "metadata": {},
   "outputs": [
    {
     "data": {
      "text/html": [
       "<table>\n",
       "<caption>A data.frame: 1 × 1</caption>\n",
       "<thead>\n",
       "\t<tr><th scope=col>total_events</th></tr>\n",
       "\t<tr><th scope=col>&lt;int&gt;</th></tr>\n",
       "</thead>\n",
       "<tbody>\n",
       "\t<tr><td>18918</td></tr>\n",
       "</tbody>\n",
       "</table>\n"
      ],
      "text/latex": [
       "A data.frame: 1 × 1\n",
       "\\begin{tabular}{l}\n",
       " total\\_events\\\\\n",
       " <int>\\\\\n",
       "\\hline\n",
       "\t 18918\\\\\n",
       "\\end{tabular}\n"
      ],
      "text/markdown": [
       "\n",
       "A data.frame: 1 × 1\n",
       "\n",
       "| total_events &lt;int&gt; |\n",
       "|---|\n",
       "| 18918 |\n",
       "\n"
      ],
      "text/plain": [
       "  total_events\n",
       "1 18918       "
      ]
     },
     "metadata": {},
     "output_type": "display_data"
    }
   ],
   "source": [
    "talk_events_total <- collect_talk_events %>%\n",
    "    summarise(total_events = n())\n",
    "\n",
    "talk_events_total"
   ]
  },
  {
   "cell_type": "markdown",
   "metadata": {},
   "source": [
    "# Count Distinct Logged-In Users"
   ]
  },
  {
   "cell_type": "code",
   "execution_count": 10,
   "metadata": {},
   "outputs": [
    {
     "data": {
      "text/html": [
       "<table>\n",
       "<caption>A data.frame: 1 × 1</caption>\n",
       "<thead>\n",
       "\t<tr><th scope=col>unique_users</th></tr>\n",
       "\t<tr><th scope=col>&lt;int&gt;</th></tr>\n",
       "</thead>\n",
       "<tbody>\n",
       "\t<tr><td>5533</td></tr>\n",
       "</tbody>\n",
       "</table>\n"
      ],
      "text/latex": [
       "A data.frame: 1 × 1\n",
       "\\begin{tabular}{l}\n",
       " unique\\_users\\\\\n",
       " <int>\\\\\n",
       "\\hline\n",
       "\t 5533\\\\\n",
       "\\end{tabular}\n"
      ],
      "text/markdown": [
       "\n",
       "A data.frame: 1 × 1\n",
       "\n",
       "| unique_users &lt;int&gt; |\n",
       "|---|\n",
       "| 5533 |\n",
       "\n"
      ],
      "text/plain": [
       "  unique_users\n",
       "1 5533        "
      ]
     },
     "metadata": {},
     "output_type": "display_data"
    }
   ],
   "source": [
    "# Number of logged in users\n",
    "talk_users_unique <- collect_talk_events %>%\n",
    "    filter(is_anon == 'false') %>%\n",
    "    summarise(unique_users = n_distinct(user))\n",
    "\n",
    "talk_users_unique"
   ]
  },
  {
   "cell_type": "markdown",
   "metadata": {},
   "source": [
    "# Logged Out User Check"
   ]
  },
  {
   "cell_type": "code",
   "execution_count": 11,
   "metadata": {},
   "outputs": [
    {
     "data": {
      "text/html": [
       "<table>\n",
       "<caption>A data.frame: 1 × 1</caption>\n",
       "<thead>\n",
       "\t<tr><th scope=col>n_events</th></tr>\n",
       "\t<tr><th scope=col>&lt;int&gt;</th></tr>\n",
       "</thead>\n",
       "<tbody>\n",
       "\t<tr><td>834</td></tr>\n",
       "</tbody>\n",
       "</table>\n"
      ],
      "text/latex": [
       "A data.frame: 1 × 1\n",
       "\\begin{tabular}{l}\n",
       " n\\_events\\\\\n",
       " <int>\\\\\n",
       "\\hline\n",
       "\t 834\\\\\n",
       "\\end{tabular}\n"
      ],
      "text/markdown": [
       "\n",
       "A data.frame: 1 × 1\n",
       "\n",
       "| n_events &lt;int&gt; |\n",
       "|---|\n",
       "| 834 |\n",
       "\n"
      ],
      "text/plain": [
       "  n_events\n",
       "1 834     "
      ]
     },
     "metadata": {},
     "output_type": "display_data"
    }
   ],
   "source": [
    "talk_users_anon <- collect_talk_events %>%\n",
    "    filter(is_anon == 'true'| user == 0 ) %>%\n",
    "   summarise( n_events = n())\n",
    "\n",
    "talk_users_anon"
   ]
  },
  {
   "cell_type": "markdown",
   "metadata": {},
   "source": [
    "We are now logging logged out events"
   ]
  },
  {
   "cell_type": "markdown",
   "metadata": {},
   "source": [
    "# User Edit Count Check"
   ]
  },
  {
   "cell_type": "code",
   "execution_count": 12,
   "metadata": {},
   "outputs": [
    {
     "name": "stderr",
     "output_type": "stream",
     "text": [
      "`summarise()` ungrouping output (override with `.groups` argument)\n",
      "\n"
     ]
    },
    {
     "data": {
      "text/html": [
       "<table>\n",
       "<caption>A tibble: 5 × 2</caption>\n",
       "<thead>\n",
       "\t<tr><th scope=col>edit_count_bucket</th><th scope=col>total_events</th></tr>\n",
       "\t<tr><th scope=col>&lt;chr&gt;</th><th scope=col>&lt;int&gt;</th></tr>\n",
       "</thead>\n",
       "<tbody>\n",
       "\t<tr><td>1-4 edits    </td><td>  423</td></tr>\n",
       "\t<tr><td>100-999 edits</td><td> 2048</td></tr>\n",
       "\t<tr><td>1000+ edits  </td><td>13919</td></tr>\n",
       "\t<tr><td>5-99 edits   </td><td> 1694</td></tr>\n",
       "\t<tr><td>N/A          </td><td>  834</td></tr>\n",
       "</tbody>\n",
       "</table>\n"
      ],
      "text/latex": [
       "A tibble: 5 × 2\n",
       "\\begin{tabular}{ll}\n",
       " edit\\_count\\_bucket & total\\_events\\\\\n",
       " <chr> & <int>\\\\\n",
       "\\hline\n",
       "\t 1-4 edits     &   423\\\\\n",
       "\t 100-999 edits &  2048\\\\\n",
       "\t 1000+ edits   & 13919\\\\\n",
       "\t 5-99 edits    &  1694\\\\\n",
       "\t N/A           &   834\\\\\n",
       "\\end{tabular}\n"
      ],
      "text/markdown": [
       "\n",
       "A tibble: 5 × 2\n",
       "\n",
       "| edit_count_bucket &lt;chr&gt; | total_events &lt;int&gt; |\n",
       "|---|---|\n",
       "| 1-4 edits     |   423 |\n",
       "| 100-999 edits |  2048 |\n",
       "| 1000+ edits   | 13919 |\n",
       "| 5-99 edits    |  1694 |\n",
       "| N/A           |   834 |\n",
       "\n"
      ],
      "text/plain": [
       "  edit_count_bucket total_events\n",
       "1 1-4 edits           423       \n",
       "2 100-999 edits      2048       \n",
       "3 1000+ edits       13919       \n",
       "4 5-99 edits         1694       \n",
       "5 N/A                 834       "
      ]
     },
     "metadata": {},
     "output_type": "display_data"
    }
   ],
   "source": [
    "talk_events_byeditcount <- collect_talk_events %>%\n",
    "    group_by(edit_count_bucket) %>%\n",
    "    summarise(total_events = n())\n",
    "\n",
    "talk_events_byeditcount"
   ]
  },
  {
   "cell_type": "markdown",
   "metadata": {},
   "source": [
    "ISSUE: We do not appear to be logging any edits in the 1-4 edit bucket group.\n",
    "UPDATE: We are now logging edit count bucket events correctly. All logged out users are assigned the 'NA' value."
   ]
  },
  {
   "cell_type": "markdown",
   "metadata": {},
   "source": [
    "# Integration Check"
   ]
  },
  {
   "cell_type": "code",
   "execution_count": 13,
   "metadata": {},
   "outputs": [
    {
     "name": "stderr",
     "output_type": "stream",
     "text": [
      "`summarise()` ungrouping output (override with `.groups` argument)\n",
      "\n"
     ]
    },
    {
     "data": {
      "text/html": [
       "<table>\n",
       "<caption>A tibble: 2 × 2</caption>\n",
       "<thead>\n",
       "\t<tr><th scope=col>integration</th><th scope=col>total_events</th></tr>\n",
       "\t<tr><th scope=col>&lt;chr&gt;</th><th scope=col>&lt;int&gt;</th></tr>\n",
       "</thead>\n",
       "<tbody>\n",
       "\t<tr><td>discussiontools</td><td>15070</td></tr>\n",
       "\t<tr><td>page           </td><td> 3848</td></tr>\n",
       "</tbody>\n",
       "</table>\n"
      ],
      "text/latex": [
       "A tibble: 2 × 2\n",
       "\\begin{tabular}{ll}\n",
       " integration & total\\_events\\\\\n",
       " <chr> & <int>\\\\\n",
       "\\hline\n",
       "\t discussiontools & 15070\\\\\n",
       "\t page            &  3848\\\\\n",
       "\\end{tabular}\n"
      ],
      "text/markdown": [
       "\n",
       "A tibble: 2 × 2\n",
       "\n",
       "| integration &lt;chr&gt; | total_events &lt;int&gt; |\n",
       "|---|---|\n",
       "| discussiontools | 15070 |\n",
       "| page            |  3848 |\n",
       "\n"
      ],
      "text/plain": [
       "  integration     total_events\n",
       "1 discussiontools 15070       \n",
       "2 page             3848       "
      ]
     },
     "metadata": {},
     "output_type": "display_data"
    }
   ],
   "source": [
    "talk_events_byintergration <- collect_talk_events %>%\n",
    "    group_by(integration) %>%\n",
    "    summarise(total_events = n())\n",
    "\n",
    "talk_events_byintergration"
   ]
  },
  {
   "cell_type": "markdown",
   "metadata": {},
   "source": [
    "We've recorded talk page events using discussion tools and on the page. "
   ]
  },
  {
   "cell_type": "markdown",
   "metadata": {},
   "source": [
    "# Cross Wiki Check"
   ]
  },
  {
   "cell_type": "code",
   "execution_count": 14,
   "metadata": {},
   "outputs": [
    {
     "name": "stderr",
     "output_type": "stream",
     "text": [
      "`summarise()` ungrouping output (override with `.groups` argument)\n",
      "\n"
     ]
    },
    {
     "data": {
      "text/html": [
       "<table>\n",
       "<caption>A tibble: 152 × 2</caption>\n",
       "<thead>\n",
       "\t<tr><th scope=col>database</th><th scope=col>total_events</th></tr>\n",
       "\t<tr><th scope=col>&lt;chr&gt;</th><th scope=col>&lt;int&gt;</th></tr>\n",
       "</thead>\n",
       "<tbody>\n",
       "\t<tr><td>afwiki       </td><td>   9</td></tr>\n",
       "\t<tr><td>alswiki      </td><td>   1</td></tr>\n",
       "\t<tr><td>arwiki       </td><td> 293</td></tr>\n",
       "\t<tr><td>arzwiki      </td><td>   7</td></tr>\n",
       "\t<tr><td>atjwiki      </td><td>   1</td></tr>\n",
       "\t<tr><td>azbwiki      </td><td>   2</td></tr>\n",
       "\t<tr><td>azwiki       </td><td>  68</td></tr>\n",
       "\t<tr><td>bclwiki      </td><td>   1</td></tr>\n",
       "\t<tr><td>bewikisource </td><td>   1</td></tr>\n",
       "\t<tr><td>bgwiki       </td><td>  36</td></tr>\n",
       "\t<tr><td>bnwiki       </td><td>  82</td></tr>\n",
       "\t<tr><td>bnwikivoyage </td><td>   9</td></tr>\n",
       "\t<tr><td>brwiki       </td><td>   3</td></tr>\n",
       "\t<tr><td>bswiki       </td><td>   1</td></tr>\n",
       "\t<tr><td>cawiki       </td><td>  65</td></tr>\n",
       "\t<tr><td>cawiktionary </td><td>   2</td></tr>\n",
       "\t<tr><td>cebwiki      </td><td>   1</td></tr>\n",
       "\t<tr><td>ckbwiki      </td><td>  22</td></tr>\n",
       "\t<tr><td>commonswiki  </td><td> 493</td></tr>\n",
       "\t<tr><td>cswiki       </td><td> 279</td></tr>\n",
       "\t<tr><td>cswikiversity</td><td>   3</td></tr>\n",
       "\t<tr><td>cswiktionary </td><td>   4</td></tr>\n",
       "\t<tr><td>cywiki       </td><td>   2</td></tr>\n",
       "\t<tr><td>dagwiki      </td><td>   2</td></tr>\n",
       "\t<tr><td>dawiki       </td><td>  11</td></tr>\n",
       "\t<tr><td>dewiki       </td><td>2462</td></tr>\n",
       "\t<tr><td>dewikibooks  </td><td>   3</td></tr>\n",
       "\t<tr><td>dewikinews   </td><td>  10</td></tr>\n",
       "\t<tr><td>dewikiquote  </td><td>   1</td></tr>\n",
       "\t<tr><td>dewikisource </td><td>   7</td></tr>\n",
       "\t<tr><td>⋮</td><td>⋮</td></tr>\n",
       "\t<tr><td>ruwiktionary</td><td>  5</td></tr>\n",
       "\t<tr><td>scowiki     </td><td>  1</td></tr>\n",
       "\t<tr><td>sgwiktionary</td><td>  2</td></tr>\n",
       "\t<tr><td>simplewiki  </td><td>152</td></tr>\n",
       "\t<tr><td>skwiki      </td><td> 11</td></tr>\n",
       "\t<tr><td>slwiki      </td><td> 11</td></tr>\n",
       "\t<tr><td>specieswiki </td><td> 18</td></tr>\n",
       "\t<tr><td>sqwiki      </td><td>  6</td></tr>\n",
       "\t<tr><td>srwiki      </td><td> 39</td></tr>\n",
       "\t<tr><td>sswiki      </td><td>  1</td></tr>\n",
       "\t<tr><td>svwiki      </td><td>188</td></tr>\n",
       "\t<tr><td>swwiki      </td><td>  2</td></tr>\n",
       "\t<tr><td>tawiki      </td><td>  9</td></tr>\n",
       "\t<tr><td>tawikisource</td><td>  2</td></tr>\n",
       "\t<tr><td>tewiki      </td><td>  2</td></tr>\n",
       "\t<tr><td>thwiki      </td><td> 13</td></tr>\n",
       "\t<tr><td>tlwiki      </td><td>  1</td></tr>\n",
       "\t<tr><td>trwiki      </td><td>197</td></tr>\n",
       "\t<tr><td>ttwiki      </td><td>  1</td></tr>\n",
       "\t<tr><td>uawikimedia </td><td>  2</td></tr>\n",
       "\t<tr><td>ukwiki      </td><td>157</td></tr>\n",
       "\t<tr><td>ukwikivoyage</td><td>  2</td></tr>\n",
       "\t<tr><td>ukwiktionary</td><td>  7</td></tr>\n",
       "\t<tr><td>uzwiki      </td><td> 31</td></tr>\n",
       "\t<tr><td>viwiki      </td><td>370</td></tr>\n",
       "\t<tr><td>wikidatawiki</td><td>191</td></tr>\n",
       "\t<tr><td>zh_yuewiki  </td><td> 24</td></tr>\n",
       "\t<tr><td>zhwiki      </td><td>598</td></tr>\n",
       "\t<tr><td>zhwikinews  </td><td>  1</td></tr>\n",
       "\t<tr><td>zhwikisource</td><td>  3</td></tr>\n",
       "</tbody>\n",
       "</table>\n"
      ],
      "text/latex": [
       "A tibble: 152 × 2\n",
       "\\begin{tabular}{ll}\n",
       " database & total\\_events\\\\\n",
       " <chr> & <int>\\\\\n",
       "\\hline\n",
       "\t afwiki        &    9\\\\\n",
       "\t alswiki       &    1\\\\\n",
       "\t arwiki        &  293\\\\\n",
       "\t arzwiki       &    7\\\\\n",
       "\t atjwiki       &    1\\\\\n",
       "\t azbwiki       &    2\\\\\n",
       "\t azwiki        &   68\\\\\n",
       "\t bclwiki       &    1\\\\\n",
       "\t bewikisource  &    1\\\\\n",
       "\t bgwiki        &   36\\\\\n",
       "\t bnwiki        &   82\\\\\n",
       "\t bnwikivoyage  &    9\\\\\n",
       "\t brwiki        &    3\\\\\n",
       "\t bswiki        &    1\\\\\n",
       "\t cawiki        &   65\\\\\n",
       "\t cawiktionary  &    2\\\\\n",
       "\t cebwiki       &    1\\\\\n",
       "\t ckbwiki       &   22\\\\\n",
       "\t commonswiki   &  493\\\\\n",
       "\t cswiki        &  279\\\\\n",
       "\t cswikiversity &    3\\\\\n",
       "\t cswiktionary  &    4\\\\\n",
       "\t cywiki        &    2\\\\\n",
       "\t dagwiki       &    2\\\\\n",
       "\t dawiki        &   11\\\\\n",
       "\t dewiki        & 2462\\\\\n",
       "\t dewikibooks   &    3\\\\\n",
       "\t dewikinews    &   10\\\\\n",
       "\t dewikiquote   &    1\\\\\n",
       "\t dewikisource  &    7\\\\\n",
       "\t ⋮ & ⋮\\\\\n",
       "\t ruwiktionary &   5\\\\\n",
       "\t scowiki      &   1\\\\\n",
       "\t sgwiktionary &   2\\\\\n",
       "\t simplewiki   & 152\\\\\n",
       "\t skwiki       &  11\\\\\n",
       "\t slwiki       &  11\\\\\n",
       "\t specieswiki  &  18\\\\\n",
       "\t sqwiki       &   6\\\\\n",
       "\t srwiki       &  39\\\\\n",
       "\t sswiki       &   1\\\\\n",
       "\t svwiki       & 188\\\\\n",
       "\t swwiki       &   2\\\\\n",
       "\t tawiki       &   9\\\\\n",
       "\t tawikisource &   2\\\\\n",
       "\t tewiki       &   2\\\\\n",
       "\t thwiki       &  13\\\\\n",
       "\t tlwiki       &   1\\\\\n",
       "\t trwiki       & 197\\\\\n",
       "\t ttwiki       &   1\\\\\n",
       "\t uawikimedia  &   2\\\\\n",
       "\t ukwiki       & 157\\\\\n",
       "\t ukwikivoyage &   2\\\\\n",
       "\t ukwiktionary &   7\\\\\n",
       "\t uzwiki       &  31\\\\\n",
       "\t viwiki       & 370\\\\\n",
       "\t wikidatawiki & 191\\\\\n",
       "\t zh\\_yuewiki   &  24\\\\\n",
       "\t zhwiki       & 598\\\\\n",
       "\t zhwikinews   &   1\\\\\n",
       "\t zhwikisource &   3\\\\\n",
       "\\end{tabular}\n"
      ],
      "text/markdown": [
       "\n",
       "A tibble: 152 × 2\n",
       "\n",
       "| database &lt;chr&gt; | total_events &lt;int&gt; |\n",
       "|---|---|\n",
       "| afwiki        |    9 |\n",
       "| alswiki       |    1 |\n",
       "| arwiki        |  293 |\n",
       "| arzwiki       |    7 |\n",
       "| atjwiki       |    1 |\n",
       "| azbwiki       |    2 |\n",
       "| azwiki        |   68 |\n",
       "| bclwiki       |    1 |\n",
       "| bewikisource  |    1 |\n",
       "| bgwiki        |   36 |\n",
       "| bnwiki        |   82 |\n",
       "| bnwikivoyage  |    9 |\n",
       "| brwiki        |    3 |\n",
       "| bswiki        |    1 |\n",
       "| cawiki        |   65 |\n",
       "| cawiktionary  |    2 |\n",
       "| cebwiki       |    1 |\n",
       "| ckbwiki       |   22 |\n",
       "| commonswiki   |  493 |\n",
       "| cswiki        |  279 |\n",
       "| cswikiversity |    3 |\n",
       "| cswiktionary  |    4 |\n",
       "| cywiki        |    2 |\n",
       "| dagwiki       |    2 |\n",
       "| dawiki        |   11 |\n",
       "| dewiki        | 2462 |\n",
       "| dewikibooks   |    3 |\n",
       "| dewikinews    |   10 |\n",
       "| dewikiquote   |    1 |\n",
       "| dewikisource  |    7 |\n",
       "| ⋮ | ⋮ |\n",
       "| ruwiktionary |   5 |\n",
       "| scowiki      |   1 |\n",
       "| sgwiktionary |   2 |\n",
       "| simplewiki   | 152 |\n",
       "| skwiki       |  11 |\n",
       "| slwiki       |  11 |\n",
       "| specieswiki  |  18 |\n",
       "| sqwiki       |   6 |\n",
       "| srwiki       |  39 |\n",
       "| sswiki       |   1 |\n",
       "| svwiki       | 188 |\n",
       "| swwiki       |   2 |\n",
       "| tawiki       |   9 |\n",
       "| tawikisource |   2 |\n",
       "| tewiki       |   2 |\n",
       "| thwiki       |  13 |\n",
       "| tlwiki       |   1 |\n",
       "| trwiki       | 197 |\n",
       "| ttwiki       |   1 |\n",
       "| uawikimedia  |   2 |\n",
       "| ukwiki       | 157 |\n",
       "| ukwikivoyage |   2 |\n",
       "| ukwiktionary |   7 |\n",
       "| uzwiki       |  31 |\n",
       "| viwiki       | 370 |\n",
       "| wikidatawiki | 191 |\n",
       "| zh_yuewiki   |  24 |\n",
       "| zhwiki       | 598 |\n",
       "| zhwikinews   |   1 |\n",
       "| zhwikisource |   3 |\n",
       "\n"
      ],
      "text/plain": [
       "    database      total_events\n",
       "1   afwiki           9        \n",
       "2   alswiki          1        \n",
       "3   arwiki         293        \n",
       "4   arzwiki          7        \n",
       "5   atjwiki          1        \n",
       "6   azbwiki          2        \n",
       "7   azwiki          68        \n",
       "8   bclwiki          1        \n",
       "9   bewikisource     1        \n",
       "10  bgwiki          36        \n",
       "11  bnwiki          82        \n",
       "12  bnwikivoyage     9        \n",
       "13  brwiki           3        \n",
       "14  bswiki           1        \n",
       "15  cawiki          65        \n",
       "16  cawiktionary     2        \n",
       "17  cebwiki          1        \n",
       "18  ckbwiki         22        \n",
       "19  commonswiki    493        \n",
       "20  cswiki         279        \n",
       "21  cswikiversity    3        \n",
       "22  cswiktionary     4        \n",
       "23  cywiki           2        \n",
       "24  dagwiki          2        \n",
       "25  dawiki          11        \n",
       "26  dewiki        2462        \n",
       "27  dewikibooks      3        \n",
       "28  dewikinews      10        \n",
       "29  dewikiquote      1        \n",
       "30  dewikisource     7        \n",
       "⋮   ⋮             ⋮           \n",
       "123 ruwiktionary    5         \n",
       "124 scowiki         1         \n",
       "125 sgwiktionary    2         \n",
       "126 simplewiki    152         \n",
       "127 skwiki         11         \n",
       "128 slwiki         11         \n",
       "129 specieswiki    18         \n",
       "130 sqwiki          6         \n",
       "131 srwiki         39         \n",
       "132 sswiki          1         \n",
       "133 svwiki        188         \n",
       "134 swwiki          2         \n",
       "135 tawiki          9         \n",
       "136 tawikisource    2         \n",
       "137 tewiki          2         \n",
       "138 thwiki         13         \n",
       "139 tlwiki          1         \n",
       "140 trwiki        197         \n",
       "141 ttwiki          1         \n",
       "142 uawikimedia     2         \n",
       "143 ukwiki        157         \n",
       "144 ukwikivoyage    2         \n",
       "145 ukwiktionary    7         \n",
       "146 uzwiki         31         \n",
       "147 viwiki        370         \n",
       "148 wikidatawiki  191         \n",
       "149 zh_yuewiki     24         \n",
       "150 zhwiki        598         \n",
       "151 zhwikinews      1         \n",
       "152 zhwikisource    3         "
      ]
     },
     "metadata": {},
     "output_type": "display_data"
    }
   ],
   "source": [
    "talk_events_bywiki <- collect_talk_events %>%\n",
    "    group_by(database) %>%\n",
    "    summarise(total_events = n())\n",
    "\n",
    "talk_events_bywiki"
   ]
  },
  {
   "cell_type": "markdown",
   "metadata": {},
   "source": [
    "# Component Types"
   ]
  },
  {
   "cell_type": "code",
   "execution_count": 15,
   "metadata": {},
   "outputs": [
    {
     "name": "stderr",
     "output_type": "stream",
     "text": [
      "`summarise()` ungrouping output (override with `.groups` argument)\n",
      "\n"
     ]
    },
    {
     "data": {
      "text/html": [
       "<table>\n",
       "<caption>A tibble: 3 × 2</caption>\n",
       "<thead>\n",
       "\t<tr><th scope=col>component_type</th><th scope=col>total_events</th></tr>\n",
       "\t<tr><th scope=col>&lt;chr&gt;</th><th scope=col>&lt;int&gt;</th></tr>\n",
       "</thead>\n",
       "<tbody>\n",
       "\t<tr><td>comment </td><td>  852</td></tr>\n",
       "\t<tr><td>response</td><td>13298</td></tr>\n",
       "\t<tr><td>topic   </td><td> 4768</td></tr>\n",
       "</tbody>\n",
       "</table>\n"
      ],
      "text/latex": [
       "A tibble: 3 × 2\n",
       "\\begin{tabular}{ll}\n",
       " component\\_type & total\\_events\\\\\n",
       " <chr> & <int>\\\\\n",
       "\\hline\n",
       "\t comment  &   852\\\\\n",
       "\t response & 13298\\\\\n",
       "\t topic    &  4768\\\\\n",
       "\\end{tabular}\n"
      ],
      "text/markdown": [
       "\n",
       "A tibble: 3 × 2\n",
       "\n",
       "| component_type &lt;chr&gt; | total_events &lt;int&gt; |\n",
       "|---|---|\n",
       "| comment  |   852 |\n",
       "| response | 13298 |\n",
       "| topic    |  4768 |\n",
       "\n"
      ],
      "text/plain": [
       "  component_type total_events\n",
       "1 comment          852       \n",
       "2 response       13298       \n",
       "3 topic           4768       "
      ]
     },
     "metadata": {},
     "output_type": "display_data"
    }
   ],
   "source": [
    "talk_events_bycomponent <- collect_talk_events %>%\n",
    "    group_by(component_type) %>%\n",
    "    summarise(total_events = n())\n",
    "\n",
    "talk_events_bycomponent"
   ]
  },
  {
   "cell_type": "markdown",
   "metadata": {},
   "source": [
    "There are more responses than comments or topics as expected.\n",
    "\n",
    "There are more topics than comments - is this expected. I think so as thre might be more people that start new discussions than those that post high-level comments."
   ]
  },
  {
   "cell_type": "markdown",
   "metadata": {},
   "source": [
    "# Action"
   ]
  },
  {
   "cell_type": "code",
   "execution_count": 16,
   "metadata": {},
   "outputs": [
    {
     "name": "stderr",
     "output_type": "stream",
     "text": [
      "`summarise()` ungrouping output (override with `.groups` argument)\n",
      "\n"
     ]
    },
    {
     "data": {
      "text/html": [
       "<table>\n",
       "<caption>A tibble: 1 × 2</caption>\n",
       "<thead>\n",
       "\t<tr><th scope=col>action</th><th scope=col>total_events</th></tr>\n",
       "\t<tr><th scope=col>&lt;chr&gt;</th><th scope=col>&lt;int&gt;</th></tr>\n",
       "</thead>\n",
       "<tbody>\n",
       "\t<tr><td>publish</td><td>18918</td></tr>\n",
       "</tbody>\n",
       "</table>\n"
      ],
      "text/latex": [
       "A tibble: 1 × 2\n",
       "\\begin{tabular}{ll}\n",
       " action & total\\_events\\\\\n",
       " <chr> & <int>\\\\\n",
       "\\hline\n",
       "\t publish & 18918\\\\\n",
       "\\end{tabular}\n"
      ],
      "text/markdown": [
       "\n",
       "A tibble: 1 × 2\n",
       "\n",
       "| action &lt;chr&gt; | total_events &lt;int&gt; |\n",
       "|---|---|\n",
       "| publish | 18918 |\n",
       "\n"
      ],
      "text/plain": [
       "  action  total_events\n",
       "1 publish 18918       "
      ]
     },
     "metadata": {},
     "output_type": "display_data"
    }
   ],
   "source": [
    "talk_events_byaction <- collect_talk_events %>%\n",
    "    group_by(action) %>%\n",
    "    summarise(total_events = n())\n",
    "\n",
    "talk_events_byaction"
   ]
  },
  {
   "cell_type": "code",
   "execution_count": null,
   "metadata": {},
   "outputs": [],
   "source": [
    "All recorded events have been logged as publish events as expected."
   ]
  },
  {
   "cell_type": "markdown",
   "metadata": {},
   "source": [
    "# Namespace"
   ]
  },
  {
   "cell_type": "code",
   "execution_count": 17,
   "metadata": {},
   "outputs": [
    {
     "name": "stderr",
     "output_type": "stream",
     "text": [
      "`summarise()` ungrouping output (override with `.groups` argument)\n",
      "\n"
     ]
    },
    {
     "data": {
      "text/html": [
       "<table>\n",
       "<caption>A tibble: 26 × 2</caption>\n",
       "<thead>\n",
       "\t<tr><th scope=col>page_namespace</th><th scope=col>total_events</th></tr>\n",
       "\t<tr><th scope=col>&lt;int&gt;</th><th scope=col>&lt;int&gt;</th></tr>\n",
       "</thead>\n",
       "<tbody>\n",
       "\t<tr><td>  3</td><td>8092</td></tr>\n",
       "\t<tr><td>  4</td><td>4515</td></tr>\n",
       "\t<tr><td>  1</td><td>4383</td></tr>\n",
       "\t<tr><td>  5</td><td>1077</td></tr>\n",
       "\t<tr><td> 11</td><td> 250</td></tr>\n",
       "\t<tr><td>103</td><td> 232</td></tr>\n",
       "\t<tr><td> 12</td><td>  52</td></tr>\n",
       "\t<tr><td>101</td><td>  45</td></tr>\n",
       "\t<tr><td>119</td><td>  44</td></tr>\n",
       "\t<tr><td>  0</td><td>  40</td></tr>\n",
       "\t<tr><td>102</td><td>  29</td></tr>\n",
       "\t<tr><td>  7</td><td>  24</td></tr>\n",
       "\t<tr><td>829</td><td>  23</td></tr>\n",
       "\t<tr><td>201</td><td>  20</td></tr>\n",
       "\t<tr><td> 15</td><td>  17</td></tr>\n",
       "\t<tr><td>121</td><td>  17</td></tr>\n",
       "\t<tr><td>105</td><td>  14</td></tr>\n",
       "\t<tr><td>  9</td><td>  13</td></tr>\n",
       "\t<tr><td>100</td><td>  10</td></tr>\n",
       "\t<tr><td> 13</td><td>   9</td></tr>\n",
       "\t<tr><td>109</td><td>   4</td></tr>\n",
       "\t<tr><td>  2</td><td>   3</td></tr>\n",
       "\t<tr><td>107</td><td>   2</td></tr>\n",
       "\t<tr><td>104</td><td>   1</td></tr>\n",
       "\t<tr><td>113</td><td>   1</td></tr>\n",
       "\t<tr><td>487</td><td>   1</td></tr>\n",
       "</tbody>\n",
       "</table>\n"
      ],
      "text/latex": [
       "A tibble: 26 × 2\n",
       "\\begin{tabular}{ll}\n",
       " page\\_namespace & total\\_events\\\\\n",
       " <int> & <int>\\\\\n",
       "\\hline\n",
       "\t   3 & 8092\\\\\n",
       "\t   4 & 4515\\\\\n",
       "\t   1 & 4383\\\\\n",
       "\t   5 & 1077\\\\\n",
       "\t  11 &  250\\\\\n",
       "\t 103 &  232\\\\\n",
       "\t  12 &   52\\\\\n",
       "\t 101 &   45\\\\\n",
       "\t 119 &   44\\\\\n",
       "\t   0 &   40\\\\\n",
       "\t 102 &   29\\\\\n",
       "\t   7 &   24\\\\\n",
       "\t 829 &   23\\\\\n",
       "\t 201 &   20\\\\\n",
       "\t  15 &   17\\\\\n",
       "\t 121 &   17\\\\\n",
       "\t 105 &   14\\\\\n",
       "\t   9 &   13\\\\\n",
       "\t 100 &   10\\\\\n",
       "\t  13 &    9\\\\\n",
       "\t 109 &    4\\\\\n",
       "\t   2 &    3\\\\\n",
       "\t 107 &    2\\\\\n",
       "\t 104 &    1\\\\\n",
       "\t 113 &    1\\\\\n",
       "\t 487 &    1\\\\\n",
       "\\end{tabular}\n"
      ],
      "text/markdown": [
       "\n",
       "A tibble: 26 × 2\n",
       "\n",
       "| page_namespace &lt;int&gt; | total_events &lt;int&gt; |\n",
       "|---|---|\n",
       "|   3 | 8092 |\n",
       "|   4 | 4515 |\n",
       "|   1 | 4383 |\n",
       "|   5 | 1077 |\n",
       "|  11 |  250 |\n",
       "| 103 |  232 |\n",
       "|  12 |   52 |\n",
       "| 101 |   45 |\n",
       "| 119 |   44 |\n",
       "|   0 |   40 |\n",
       "| 102 |   29 |\n",
       "|   7 |   24 |\n",
       "| 829 |   23 |\n",
       "| 201 |   20 |\n",
       "|  15 |   17 |\n",
       "| 121 |   17 |\n",
       "| 105 |   14 |\n",
       "|   9 |   13 |\n",
       "| 100 |   10 |\n",
       "|  13 |    9 |\n",
       "| 109 |    4 |\n",
       "|   2 |    3 |\n",
       "| 107 |    2 |\n",
       "| 104 |    1 |\n",
       "| 113 |    1 |\n",
       "| 487 |    1 |\n",
       "\n"
      ],
      "text/plain": [
       "   page_namespace total_events\n",
       "1    3            8092        \n",
       "2    4            4515        \n",
       "3    1            4383        \n",
       "4    5            1077        \n",
       "5   11             250        \n",
       "6  103             232        \n",
       "7   12              52        \n",
       "8  101              45        \n",
       "9  119              44        \n",
       "10   0              40        \n",
       "11 102              29        \n",
       "12   7              24        \n",
       "13 829              23        \n",
       "14 201              20        \n",
       "15  15              17        \n",
       "16 121              17        \n",
       "17 105              14        \n",
       "18   9              13        \n",
       "19 100              10        \n",
       "20  13               9        \n",
       "21 109               4        \n",
       "22   2               3        \n",
       "23 107               2        \n",
       "24 104               1        \n",
       "25 113               1        \n",
       "26 487               1        "
      ]
     },
     "metadata": {},
     "output_type": "display_data"
    }
   ],
   "source": [
    "talk_events_bynamespace <- collect_talk_events %>%\n",
    "    group_by(page_namespace) %>%\n",
    "    summarise(total_events = n()) %>%\n",
    "    arrange(desc(total_events))\n",
    "\n",
    "talk_events_bynamespace"
   ]
  },
  {
   "cell_type": "markdown",
   "metadata": {},
   "source": [
    "The most events have occured on User Talk pages (38.9%), followed by project talk (27%) and then article talk pages (24%). There are some events that occur on non talk pages. 364 events were recored on article (main) namespace pages. - Do we know what might cause this."
   ]
  },
  {
   "cell_type": "markdown",
   "metadata": {},
   "source": [
    "# Comment and Response IDs\n",
    "\n",
    "Per current set-up, `comment_id` will change with every event. For the very first comment in a thread that'll be the ID of the topic (but the component_type will be `comment` rather than `response` and `comment_id` will equal `topic_id`, so this is easy to distinguish)."
   ]
  },
  {
   "cell_type": "code",
   "execution_count": 40,
   "metadata": {},
   "outputs": [
    {
     "data": {
      "text/html": [
       "<table>\n",
       "<caption>A data.frame: 0 × 15</caption>\n",
       "<thead>\n",
       "\t<tr><th scope=col>component_type</th><th scope=col>topic_id</th><th scope=col>comment_parent_id</th><th scope=col>comment_id</th><th scope=col>page_namespace</th><th scope=col>user</th><th scope=col>is_anon</th><th scope=col>revision_id</th><th scope=col>session_id</th><th scope=col>integration</th><th scope=col>action</th><th scope=col>edit_count</th><th scope=col>edit_count_bucket</th><th scope=col>database</th><th scope=col>dt</th></tr>\n",
       "\t<tr><th scope=col>&lt;chr&gt;</th><th scope=col>&lt;chr&gt;</th><th scope=col>&lt;chr&gt;</th><th scope=col>&lt;chr&gt;</th><th scope=col>&lt;int&gt;</th><th scope=col>&lt;int&gt;</th><th scope=col>&lt;chr&gt;</th><th scope=col>&lt;int&gt;</th><th scope=col>&lt;chr&gt;</th><th scope=col>&lt;chr&gt;</th><th scope=col>&lt;chr&gt;</th><th scope=col>&lt;int&gt;</th><th scope=col>&lt;chr&gt;</th><th scope=col>&lt;chr&gt;</th><th scope=col>&lt;date&gt;</th></tr>\n",
       "</thead>\n",
       "<tbody>\n",
       "</tbody>\n",
       "</table>\n"
      ],
      "text/latex": [
       "A data.frame: 0 × 15\n",
       "\\begin{tabular}{lllllllllllllll}\n",
       " component\\_type & topic\\_id & comment\\_parent\\_id & comment\\_id & page\\_namespace & user & is\\_anon & revision\\_id & session\\_id & integration & action & edit\\_count & edit\\_count\\_bucket & database & dt\\\\\n",
       " <chr> & <chr> & <chr> & <chr> & <int> & <int> & <chr> & <int> & <chr> & <chr> & <chr> & <int> & <chr> & <chr> & <date>\\\\\n",
       "\\hline\n",
       "\\end{tabular}\n"
      ],
      "text/markdown": [
       "\n",
       "A data.frame: 0 × 15\n",
       "\n",
       "| component_type &lt;chr&gt; | topic_id &lt;chr&gt; | comment_parent_id &lt;chr&gt; | comment_id &lt;chr&gt; | page_namespace &lt;int&gt; | user &lt;int&gt; | is_anon &lt;chr&gt; | revision_id &lt;int&gt; | session_id &lt;chr&gt; | integration &lt;chr&gt; | action &lt;chr&gt; | edit_count &lt;int&gt; | edit_count_bucket &lt;chr&gt; | database &lt;chr&gt; | dt &lt;date&gt; |\n",
       "|---|---|---|---|---|---|---|---|---|---|---|---|---|---|---|\n",
       "\n"
      ],
      "text/plain": [
       "     component_type topic_id comment_parent_id comment_id page_namespace user\n",
       "     is_anon revision_id session_id integration action edit_count\n",
       "     edit_count_bucket database dt"
      ]
     },
     "metadata": {},
     "output_type": "display_data"
    }
   ],
   "source": [
    " #find any instances where the comment id is equal to the comment parent id\n",
    "\n",
    "comment_id_check <- collect_talk_events %>%\n",
    "    filter(collect_talk_events$comment_id \n",
    "           ==  collect_talk_events$comment_parent_id)\n",
    "\n",
    "comment_id_check"
   ]
  },
  {
   "cell_type": "code",
   "execution_count": null,
   "metadata": {},
   "outputs": [],
   "source": [
    "No instances where the comment_id is equal to comment_parent_id as expected"
   ]
  },
  {
   "cell_type": "code",
   "execution_count": null,
   "metadata": {},
   "outputs": [],
   "source": [
    "# find top_level comments where the comment id is equal to the topic id. Should all be lableld comment\n",
    "\n",
    "top_level_commment <- collect_talk_events %>%\n",
    "    filter(collect_talk_events$comment_parent_id \n",
    "           ==  collect_talk_events$topic_id & component_type == 'comment')\n",
    "\n",
    "top_level_commment "
   ]
  },
  {
   "cell_type": "markdown",
   "metadata": {},
   "source": [
    "There are several top level comments, indicated by a comment_parent_id that matches a topic_id. All of these are labeled as comments as expected. Next we'll check that all responses are labled correctly. "
   ]
  },
  {
   "cell_type": "code",
   "execution_count": 19,
   "metadata": {},
   "outputs": [
    {
     "data": {
      "text/html": [
       "<table>\n",
       "<caption>A data.frame: 0 × 15</caption>\n",
       "<thead>\n",
       "\t<tr><th scope=col>component_type</th><th scope=col>topic_id</th><th scope=col>comment_parent_id</th><th scope=col>comment_id</th><th scope=col>page_namespace</th><th scope=col>user</th><th scope=col>is_anon</th><th scope=col>revision_id</th><th scope=col>session_id</th><th scope=col>integration</th><th scope=col>action</th><th scope=col>edit_count</th><th scope=col>edit_count_bucket</th><th scope=col>database</th><th scope=col>dt</th></tr>\n",
       "\t<tr><th scope=col>&lt;chr&gt;</th><th scope=col>&lt;chr&gt;</th><th scope=col>&lt;chr&gt;</th><th scope=col>&lt;chr&gt;</th><th scope=col>&lt;int&gt;</th><th scope=col>&lt;int&gt;</th><th scope=col>&lt;chr&gt;</th><th scope=col>&lt;int&gt;</th><th scope=col>&lt;chr&gt;</th><th scope=col>&lt;chr&gt;</th><th scope=col>&lt;chr&gt;</th><th scope=col>&lt;int&gt;</th><th scope=col>&lt;chr&gt;</th><th scope=col>&lt;chr&gt;</th><th scope=col>&lt;date&gt;</th></tr>\n",
       "</thead>\n",
       "<tbody>\n",
       "</tbody>\n",
       "</table>\n"
      ],
      "text/latex": [
       "A data.frame: 0 × 15\n",
       "\\begin{tabular}{lllllllllllllll}\n",
       " component\\_type & topic\\_id & comment\\_parent\\_id & comment\\_id & page\\_namespace & user & is\\_anon & revision\\_id & session\\_id & integration & action & edit\\_count & edit\\_count\\_bucket & database & dt\\\\\n",
       " <chr> & <chr> & <chr> & <chr> & <int> & <int> & <chr> & <int> & <chr> & <chr> & <chr> & <int> & <chr> & <chr> & <date>\\\\\n",
       "\\hline\n",
       "\\end{tabular}\n"
      ],
      "text/markdown": [
       "\n",
       "A data.frame: 0 × 15\n",
       "\n",
       "| component_type &lt;chr&gt; | topic_id &lt;chr&gt; | comment_parent_id &lt;chr&gt; | comment_id &lt;chr&gt; | page_namespace &lt;int&gt; | user &lt;int&gt; | is_anon &lt;chr&gt; | revision_id &lt;int&gt; | session_id &lt;chr&gt; | integration &lt;chr&gt; | action &lt;chr&gt; | edit_count &lt;int&gt; | edit_count_bucket &lt;chr&gt; | database &lt;chr&gt; | dt &lt;date&gt; |\n",
       "|---|---|---|---|---|---|---|---|---|---|---|---|---|---|---|\n",
       "\n"
      ],
      "text/plain": [
       "     component_type topic_id comment_parent_id comment_id page_namespace user\n",
       "     is_anon revision_id session_id integration action edit_count\n",
       "     edit_count_bucket database dt"
      ]
     },
     "metadata": {},
     "output_type": "display_data"
    }
   ],
   "source": [
    "# make sure responses are labeled correctly\n",
    "\n",
    "response_check <- collect_talk_events %>%\n",
    "    filter(collect_talk_events$comment_parent_id \n",
    "           ==  collect_talk_events$topic_id & component_type == 'response')\n",
    "response_check"
   ]
  },
  {
   "cell_type": "code",
   "execution_count": null,
   "metadata": {},
   "outputs": [],
   "source": [
    "Confirmed there are no instances where a response event has the same comment_parent_id and topic_id."
   ]
  },
  {
   "cell_type": "code",
   "execution_count": null,
   "metadata": {},
   "outputs": [],
   "source": [
    "non_top_level_comments <- collect_talk_events %>%\n",
    "    filter(collect_talk_events$comment_parent_id \n",
    "           !=  collect_talk_events$topic_id & component_type == 'comment') %>%\n",
    "    summa\n",
    "\n",
    "non_top_level_comments"
   ]
  },
  {
   "cell_type": "markdown",
   "metadata": {},
   "source": [
    "There are component_type = comment events where the comment_parent_id does not match the topic_id. Is this expected? What's the difference between this and a response?"
   ]
  },
  {
   "cell_type": "markdown",
   "metadata": {},
   "source": [
    "# Topic ID Check"
   ]
  },
  {
   "cell_type": "code",
   "execution_count": null,
   "metadata": {},
   "outputs": [],
   "source": [
    "# review raw dataset of component_type = topic to see how associated ids are recorded\n",
    "new_topics <- collect_talk_events %>%\n",
    "    filter(component_type == 'topic')\n",
    "\n",
    "new_topics "
   ]
  },
  {
   "cell_type": "code",
   "execution_count": 25,
   "metadata": {},
   "outputs": [
    {
     "data": {
      "text/html": [
       "<table>\n",
       "<caption>A data.frame: 0 × 15</caption>\n",
       "<thead>\n",
       "\t<tr><th scope=col>component_type</th><th scope=col>topic_id</th><th scope=col>comment_parent_id</th><th scope=col>comment_id</th><th scope=col>page_namespace</th><th scope=col>user</th><th scope=col>is_anon</th><th scope=col>revision_id</th><th scope=col>session_id</th><th scope=col>integration</th><th scope=col>action</th><th scope=col>edit_count</th><th scope=col>edit_count_bucket</th><th scope=col>database</th><th scope=col>dt</th></tr>\n",
       "\t<tr><th scope=col>&lt;chr&gt;</th><th scope=col>&lt;chr&gt;</th><th scope=col>&lt;chr&gt;</th><th scope=col>&lt;chr&gt;</th><th scope=col>&lt;int&gt;</th><th scope=col>&lt;int&gt;</th><th scope=col>&lt;chr&gt;</th><th scope=col>&lt;int&gt;</th><th scope=col>&lt;chr&gt;</th><th scope=col>&lt;chr&gt;</th><th scope=col>&lt;chr&gt;</th><th scope=col>&lt;int&gt;</th><th scope=col>&lt;chr&gt;</th><th scope=col>&lt;chr&gt;</th><th scope=col>&lt;date&gt;</th></tr>\n",
       "</thead>\n",
       "<tbody>\n",
       "</tbody>\n",
       "</table>\n"
      ],
      "text/latex": [
       "A data.frame: 0 × 15\n",
       "\\begin{tabular}{lllllllllllllll}\n",
       " component\\_type & topic\\_id & comment\\_parent\\_id & comment\\_id & page\\_namespace & user & is\\_anon & revision\\_id & session\\_id & integration & action & edit\\_count & edit\\_count\\_bucket & database & dt\\\\\n",
       " <chr> & <chr> & <chr> & <chr> & <int> & <int> & <chr> & <int> & <chr> & <chr> & <chr> & <int> & <chr> & <chr> & <date>\\\\\n",
       "\\hline\n",
       "\\end{tabular}\n"
      ],
      "text/markdown": [
       "\n",
       "A data.frame: 0 × 15\n",
       "\n",
       "| component_type &lt;chr&gt; | topic_id &lt;chr&gt; | comment_parent_id &lt;chr&gt; | comment_id &lt;chr&gt; | page_namespace &lt;int&gt; | user &lt;int&gt; | is_anon &lt;chr&gt; | revision_id &lt;int&gt; | session_id &lt;chr&gt; | integration &lt;chr&gt; | action &lt;chr&gt; | edit_count &lt;int&gt; | edit_count_bucket &lt;chr&gt; | database &lt;chr&gt; | dt &lt;date&gt; |\n",
       "|---|---|---|---|---|---|---|---|---|---|---|---|---|---|---|\n",
       "\n"
      ],
      "text/plain": [
       "     component_type topic_id comment_parent_id comment_id page_namespace user\n",
       "     is_anon revision_id session_id integration action edit_count\n",
       "     edit_count_bucket database dt"
      ]
     },
     "metadata": {},
     "output_type": "display_data"
    }
   ],
   "source": [
    " #check for any instaances where topic id does not equal parent id\n",
    "topic_check_id <- collect_talk_events %>%\n",
    "  filter(collect_talk_events$comment_parent_id \n",
    "           !=  collect_talk_events$topic_id & component_type == 'topic')\n",
    "\n",
    "topic_check_id "
   ]
  },
  {
   "cell_type": "code",
   "execution_count": null,
   "metadata": {},
   "outputs": [],
   "source": [
    "Confirmed there are no new topics where the comment parent id does not equal the topic id as expected."
   ]
  },
  {
   "cell_type": "code",
   "execution_count": 27,
   "metadata": {},
   "outputs": [
    {
     "data": {
      "text/html": [
       "<table>\n",
       "<caption>A data.frame: 0 × 15</caption>\n",
       "<thead>\n",
       "\t<tr><th scope=col>component_type</th><th scope=col>topic_id</th><th scope=col>comment_parent_id</th><th scope=col>comment_id</th><th scope=col>page_namespace</th><th scope=col>user</th><th scope=col>is_anon</th><th scope=col>revision_id</th><th scope=col>session_id</th><th scope=col>integration</th><th scope=col>action</th><th scope=col>edit_count</th><th scope=col>edit_count_bucket</th><th scope=col>database</th><th scope=col>dt</th></tr>\n",
       "\t<tr><th scope=col>&lt;chr&gt;</th><th scope=col>&lt;chr&gt;</th><th scope=col>&lt;chr&gt;</th><th scope=col>&lt;chr&gt;</th><th scope=col>&lt;int&gt;</th><th scope=col>&lt;int&gt;</th><th scope=col>&lt;chr&gt;</th><th scope=col>&lt;int&gt;</th><th scope=col>&lt;chr&gt;</th><th scope=col>&lt;chr&gt;</th><th scope=col>&lt;chr&gt;</th><th scope=col>&lt;int&gt;</th><th scope=col>&lt;chr&gt;</th><th scope=col>&lt;chr&gt;</th><th scope=col>&lt;date&gt;</th></tr>\n",
       "</thead>\n",
       "<tbody>\n",
       "</tbody>\n",
       "</table>\n"
      ],
      "text/latex": [
       "A data.frame: 0 × 15\n",
       "\\begin{tabular}{lllllllllllllll}\n",
       " component\\_type & topic\\_id & comment\\_parent\\_id & comment\\_id & page\\_namespace & user & is\\_anon & revision\\_id & session\\_id & integration & action & edit\\_count & edit\\_count\\_bucket & database & dt\\\\\n",
       " <chr> & <chr> & <chr> & <chr> & <int> & <int> & <chr> & <int> & <chr> & <chr> & <chr> & <int> & <chr> & <chr> & <date>\\\\\n",
       "\\hline\n",
       "\\end{tabular}\n"
      ],
      "text/markdown": [
       "\n",
       "A data.frame: 0 × 15\n",
       "\n",
       "| component_type &lt;chr&gt; | topic_id &lt;chr&gt; | comment_parent_id &lt;chr&gt; | comment_id &lt;chr&gt; | page_namespace &lt;int&gt; | user &lt;int&gt; | is_anon &lt;chr&gt; | revision_id &lt;int&gt; | session_id &lt;chr&gt; | integration &lt;chr&gt; | action &lt;chr&gt; | edit_count &lt;int&gt; | edit_count_bucket &lt;chr&gt; | database &lt;chr&gt; | dt &lt;date&gt; |\n",
       "|---|---|---|---|---|---|---|---|---|---|---|---|---|---|---|\n",
       "\n"
      ],
      "text/plain": [
       "     component_type topic_id comment_parent_id comment_id page_namespace user\n",
       "     is_anon revision_id session_id integration action edit_count\n",
       "     edit_count_bucket database dt"
      ]
     },
     "metadata": {},
     "output_type": "display_data"
    }
   ],
   "source": [
    " #check for any instrances where topic id and comment id equal each other\n",
    "topic_check_id_2 <- collect_talk_events %>%\n",
    "  filter(collect_talk_events$comment_id \n",
    "           ==  collect_talk_events$topic_id & component_type == 'topic')\n",
    "\n",
    "topic_check_id_2"
   ]
  },
  {
   "cell_type": "code",
   "execution_count": null,
   "metadata": {},
   "outputs": [],
   "source": [
    "Confirmed there are no topic ids that equal the comment id as expected"
   ]
  },
  {
   "cell_type": "code",
   "execution_count": null,
   "metadata": {},
   "outputs": [],
   "source": [
    "# Check that only one event is sent for each topic event"
   ]
  },
  {
   "cell_type": "code",
   "execution_count": null,
   "metadata": {},
   "outputs": [],
   "source": [
    "topic_check_same_comment <- collect_talk_events %>%\n",
    "    filter(topic_id == \"h-Disambiguating_the_unambiguous-2022-02-18T00:19:00.000Z\")\n",
    "\n",
    "topic_check_same_comment"
   ]
  },
  {
   "cell_type": "markdown",
   "metadata": {},
   "source": [
    "# KPI Test\n",
    "\n",
    "Check that I can perform the joins necessary to calculate the KPIs identifed for this data:\n",
    "- For all comments and new topics with a response, the average time duration from a contributor posting on a talk page to them receiving a response from a Junior Contributor by post type (e.g. comment and new topics)"
   ]
  },
  {
   "cell_type": "code",
   "execution_count": null,
   "metadata": {},
   "outputs": [],
   "source": [
    "If there's a response, then it should be listed as a parent_id\n",
    "- You can find comments and topics without a response by looking for new comment_ids that are not also labeled as comment_parent_ids\n"
   ]
  },
  {
   "cell_type": "code",
   "execution_count": 35,
   "metadata": {},
   "outputs": [],
   "source": [
    "comments_with_response <- collect_talk_events  %>%\n",
    "    filter(comment_id %in% comment_parent_id) # confirms that the comment recieved a response at some point\n"
   ]
  },
  {
   "cell_type": "markdown",
   "metadata": {},
   "source": [
    "Steps would be to find all sessions \n",
    "- Find all sessions where comment_id is in the comment_parent_id list. These are all topics or new comments that have received a response. FEASIBLE\n",
    "- Select the user_id and dt and comment_parent_id and timestamp for all these comments. FEASIBLE\n",
    "- Find sessions events where comment_id is equal to the comment_parent_id. These are all comments that have received a response. FEASBILE: JOIN Comment_parent_id on comment_id\n",
    "- Find the user_id and timestamp for these comments. FEASIBLE\n",
    "- Final Query is to subtract the two timestamps FEASIBLE"
   ]
  },
  {
   "cell_type": "code",
   "execution_count": null,
   "metadata": {},
   "outputs": [],
   "source": [
    "# Check to see if you can find comment_parent_id in the comment_id list"
   ]
  },
  {
   "cell_type": "code",
   "execution_count": 36,
   "metadata": {},
   "outputs": [],
   "source": [
    "comments_without_response <- collect_talk_events  %>%\n",
    "    filter(comment_parent_id %in% comment_id) # confirms that the comment recieved a response at some point\n",
    "\n"
   ]
  },
  {
   "cell_type": "markdown",
   "metadata": {},
   "source": [
    "# Check that the timestamp for the initial comment occurs before the response"
   ]
  },
  {
   "cell_type": "code",
   "execution_count": null,
   "metadata": {},
   "outputs": [],
   "source": [
    "initial_comment_data <- collect_talk_events  %>%\n",
    "    filter(comment_parent_id == 'c-Barter84-2021-11-09T16:17:00.000Z-Djhuty-2021-11-08T15:14:00.000Z') \n",
    "\n",
    "initial_comment_data"
   ]
  },
  {
   "cell_type": "code",
   "execution_count": null,
   "metadata": {},
   "outputs": [],
   "source": [
    "response_comment_data <- collect_talk_events  %>%\n",
    "    filter(comment_id == 'c-Barter84-2021-11-09T16:17:00.000Z-Djhuty-2021-11-08T15:14:00.000Z') \n",
    "\n",
    "response_comment_data"
   ]
  },
  {
   "cell_type": "code",
   "execution_count": null,
   "metadata": {},
   "outputs": [],
   "source": [
    "# Check if there are duplicate comment_id events\n",
    " duplicate_comments <- collect_talk_events %>%\n",
    "     group_by(comment_id) %>% \n",
    "      filter(n()>1)\n",
    " "
   ]
  },
  {
   "cell_type": "markdown",
   "metadata": {},
   "source": [
    "Potential Issues: There's s number of events with the same comment_id logged. Different revision and sessions ids. Why would this happen?"
   ]
  },
  {
   "cell_type": "markdown",
   "metadata": {},
   "source": [
    "# Check joins to EditAttemptStep"
   ]
  },
  {
   "cell_type": "code",
   "execution_count": 25,
   "metadata": {},
   "outputs": [],
   "source": [
    "query <-\n",
    "\n",
    "\"SELECT\n",
    "  tpe.session_id,\n",
    "  eas.event.editing_session_id,\n",
    "  tpe.performer.user_id,\n",
    "  eas.event.user_id\n",
    "FROM\n",
    "  event.mediawiki_talk_page_edit tpe\n",
    "LEFT JOIN \n",
    "  event.editattemptstep eas\n",
    "  ON session_id = eas.event.editing_session_id\n",
    "  AND eas.year = 2021 and eas.MOnth >= 11\n",
    "  WHERE\n",
    "  tpe.year = 2021\n",
    "  and tpe.month = 11\n",
    "  AND tpe.integration = 'discussiontools'\n",
    "\n",
    "\""
   ]
  },
  {
   "cell_type": "code",
   "execution_count": 26,
   "metadata": {},
   "outputs": [
    {
     "name": "stderr",
     "output_type": "stream",
     "text": [
      "Don't forget to authenticate with Kerberos using kinit\n",
      "\n"
     ]
    }
   ],
   "source": [
    "collect_talk_events_weditor  <-  wmfdata::query_hive(query)"
   ]
  },
  {
   "cell_type": "code",
   "execution_count": null,
   "metadata": {},
   "outputs": [],
   "source": [
    "collect_talk_events_weditor %>%\n",
    "    filter(editing_session_id == 'NULL')"
   ]
  },
  {
   "cell_type": "markdown",
   "metadata": {},
   "source": [
    "There's some sessions in editattemptstep but not all. All discussiontools related sessions are in editattemptstep but not all page related sessions. This is likely due to sampling differences. Need to see if we can match sampling rates. That's where we get platform data so we'll need to apply the same sampling rates as possible. "
   ]
  }
 ],
 "metadata": {
  "kernelspec": {
   "display_name": "R",
   "language": "R",
   "name": "ir"
  },
  "language_info": {
   "codemirror_mode": "r",
   "file_extension": ".r",
   "mimetype": "text/x-r-source",
   "name": "R",
   "pygments_lexer": "r",
   "version": "3.5.2"
  }
 },
 "nbformat": 4,
 "nbformat_minor": 4
}
