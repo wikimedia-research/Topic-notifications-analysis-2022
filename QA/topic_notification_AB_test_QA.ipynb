{
 "cells": [
  {
   "cell_type": "markdown",
   "id": "6e825114-8d7d-4373-b256-d2a51e73654b",
   "metadata": {},
   "source": [
    "# Topic Notification AB Test QA\n",
    "\n",
    "Date: 8 June 2022"
   ]
  },
  {
   "cell_type": "markdown",
   "id": "82f22dcb-651b-4071-ba1e-ba904f584704",
   "metadata": {},
   "source": [
    "# References\n",
    "* [Schema Spec](https://docs.google.com/document/d/1kCkU2k82_7NYaIvlY5vlJvOz5pM859seOjz3KSJlriI/edit)\n",
    "* [Schema](https://schema.wikimedia.org/repositories//secondary/jsonschema/analytics/mediawiki/talk_page_edit/current.yaml)\n",
    "* [Task](https://phabricator.wikimedia.org/T304029)\n",
    "* [Bucketing criteria](https://phabricator.wikimedia.org/T304030)\n"
   ]
  },
  {
   "cell_type": "markdown",
   "id": "2b59e156-b6e1-4729-8486-b67196beb15e",
   "metadata": {},
   "source": [
    "# Summary of Checks Performed\n",
    "QA to confirm that the buckets appear balanced for the Topic Notification AB test. \n",
    "\n",
    "Checks to perform:\n",
    "* Balanced as expected (CONFIRMED)\n",
    "* People who are editing at the Wikipedias listed in the ===Candidate wikis  (CONFIRMED)\n",
    "* People are logged in (read: people who are logged out should be excluded from the A/B test) (ISSUE - SOME events logged)\n",
    "* Within the Topic Subscriptions A/B test, we are able to distinguish all events logged for the control group and the test group (CONFIRMED)\n",
    "* People should remain the same group they were bucketed in for the duration of the test, even if they explicitly turn on or off the Enable topic subscription setting within Special:Preferences (CONFIRMED)\n",
    "* People who have or have NOT used [i] Topic Subscriptions prior to the A/B test beginning. (Confirmed)\n",
    "* Confirm everything needed to calculate KPI: \"For all comments and new topics with a response, the average time duration from \"Person A\" posting on a talk page and \"Person B\" posting a response, grouped by experience level\".  (CONFIRMED ALL INSTRUMENTATION IS AVAILABLE - Further work on the final query and groupsing still needed)"
   ]
  },
  {
   "cell_type": "code",
   "execution_count": 1,
   "id": "d30594c7-0bbf-47e8-be75-31fa9b769d6c",
   "metadata": {},
   "outputs": [],
   "source": [
    "shhh <- function(expr) suppressPackageStartupMessages(suppressWarnings(suppressMessages(expr)))\n",
    "shhh({\n",
    "    library(magrittr); library(zeallot); library(glue); library(tidyverse); library(zoo); library(lubridate)\n",
    "    library(scales)\n",
    "})"
   ]
  },
  {
   "cell_type": "code",
   "execution_count": 71,
   "id": "ae637d45-6940-4684-89de-64ae52602e87",
   "metadata": {},
   "outputs": [],
   "source": [
    "#collect all test events\n",
    "query <-\n",
    "\"\n",
    "SELECT\n",
    "  date_format(dt, 'yyyy-MM-dd') as attempt_dt,\n",
    "  event.editing_session_id as edit_attempt_id,\n",
    "  wiki As wiki,\n",
    "  event.bucket AS experiment_group,\n",
    "  event.editor_interface as interface,\n",
    "  event.integration as integration,\n",
    "  event.user_id as user_id,\n",
    "  if(event.anonymous_user_token is NULL, false, true) as user_is_anonymous_bytoken, \n",
    "  if(event.page_ns % 2 = 1, true, false) as is_talk_page,\n",
    "  event.user_id != 0 as user_is_registered, \n",
    "  event.platform as platform, \n",
    "-- review participating wikis\n",
    "  IF( wiki IN ('amwiki', 'arzwiki', 'bnwiki', 'eswiki', 'fawiki', 'frwiki', 'hewiki',  'hiwiki',  'idwiki', 'itwiki',  'jawiki',  \n",
    " 'kowiki', 'nlwiki', 'omwiki', 'plwiki', 'ptwiki',  'thwiki',\n",
    "    'ukwiki', 'viwiki','zhwiki'), 'TRUE', 'FALSE'\n",
    ") AS is_AB_test_wiki,\n",
    "  event.is_oversample AS is_oversample\n",
    "FROM event.editattemptstep\n",
    "WHERE\n",
    "-- since deployment\n",
    "  Year = 2022\n",
    "  AND month = 06 \n",
    "  AND day >= 02\n",
    "  -- remove bots\n",
    "  AND useragent.is_bot = false\n",
    "-- only test events\n",
    "  AND event.bucket in ('test', 'control')\n",
    "\""
   ]
  },
  {
   "cell_type": "code",
   "execution_count": 72,
   "id": "9bd53c21-ea69-4ce5-9fd9-afa61d1e1d31",
   "metadata": {},
   "outputs": [
    {
     "name": "stderr",
     "output_type": "stream",
     "text": [
      "Don't forget to authenticate with Kerberos using kinit\n",
      "\n"
     ]
    }
   ],
   "source": [
    "edit_sessions <- wmfdata::query_hive(query)"
   ]
  },
  {
   "cell_type": "markdown",
   "id": "62ee40fe-2b25-49f8-9335-2a9645e10b57",
   "metadata": {},
   "source": [
    "# Confirm buckets are balanced"
   ]
  },
  {
   "cell_type": "markdown",
   "id": "a2030a6d-dce6-458f-b7ee-7e24d4ecb80a",
   "metadata": {},
   "source": [
    "## Overall"
   ]
  },
  {
   "cell_type": "code",
   "execution_count": 73,
   "id": "26b748e1-d4e7-42b7-a6f1-e911765c0b30",
   "metadata": {},
   "outputs": [
    {
     "name": "stderr",
     "output_type": "stream",
     "text": [
      "`summarise()` regrouping output by 'experiment_group' (override with `.groups` argument)\n",
      "\n"
     ]
    },
    {
     "data": {
      "text/html": [
       "<table>\n",
       "<caption>A grouped_df: 2 × 4</caption>\n",
       "<thead>\n",
       "\t<tr><th scope=col>experiment_group</th><th scope=col>is_ab_test_wiki</th><th scope=col>users</th><th scope=col>attempts</th></tr>\n",
       "\t<tr><th scope=col>&lt;chr&gt;</th><th scope=col>&lt;lgl&gt;</th><th scope=col>&lt;int&gt;</th><th scope=col>&lt;int&gt;</th></tr>\n",
       "</thead>\n",
       "<tbody>\n",
       "\t<tr><td>control</td><td>TRUE</td><td>7168</td><td>31776</td></tr>\n",
       "\t<tr><td>test   </td><td>TRUE</td><td>7208</td><td>30738</td></tr>\n",
       "</tbody>\n",
       "</table>\n"
      ],
      "text/latex": [
       "A grouped\\_df: 2 × 4\n",
       "\\begin{tabular}{llll}\n",
       " experiment\\_group & is\\_ab\\_test\\_wiki & users & attempts\\\\\n",
       " <chr> & <lgl> & <int> & <int>\\\\\n",
       "\\hline\n",
       "\t control & TRUE & 7168 & 31776\\\\\n",
       "\t test    & TRUE & 7208 & 30738\\\\\n",
       "\\end{tabular}\n"
      ],
      "text/markdown": [
       "\n",
       "A grouped_df: 2 × 4\n",
       "\n",
       "| experiment_group &lt;chr&gt; | is_ab_test_wiki &lt;lgl&gt; | users &lt;int&gt; | attempts &lt;int&gt; |\n",
       "|---|---|---|---|\n",
       "| control | TRUE | 7168 | 31776 |\n",
       "| test    | TRUE | 7208 | 30738 |\n",
       "\n"
      ],
      "text/plain": [
       "  experiment_group is_ab_test_wiki users attempts\n",
       "1 control          TRUE            7168  31776   \n",
       "2 test             TRUE            7208  30738   "
      ]
     },
     "metadata": {},
     "output_type": "display_data"
    }
   ],
   "source": [
    "#check overall user bucket number to confirm if buckets are balanced\n",
    "\n",
    "sessions_by_bucket <- edit_sessions %>%\n",
    "  group_by(experiment_group, is_ab_test_wiki) %>%\n",
    "  summarise(users = n_distinct(user_id),\n",
    "        attempts = n_distinct(edit_attempt_id))\n",
    "\n",
    "sessions_by_bucket"
   ]
  },
  {
   "cell_type": "markdown",
   "id": "ef8c642c-f335-49e2-b072-d48ecaeff9ef",
   "metadata": {},
   "source": [
    "* Confirmed bucketing is balanced. Across all wikis, thre is an expected close to 50/50 split of users between the control and test groups. 7168 users that made an edit attempt in the control and 7208 users that made an edit attempt in the test group. The number of associated edit attempts within each bucket also appear as expected if the buckets are balanced.\n",
    "* Confirmed that only attempts in the AB test wikis have been logged."
   ]
  },
  {
   "cell_type": "markdown",
   "id": "f744c162-75e5-4ea8-97eb-a5b307cd6ca8",
   "metadata": {},
   "source": [
    "## By Wiki"
   ]
  },
  {
   "cell_type": "code",
   "execution_count": 74,
   "id": "f741a883-cd5c-4432-897b-01f83537d9d8",
   "metadata": {},
   "outputs": [
    {
     "name": "stderr",
     "output_type": "stream",
     "text": [
      "`summarise()` regrouping output by 'experiment_group' (override with `.groups` argument)\n",
      "\n"
     ]
    },
    {
     "data": {
      "text/html": [
       "<table>\n",
       "<caption>A grouped_df: 37 × 4</caption>\n",
       "<thead>\n",
       "\t<tr><th scope=col>experiment_group</th><th scope=col>wiki</th><th scope=col>users</th><th scope=col>attempts</th></tr>\n",
       "\t<tr><th scope=col>&lt;chr&gt;</th><th scope=col>&lt;chr&gt;</th><th scope=col>&lt;int&gt;</th><th scope=col>&lt;int&gt;</th></tr>\n",
       "</thead>\n",
       "<tbody>\n",
       "\t<tr><td>test   </td><td>amwiki </td><td>   2</td><td>   3</td></tr>\n",
       "\t<tr><td>control</td><td>arzwiki</td><td>   4</td><td>  50</td></tr>\n",
       "\t<tr><td>test   </td><td>arzwiki</td><td>   7</td><td>  35</td></tr>\n",
       "\t<tr><td>control</td><td>bnwiki </td><td>  59</td><td> 199</td></tr>\n",
       "\t<tr><td>test   </td><td>bnwiki </td><td>  66</td><td> 410</td></tr>\n",
       "\t<tr><td>control</td><td>eswiki </td><td>1132</td><td>4246</td></tr>\n",
       "\t<tr><td>test   </td><td>eswiki </td><td>1089</td><td>3841</td></tr>\n",
       "\t<tr><td>control</td><td>fawiki </td><td> 284</td><td>1540</td></tr>\n",
       "\t<tr><td>test   </td><td>fawiki </td><td> 270</td><td>1135</td></tr>\n",
       "\t<tr><td>control</td><td>frwiki </td><td>1259</td><td>5874</td></tr>\n",
       "\t<tr><td>test   </td><td>frwiki </td><td>1293</td><td>6165</td></tr>\n",
       "\t<tr><td>control</td><td>hewiki </td><td> 252</td><td>1724</td></tr>\n",
       "\t<tr><td>test   </td><td>hewiki </td><td> 259</td><td>1585</td></tr>\n",
       "\t<tr><td>control</td><td>hiwiki </td><td>  50</td><td>  98</td></tr>\n",
       "\t<tr><td>test   </td><td>hiwiki </td><td>  39</td><td> 182</td></tr>\n",
       "\t<tr><td>control</td><td>idwiki </td><td> 182</td><td> 670</td></tr>\n",
       "\t<tr><td>test   </td><td>idwiki </td><td> 201</td><td> 682</td></tr>\n",
       "\t<tr><td>control</td><td>itwiki </td><td> 609</td><td>3063</td></tr>\n",
       "\t<tr><td>test   </td><td>itwiki </td><td> 621</td><td>2765</td></tr>\n",
       "\t<tr><td>control</td><td>jawiki </td><td>1006</td><td>3069</td></tr>\n",
       "\t<tr><td>test   </td><td>jawiki </td><td> 935</td><td>3032</td></tr>\n",
       "\t<tr><td>control</td><td>kowiki </td><td> 132</td><td>1427</td></tr>\n",
       "\t<tr><td>test   </td><td>kowiki </td><td> 129</td><td>1027</td></tr>\n",
       "\t<tr><td>control</td><td>nlwiki </td><td> 303</td><td>1823</td></tr>\n",
       "\t<tr><td>test   </td><td>nlwiki </td><td> 305</td><td>1570</td></tr>\n",
       "\t<tr><td>control</td><td>plwiki </td><td> 347</td><td>1527</td></tr>\n",
       "\t<tr><td>test   </td><td>plwiki </td><td> 340</td><td>1591</td></tr>\n",
       "\t<tr><td>control</td><td>ptwiki </td><td> 437</td><td>1301</td></tr>\n",
       "\t<tr><td>test   </td><td>ptwiki </td><td> 505</td><td>1617</td></tr>\n",
       "\t<tr><td>control</td><td>thwiki </td><td>  88</td><td> 296</td></tr>\n",
       "\t<tr><td>test   </td><td>thwiki </td><td>  66</td><td> 242</td></tr>\n",
       "\t<tr><td>control</td><td>ukwiki </td><td> 216</td><td>1244</td></tr>\n",
       "\t<tr><td>test   </td><td>ukwiki </td><td> 246</td><td>1465</td></tr>\n",
       "\t<tr><td>control</td><td>viwiki </td><td> 137</td><td> 712</td></tr>\n",
       "\t<tr><td>test   </td><td>viwiki </td><td> 146</td><td> 569</td></tr>\n",
       "\t<tr><td>control</td><td>zhwiki </td><td> 681</td><td>2913</td></tr>\n",
       "\t<tr><td>test   </td><td>zhwiki </td><td> 710</td><td>2822</td></tr>\n",
       "</tbody>\n",
       "</table>\n"
      ],
      "text/latex": [
       "A grouped\\_df: 37 × 4\n",
       "\\begin{tabular}{llll}\n",
       " experiment\\_group & wiki & users & attempts\\\\\n",
       " <chr> & <chr> & <int> & <int>\\\\\n",
       "\\hline\n",
       "\t test    & amwiki  &    2 &    3\\\\\n",
       "\t control & arzwiki &    4 &   50\\\\\n",
       "\t test    & arzwiki &    7 &   35\\\\\n",
       "\t control & bnwiki  &   59 &  199\\\\\n",
       "\t test    & bnwiki  &   66 &  410\\\\\n",
       "\t control & eswiki  & 1132 & 4246\\\\\n",
       "\t test    & eswiki  & 1089 & 3841\\\\\n",
       "\t control & fawiki  &  284 & 1540\\\\\n",
       "\t test    & fawiki  &  270 & 1135\\\\\n",
       "\t control & frwiki  & 1259 & 5874\\\\\n",
       "\t test    & frwiki  & 1293 & 6165\\\\\n",
       "\t control & hewiki  &  252 & 1724\\\\\n",
       "\t test    & hewiki  &  259 & 1585\\\\\n",
       "\t control & hiwiki  &   50 &   98\\\\\n",
       "\t test    & hiwiki  &   39 &  182\\\\\n",
       "\t control & idwiki  &  182 &  670\\\\\n",
       "\t test    & idwiki  &  201 &  682\\\\\n",
       "\t control & itwiki  &  609 & 3063\\\\\n",
       "\t test    & itwiki  &  621 & 2765\\\\\n",
       "\t control & jawiki  & 1006 & 3069\\\\\n",
       "\t test    & jawiki  &  935 & 3032\\\\\n",
       "\t control & kowiki  &  132 & 1427\\\\\n",
       "\t test    & kowiki  &  129 & 1027\\\\\n",
       "\t control & nlwiki  &  303 & 1823\\\\\n",
       "\t test    & nlwiki  &  305 & 1570\\\\\n",
       "\t control & plwiki  &  347 & 1527\\\\\n",
       "\t test    & plwiki  &  340 & 1591\\\\\n",
       "\t control & ptwiki  &  437 & 1301\\\\\n",
       "\t test    & ptwiki  &  505 & 1617\\\\\n",
       "\t control & thwiki  &   88 &  296\\\\\n",
       "\t test    & thwiki  &   66 &  242\\\\\n",
       "\t control & ukwiki  &  216 & 1244\\\\\n",
       "\t test    & ukwiki  &  246 & 1465\\\\\n",
       "\t control & viwiki  &  137 &  712\\\\\n",
       "\t test    & viwiki  &  146 &  569\\\\\n",
       "\t control & zhwiki  &  681 & 2913\\\\\n",
       "\t test    & zhwiki  &  710 & 2822\\\\\n",
       "\\end{tabular}\n"
      ],
      "text/markdown": [
       "\n",
       "A grouped_df: 37 × 4\n",
       "\n",
       "| experiment_group &lt;chr&gt; | wiki &lt;chr&gt; | users &lt;int&gt; | attempts &lt;int&gt; |\n",
       "|---|---|---|---|\n",
       "| test    | amwiki  |    2 |    3 |\n",
       "| control | arzwiki |    4 |   50 |\n",
       "| test    | arzwiki |    7 |   35 |\n",
       "| control | bnwiki  |   59 |  199 |\n",
       "| test    | bnwiki  |   66 |  410 |\n",
       "| control | eswiki  | 1132 | 4246 |\n",
       "| test    | eswiki  | 1089 | 3841 |\n",
       "| control | fawiki  |  284 | 1540 |\n",
       "| test    | fawiki  |  270 | 1135 |\n",
       "| control | frwiki  | 1259 | 5874 |\n",
       "| test    | frwiki  | 1293 | 6165 |\n",
       "| control | hewiki  |  252 | 1724 |\n",
       "| test    | hewiki  |  259 | 1585 |\n",
       "| control | hiwiki  |   50 |   98 |\n",
       "| test    | hiwiki  |   39 |  182 |\n",
       "| control | idwiki  |  182 |  670 |\n",
       "| test    | idwiki  |  201 |  682 |\n",
       "| control | itwiki  |  609 | 3063 |\n",
       "| test    | itwiki  |  621 | 2765 |\n",
       "| control | jawiki  | 1006 | 3069 |\n",
       "| test    | jawiki  |  935 | 3032 |\n",
       "| control | kowiki  |  132 | 1427 |\n",
       "| test    | kowiki  |  129 | 1027 |\n",
       "| control | nlwiki  |  303 | 1823 |\n",
       "| test    | nlwiki  |  305 | 1570 |\n",
       "| control | plwiki  |  347 | 1527 |\n",
       "| test    | plwiki  |  340 | 1591 |\n",
       "| control | ptwiki  |  437 | 1301 |\n",
       "| test    | ptwiki  |  505 | 1617 |\n",
       "| control | thwiki  |   88 |  296 |\n",
       "| test    | thwiki  |   66 |  242 |\n",
       "| control | ukwiki  |  216 | 1244 |\n",
       "| test    | ukwiki  |  246 | 1465 |\n",
       "| control | viwiki  |  137 |  712 |\n",
       "| test    | viwiki  |  146 |  569 |\n",
       "| control | zhwiki  |  681 | 2913 |\n",
       "| test    | zhwiki  |  710 | 2822 |\n",
       "\n"
      ],
      "text/plain": [
       "   experiment_group wiki    users attempts\n",
       "1  test             amwiki     2     3    \n",
       "2  control          arzwiki    4    50    \n",
       "3  test             arzwiki    7    35    \n",
       "4  control          bnwiki    59   199    \n",
       "5  test             bnwiki    66   410    \n",
       "6  control          eswiki  1132  4246    \n",
       "7  test             eswiki  1089  3841    \n",
       "8  control          fawiki   284  1540    \n",
       "9  test             fawiki   270  1135    \n",
       "10 control          frwiki  1259  5874    \n",
       "11 test             frwiki  1293  6165    \n",
       "12 control          hewiki   252  1724    \n",
       "13 test             hewiki   259  1585    \n",
       "14 control          hiwiki    50    98    \n",
       "15 test             hiwiki    39   182    \n",
       "16 control          idwiki   182   670    \n",
       "17 test             idwiki   201   682    \n",
       "18 control          itwiki   609  3063    \n",
       "19 test             itwiki   621  2765    \n",
       "20 control          jawiki  1006  3069    \n",
       "21 test             jawiki   935  3032    \n",
       "22 control          kowiki   132  1427    \n",
       "23 test             kowiki   129  1027    \n",
       "24 control          nlwiki   303  1823    \n",
       "25 test             nlwiki   305  1570    \n",
       "26 control          plwiki   347  1527    \n",
       "27 test             plwiki   340  1591    \n",
       "28 control          ptwiki   437  1301    \n",
       "29 test             ptwiki   505  1617    \n",
       "30 control          thwiki    88   296    \n",
       "31 test             thwiki    66   242    \n",
       "32 control          ukwiki   216  1244    \n",
       "33 test             ukwiki   246  1465    \n",
       "34 control          viwiki   137   712    \n",
       "35 test             viwiki   146   569    \n",
       "36 control          zhwiki   681  2913    \n",
       "37 test             zhwiki   710  2822    "
      ]
     },
     "metadata": {},
     "output_type": "display_data"
    }
   ],
   "source": [
    "\n",
    "sessions_by_bucket_wiki <- edit_sessions %>%\n",
    "  group_by(experiment_group, wiki) %>%\n",
    "  summarise(users = n_distinct(user_id),\n",
    "        attempts = n_distinct(edit_attempt_id)) %>%\n",
    "  arrange(wiki)\n",
    "\n",
    "sessions_by_bucket_wiki"
   ]
  },
  {
   "cell_type": "raw",
   "id": "f21d9438-96e6-4d18-b097-c65a6b7ee0e0",
   "metadata": {},
   "source": [
    "* Buckets appears balanced across all participating wikis\n",
    "* No AB events yet logged on omwiki but that's not unexpected as it's a smaller wiki."
   ]
  },
  {
   "cell_type": "markdown",
   "id": "05f9a27a-e666-47d5-a1f1-b568d8c98768",
   "metadata": {},
   "source": [
    "## Are all events on desktop"
   ]
  },
  {
   "cell_type": "code",
   "execution_count": 75,
   "id": "6c222586-ea89-413f-8597-1f1bb4cf736c",
   "metadata": {},
   "outputs": [
    {
     "name": "stderr",
     "output_type": "stream",
     "text": [
      "`summarise()` regrouping output by 'experiment_group' (override with `.groups` argument)\n",
      "\n"
     ]
    },
    {
     "data": {
      "text/html": [
       "<table>\n",
       "<caption>A grouped_df: 4 × 4</caption>\n",
       "<thead>\n",
       "\t<tr><th scope=col>experiment_group</th><th scope=col>platform</th><th scope=col>users</th><th scope=col>attempts</th></tr>\n",
       "\t<tr><th scope=col>&lt;chr&gt;</th><th scope=col>&lt;chr&gt;</th><th scope=col>&lt;int&gt;</th><th scope=col>&lt;int&gt;</th></tr>\n",
       "</thead>\n",
       "<tbody>\n",
       "\t<tr><td>control</td><td>desktop</td><td>7168</td><td>31776</td></tr>\n",
       "\t<tr><td>control</td><td>other  </td><td>   1</td><td>    1</td></tr>\n",
       "\t<tr><td>test   </td><td>desktop</td><td>7208</td><td>30738</td></tr>\n",
       "\t<tr><td>test   </td><td>other  </td><td>   1</td><td>    1</td></tr>\n",
       "</tbody>\n",
       "</table>\n"
      ],
      "text/latex": [
       "A grouped\\_df: 4 × 4\n",
       "\\begin{tabular}{llll}\n",
       " experiment\\_group & platform & users & attempts\\\\\n",
       " <chr> & <chr> & <int> & <int>\\\\\n",
       "\\hline\n",
       "\t control & desktop & 7168 & 31776\\\\\n",
       "\t control & other   &    1 &     1\\\\\n",
       "\t test    & desktop & 7208 & 30738\\\\\n",
       "\t test    & other   &    1 &     1\\\\\n",
       "\\end{tabular}\n"
      ],
      "text/markdown": [
       "\n",
       "A grouped_df: 4 × 4\n",
       "\n",
       "| experiment_group &lt;chr&gt; | platform &lt;chr&gt; | users &lt;int&gt; | attempts &lt;int&gt; |\n",
       "|---|---|---|---|\n",
       "| control | desktop | 7168 | 31776 |\n",
       "| control | other   |    1 |     1 |\n",
       "| test    | desktop | 7208 | 30738 |\n",
       "| test    | other   |    1 |     1 |\n",
       "\n"
      ],
      "text/plain": [
       "  experiment_group platform users attempts\n",
       "1 control          desktop  7168  31776   \n",
       "2 control          other       1      1   \n",
       "3 test             desktop  7208  30738   \n",
       "4 test             other       1      1   "
      ]
     },
     "metadata": {},
     "output_type": "display_data"
    }
   ],
   "source": [
    "sessions_by_bucket_platform <- edit_sessions %>%\n",
    "  group_by(experiment_group, platform) %>%\n",
    "  summarise(users = n_distinct(user_id),\n",
    "        attempts = n_distinct(edit_attempt_id))\n",
    "\n",
    "sessions_by_bucket_platform"
   ]
  },
  {
   "cell_type": "markdown",
   "id": "304c48c2-a835-4e3a-9ae8-aa5e3b8546b9",
   "metadata": {},
   "source": [
    "There have been just two event logged as coming from the other platform but the majority of attempts are from desktop as expected."
   ]
  },
  {
   "cell_type": "markdown",
   "id": "9305413a-0d32-4c04-a092-243f0e05f5a8",
   "metadata": {},
   "source": [
    "## Across all interface types"
   ]
  },
  {
   "cell_type": "code",
   "execution_count": 77,
   "id": "eb966da6-cb35-4148-8504-9c72aa3fcce6",
   "metadata": {},
   "outputs": [
    {
     "name": "stderr",
     "output_type": "stream",
     "text": [
      "`summarise()` regrouping output by 'experiment_group' (override with `.groups` argument)\n",
      "\n"
     ]
    },
    {
     "data": {
      "text/html": [
       "<table>\n",
       "<caption>A grouped_df: 6 × 4</caption>\n",
       "<thead>\n",
       "\t<tr><th scope=col>experiment_group</th><th scope=col>interface</th><th scope=col>users</th><th scope=col>attempts</th></tr>\n",
       "\t<tr><th scope=col>&lt;chr&gt;</th><th scope=col>&lt;chr&gt;</th><th scope=col>&lt;int&gt;</th><th scope=col>&lt;int&gt;</th></tr>\n",
       "</thead>\n",
       "<tbody>\n",
       "\t<tr><td>control</td><td>visualeditor </td><td>2462</td><td> 7157</td></tr>\n",
       "\t<tr><td>control</td><td>wikitext     </td><td>5804</td><td>21093</td></tr>\n",
       "\t<tr><td>control</td><td>wikitext-2017</td><td>1303</td><td> 6356</td></tr>\n",
       "\t<tr><td>test   </td><td>visualeditor </td><td>2479</td><td> 6603</td></tr>\n",
       "\t<tr><td>test   </td><td>wikitext     </td><td>5859</td><td>21493</td></tr>\n",
       "\t<tr><td>test   </td><td>wikitext-2017</td><td>1204</td><td> 5169</td></tr>\n",
       "</tbody>\n",
       "</table>\n"
      ],
      "text/latex": [
       "A grouped\\_df: 6 × 4\n",
       "\\begin{tabular}{llll}\n",
       " experiment\\_group & interface & users & attempts\\\\\n",
       " <chr> & <chr> & <int> & <int>\\\\\n",
       "\\hline\n",
       "\t control & visualeditor  & 2462 &  7157\\\\\n",
       "\t control & wikitext      & 5804 & 21093\\\\\n",
       "\t control & wikitext-2017 & 1303 &  6356\\\\\n",
       "\t test    & visualeditor  & 2479 &  6603\\\\\n",
       "\t test    & wikitext      & 5859 & 21493\\\\\n",
       "\t test    & wikitext-2017 & 1204 &  5169\\\\\n",
       "\\end{tabular}\n"
      ],
      "text/markdown": [
       "\n",
       "A grouped_df: 6 × 4\n",
       "\n",
       "| experiment_group &lt;chr&gt; | interface &lt;chr&gt; | users &lt;int&gt; | attempts &lt;int&gt; |\n",
       "|---|---|---|---|\n",
       "| control | visualeditor  | 2462 |  7157 |\n",
       "| control | wikitext      | 5804 | 21093 |\n",
       "| control | wikitext-2017 | 1303 |  6356 |\n",
       "| test    | visualeditor  | 2479 |  6603 |\n",
       "| test    | wikitext      | 5859 | 21493 |\n",
       "| test    | wikitext-2017 | 1204 |  5169 |\n",
       "\n"
      ],
      "text/plain": [
       "  experiment_group interface     users attempts\n",
       "1 control          visualeditor  2462   7157   \n",
       "2 control          wikitext      5804  21093   \n",
       "3 control          wikitext-2017 1303   6356   \n",
       "4 test             visualeditor  2479   6603   \n",
       "5 test             wikitext      5859  21493   \n",
       "6 test             wikitext-2017 1204   5169   "
      ]
     },
     "metadata": {},
     "output_type": "display_data"
    }
   ],
   "source": [
    "sessions_by_bucket_interface <- edit_sessions %>%\n",
    "  group_by(experiment_group, interface) %>%\n",
    "  summarise(users = n_distinct(user_id),\n",
    "        attempts = n_distinct(edit_attempt_id))\n",
    "\n",
    "sessions_by_bucket_interface"
   ]
  },
  {
   "cell_type": "markdown",
   "id": "ce8063a0-8365-4b9a-b2d5-523fd6e7dc8f",
   "metadata": {},
   "source": [
    "* Confirmed events occur across all interface types for both control and test groups."
   ]
  },
  {
   "cell_type": "markdown",
   "id": "14defeaf-8cf5-4cf5-9bc0-b89cd8d542f1",
   "metadata": {},
   "source": [
    "# Only logged-in users are bucketed"
   ]
  },
  {
   "cell_type": "code",
   "execution_count": 78,
   "id": "3f111830-6f9f-4ec5-868b-e7fafbc59766",
   "metadata": {},
   "outputs": [
    {
     "name": "stderr",
     "output_type": "stream",
     "text": [
      "`summarise()` ungrouping output (override with `.groups` argument)\n",
      "\n"
     ]
    },
    {
     "data": {
      "text/html": [
       "<table>\n",
       "<caption>A tibble: 2 × 3</caption>\n",
       "<thead>\n",
       "\t<tr><th scope=col>experiment_group</th><th scope=col>users</th><th scope=col>attempts</th></tr>\n",
       "\t<tr><th scope=col>&lt;chr&gt;</th><th scope=col>&lt;int&gt;</th><th scope=col>&lt;int&gt;</th></tr>\n",
       "</thead>\n",
       "<tbody>\n",
       "\t<tr><td>control</td><td>1</td><td>5</td></tr>\n",
       "\t<tr><td>test   </td><td>1</td><td>2</td></tr>\n",
       "</tbody>\n",
       "</table>\n"
      ],
      "text/latex": [
       "A tibble: 2 × 3\n",
       "\\begin{tabular}{lll}\n",
       " experiment\\_group & users & attempts\\\\\n",
       " <chr> & <int> & <int>\\\\\n",
       "\\hline\n",
       "\t control & 1 & 5\\\\\n",
       "\t test    & 1 & 2\\\\\n",
       "\\end{tabular}\n"
      ],
      "text/markdown": [
       "\n",
       "A tibble: 2 × 3\n",
       "\n",
       "| experiment_group &lt;chr&gt; | users &lt;int&gt; | attempts &lt;int&gt; |\n",
       "|---|---|---|\n",
       "| control | 1 | 5 |\n",
       "| test    | 1 | 2 |\n",
       "\n"
      ],
      "text/plain": [
       "  experiment_group users attempts\n",
       "1 control          1     5       \n",
       "2 test             1     2       "
      ]
     },
     "metadata": {},
     "output_type": "display_data"
    }
   ],
   "source": [
    "# check by user_is_anonymous_byid\n",
    "\n",
    "any_anon_sessions <- edit_sessions %>%\n",
    "  filter(user_id == 0) %>% # find anon session\n",
    "  group_by(experiment_group) %>%\n",
    "  summarise(users = n_distinct(user_id),\n",
    "        attempts = n_distinct(edit_attempt_id))\n",
    "\n",
    "any_anon_sessions"
   ]
  },
  {
   "cell_type": "markdown",
   "id": "f01a5216-0684-4f31-bd54-14d10e6ce6fc",
   "metadata": {},
   "source": [
    "ISSUE: There are 7 total edit attempts (5 control and 2 test) that are in the AB test but indicate they are from a logged out user (user_id = 0). These have been logged started on June 2nd through June 8th. Just 1 or two events a day or so. All occured on VE with page integration and across several different wikis. "
   ]
  },
  {
   "cell_type": "markdown",
   "id": "cee78d1f-817d-4099-ba62-e806862047ce",
   "metadata": {},
   "source": [
    "# People should remain the same group they were bucketed in for the duration of the test"
   ]
  },
  {
   "cell_type": "code",
   "execution_count": 80,
   "id": "489fcac7-bc4c-4a9d-a6bb-4cd40d98be7d",
   "metadata": {},
   "outputs": [
    {
     "name": "stderr",
     "output_type": "stream",
     "text": [
      "`summarise()` ungrouping output (override with `.groups` argument)\n",
      "\n"
     ]
    },
    {
     "data": {
      "text/html": [
       "<table>\n",
       "<caption>A tibble: 2 × 3</caption>\n",
       "<thead>\n",
       "\t<tr><th scope=col>user_id</th><th scope=col>control_events</th><th scope=col>test_events</th></tr>\n",
       "\t<tr><th scope=col>&lt;int&gt;</th><th scope=col>&lt;int&gt;</th><th scope=col>&lt;int&gt;</th></tr>\n",
       "</thead>\n",
       "<tbody>\n",
       "\t<tr><td>      0</td><td>3</td><td> 6</td></tr>\n",
       "\t<tr><td>2770397</td><td>2</td><td>28</td></tr>\n",
       "</tbody>\n",
       "</table>\n"
      ],
      "text/latex": [
       "A tibble: 2 × 3\n",
       "\\begin{tabular}{lll}\n",
       " user\\_id & control\\_events & test\\_events\\\\\n",
       " <int> & <int> & <int>\\\\\n",
       "\\hline\n",
       "\t       0 & 3 &  6\\\\\n",
       "\t 2770397 & 2 & 28\\\\\n",
       "\\end{tabular}\n"
      ],
      "text/markdown": [
       "\n",
       "A tibble: 2 × 3\n",
       "\n",
       "| user_id &lt;int&gt; | control_events &lt;int&gt; | test_events &lt;int&gt; |\n",
       "|---|---|---|\n",
       "|       0 | 3 |  6 |\n",
       "| 2770397 | 2 | 28 |\n",
       "\n"
      ],
      "text/plain": [
       "  user_id control_events test_events\n",
       "1       0 3               6         \n",
       "2 2770397 2              28         "
      ]
     },
     "metadata": {},
     "output_type": "display_data"
    }
   ],
   "source": [
    "# check for any duplicate user_ids across groups\n",
    "\n",
    "\n",
    "users_across_groups <- edit_sessions %>%\n",
    "    group_by(user_id) %>%\n",
    "    summarise(control_events = sum(experiment_group == 'test'),\n",
    "              test_events = sum(experiment_group == 'control'))  %>%\n",
    "    filter(control_events > 0  & test_events > 0)\n",
    "\n",
    "\n",
    "users_across_groups"
   ]
  },
  {
   "cell_type": "markdown",
   "id": "ab0c6dca-a8c3-46a2-8fd2-f6e5a9202d48",
   "metadata": {},
   "source": [
    "* Confirmed with the small exception of 6 total logged-out attempts, which is expected since we can't differentiate those users. "
   ]
  },
  {
   "cell_type": "markdown",
   "id": "13b98377-bb40-4334-b337-9ff4e5adce0b",
   "metadata": {},
   "source": [
    "# People who have or have NOT used [i] Topic Subscriptions prior to the A/B test beginning.\n",
    "\n",
    "Note: This will use [prefUpdate](https://schema.wikimedia.org/repositories//secondary/jsonschema/analytics/legacy/prefupdate/current.yaml) instrument. Topic subscription properties added in https://phabricator.wikimedia.org/T307733. Query below confirms this is working as expected and includes userID so joins can be made. "
   ]
  },
  {
   "cell_type": "code",
   "execution_count": 62,
   "id": "f8f12d86-ec5f-4179-9695-147a8bebc9a7",
   "metadata": {},
   "outputs": [],
   "source": [
    "# Check prefUpdate\n",
    "\n",
    "query <-\n",
    "\n",
    "\"SELECT\n",
    "    event.saveTimestamp,\n",
    "    event.userID,\n",
    "    event.property,\n",
    "    event.value\n",
    "FROM\n",
    "  event.prefupdate\n",
    "WHERE\n",
    "    year = 2022\n",
    "    AND month = 06\n",
    "    AND day >= 02\n",
    "    AND event.property IN ('discussiontools-topicsubscription','discussiontools-autotopicsub')\n",
    "\""
   ]
  },
  {
   "cell_type": "code",
   "execution_count": 63,
   "id": "c18185b7-ab71-4d9d-8cfc-29e02745a7e0",
   "metadata": {},
   "outputs": [
    {
     "name": "stderr",
     "output_type": "stream",
     "text": [
      "Don't forget to authenticate with Kerberos using kinit\n",
      "\n"
     ]
    }
   ],
   "source": [
    "topic_preferences <- wmfdata::query_hive(query)"
   ]
  },
  {
   "cell_type": "code",
   "execution_count": 70,
   "id": "d140f0b1-cff7-4825-8d3d-d19ebfa65ffd",
   "metadata": {},
   "outputs": [
    {
     "name": "stderr",
     "output_type": "stream",
     "text": [
      "`summarise()` regrouping output by 'property' (override with `.groups` argument)\n",
      "\n"
     ]
    },
    {
     "data": {
      "text/html": [
       "<table>\n",
       "<caption>A grouped_df: 5 × 3</caption>\n",
       "<thead>\n",
       "\t<tr><th scope=col>property</th><th scope=col>value</th><th scope=col>n_users</th></tr>\n",
       "\t<tr><th scope=col>&lt;chr&gt;</th><th scope=col>&lt;chr&gt;</th><th scope=col>&lt;int&gt;</th></tr>\n",
       "</thead>\n",
       "<tbody>\n",
       "\t<tr><td>discussiontools-autotopicsub     </td><td>0    </td><td> 9</td></tr>\n",
       "\t<tr><td>discussiontools-autotopicsub     </td><td>true </td><td>33</td></tr>\n",
       "\t<tr><td>discussiontools-topicsubscription</td><td>1    </td><td> 2</td></tr>\n",
       "\t<tr><td>discussiontools-topicsubscription</td><td>false</td><td>28</td></tr>\n",
       "\t<tr><td>discussiontools-topicsubscription</td><td>true </td><td> 2</td></tr>\n",
       "</tbody>\n",
       "</table>\n"
      ],
      "text/latex": [
       "A grouped\\_df: 5 × 3\n",
       "\\begin{tabular}{lll}\n",
       " property & value & n\\_users\\\\\n",
       " <chr> & <chr> & <int>\\\\\n",
       "\\hline\n",
       "\t discussiontools-autotopicsub      & 0     &  9\\\\\n",
       "\t discussiontools-autotopicsub      & true  & 33\\\\\n",
       "\t discussiontools-topicsubscription & 1     &  2\\\\\n",
       "\t discussiontools-topicsubscription & false & 28\\\\\n",
       "\t discussiontools-topicsubscription & true  &  2\\\\\n",
       "\\end{tabular}\n"
      ],
      "text/markdown": [
       "\n",
       "A grouped_df: 5 × 3\n",
       "\n",
       "| property &lt;chr&gt; | value &lt;chr&gt; | n_users &lt;int&gt; |\n",
       "|---|---|---|\n",
       "| discussiontools-autotopicsub      | 0     |  9 |\n",
       "| discussiontools-autotopicsub      | true  | 33 |\n",
       "| discussiontools-topicsubscription | 1     |  2 |\n",
       "| discussiontools-topicsubscription | false | 28 |\n",
       "| discussiontools-topicsubscription | true  |  2 |\n",
       "\n"
      ],
      "text/plain": [
       "  property                          value n_users\n",
       "1 discussiontools-autotopicsub      0      9     \n",
       "2 discussiontools-autotopicsub      true  33     \n",
       "3 discussiontools-topicsubscription 1      2     \n",
       "4 discussiontools-topicsubscription false 28     \n",
       "5 discussiontools-topicsubscription true   2     "
      ]
     },
     "metadata": {},
     "output_type": "display_data"
    }
   ],
   "source": [
    "# Numbers of users for each selection\n",
    "topic_preferences_selections <- topic_preferences  %>%\n",
    "    group_by(property, value) %>%\n",
    "    summarise(n_users = n_distinct(userid))\n",
    "              \n",
    "topic_preferences_selections"
   ]
  },
  {
   "cell_type": "markdown",
   "id": "29cf33e6-43ac-431a-936d-0ac492c5fe0d",
   "metadata": {},
   "source": [
    "**CONFIRMED**: Topic subscription properties are recorded as expected. Need to investigate the meaning for various values (false, true, 0 and 1). "
   ]
  },
  {
   "cell_type": "markdown",
   "id": "b15c458b-1589-4175-84e8-f13b5de72b03",
   "metadata": {},
   "source": [
    "# Identify comments and topics posted by bucketed users"
   ]
  },
  {
   "cell_type": "code",
   "execution_count": 43,
   "id": "2c1094a9-179f-4ccf-8e01-f92421d043da",
   "metadata": {},
   "outputs": [],
   "source": [
    "# rough query to confirm all needed data is logged as expected. Will be refined for analysis\n",
    "query <-\n",
    "\n",
    "\"SELECT\n",
    " date_format(tpe.meta.dt, 'yyyy-MM-dd') as attempt_dt,\n",
    "  tpe.session_id,\n",
    "  eas.event.bucket AS test_group,\n",
    "  eas.event.editing_session_id,\n",
    "  tpe.performer.user_id,\n",
    "  eas.event.user_id,\n",
    "  tpe.component_type AS topic_type,\n",
    "  tpe.topic_id AS topic_id,\n",
    "  tpe.comment_id AS comment_id,\n",
    "  tpe.comment_parent_id As comment_parent_id,\n",
    "  tpe.performer.user_edit_count AS edit_count\n",
    "FROM\n",
    "  event.mediawiki_talk_page_edit tpe\n",
    "LEFT JOIN \n",
    "  event.editattemptstep eas\n",
    "  ON session_id = eas.event.editing_session_id\n",
    "  AND eas.year = 2022  \n",
    "  and eas.month = 06\n",
    "  AND eas.day >= 02\n",
    "  WHERE\n",
    "  tpe.year = 2022\n",
    "  and tpe.month = 06\n",
    "  AND tpe.day >= 02\n",
    "  AND useragent.is_bot = false\n",
    "  AND event.bucket in ('test', 'control')\n",
    "  AND tpe.performer.user_id > 0\n",
    "\"\n"
   ]
  },
  {
   "cell_type": "code",
   "execution_count": 44,
   "id": "2669ba40-f013-4bb8-9948-54a296b51b20",
   "metadata": {},
   "outputs": [
    {
     "name": "stderr",
     "output_type": "stream",
     "text": [
      "Don't forget to authenticate with Kerberos using kinit\n",
      "\n"
     ]
    }
   ],
   "source": [
    "topic_events <- wmfdata::query_hive(query)"
   ]
  },
  {
   "cell_type": "markdown",
   "id": "0ba50e8a-415e-433c-a636-820daaeed16d",
   "metadata": {},
   "source": [
    "## Types of comments posted"
   ]
  },
  {
   "cell_type": "code",
   "execution_count": 46,
   "id": "3eb3dc43-f3b2-4c15-af0f-8d5b911033d5",
   "metadata": {},
   "outputs": [
    {
     "name": "stderr",
     "output_type": "stream",
     "text": [
      "`summarise()` regrouping output by 'test_group' (override with `.groups` argument)\n",
      "\n"
     ]
    },
    {
     "data": {
      "text/html": [
       "<table>\n",
       "<caption>A grouped_df: 6 × 4</caption>\n",
       "<thead>\n",
       "\t<tr><th scope=col>test_group</th><th scope=col>topic_type</th><th scope=col>users</th><th scope=col>attempts</th></tr>\n",
       "\t<tr><th scope=col>&lt;chr&gt;</th><th scope=col>&lt;chr&gt;</th><th scope=col>&lt;int&gt;</th><th scope=col>&lt;int&gt;</th></tr>\n",
       "</thead>\n",
       "<tbody>\n",
       "\t<tr><td>control</td><td>comment </td><td> 53</td><td>  65</td></tr>\n",
       "\t<tr><td>control</td><td>response</td><td>643</td><td>2169</td></tr>\n",
       "\t<tr><td>control</td><td>topic   </td><td>646</td><td>1543</td></tr>\n",
       "\t<tr><td>test   </td><td>comment </td><td> 60</td><td>  83</td></tr>\n",
       "\t<tr><td>test   </td><td>response</td><td>617</td><td>1819</td></tr>\n",
       "\t<tr><td>test   </td><td>topic   </td><td>661</td><td>1306</td></tr>\n",
       "</tbody>\n",
       "</table>\n"
      ],
      "text/latex": [
       "A grouped\\_df: 6 × 4\n",
       "\\begin{tabular}{llll}\n",
       " test\\_group & topic\\_type & users & attempts\\\\\n",
       " <chr> & <chr> & <int> & <int>\\\\\n",
       "\\hline\n",
       "\t control & comment  &  53 &   65\\\\\n",
       "\t control & response & 643 & 2169\\\\\n",
       "\t control & topic    & 646 & 1543\\\\\n",
       "\t test    & comment  &  60 &   83\\\\\n",
       "\t test    & response & 617 & 1819\\\\\n",
       "\t test    & topic    & 661 & 1306\\\\\n",
       "\\end{tabular}\n"
      ],
      "text/markdown": [
       "\n",
       "A grouped_df: 6 × 4\n",
       "\n",
       "| test_group &lt;chr&gt; | topic_type &lt;chr&gt; | users &lt;int&gt; | attempts &lt;int&gt; |\n",
       "|---|---|---|---|\n",
       "| control | comment  |  53 |   65 |\n",
       "| control | response | 643 | 2169 |\n",
       "| control | topic    | 646 | 1543 |\n",
       "| test    | comment  |  60 |   83 |\n",
       "| test    | response | 617 | 1819 |\n",
       "| test    | topic    | 661 | 1306 |\n",
       "\n"
      ],
      "text/plain": [
       "  test_group topic_type users attempts\n",
       "1 control    comment     53     65    \n",
       "2 control    response   643   2169    \n",
       "3 control    topic      646   1543    \n",
       "4 test       comment     60     83    \n",
       "5 test       response   617   1819    \n",
       "6 test       topic      661   1306    "
      ]
     },
     "metadata": {},
     "output_type": "display_data"
    }
   ],
   "source": [
    "sessions_by_comment_post <- topic_events %>%\n",
    "  group_by(test_group, topic_type) %>%\n",
    "  summarise(users = n_distinct(user_id),\n",
    "        attempts = n_distinct(editing_session_id))\n",
    "\n",
    "sessions_by_comment_post"
   ]
  },
  {
   "cell_type": "markdown",
   "id": "21345525-3b4b-480f-9495-2f381446a0e9",
   "metadata": {},
   "source": [
    "* Number of comments, responses and topics within each group seem balanced."
   ]
  },
  {
   "cell_type": "markdown",
   "id": "27f6a899-1c23-4557-85fa-ecdc30d5c4d0",
   "metadata": {},
   "source": [
    "## Confirm instrumentation needed to calculate the KPI is available\n",
    "\n",
    "For all comments and new topics with a response, the average time duration from \"Person A\" posting on a talk page and \"Person B\" posting a response, grouped by experience level\". "
   ]
  },
  {
   "cell_type": "markdown",
   "id": "aa4ef74d-53c3-4e1e-834a-549a0fa69f77",
   "metadata": {},
   "source": [
    "Steps to calculate:\n",
    "- Find all sessions where comment_id is in the comment_parent_id list. These are all topics or new comments that have received a response. FEASIBLE\n",
    "- Select the user_id and dt and comment_parent_id and timestamp for all these comments. FEASIBLE\n",
    "- Find the user_id and timestamp for these comments. FEASIBLE\n",
    "- Final Query is to subtract the two timestamps FEASIBLE"
   ]
  },
  {
   "cell_type": "code",
   "execution_count": 50,
   "id": "cfa2def5-c63b-4d91-919f-a65e41465628",
   "metadata": {},
   "outputs": [
    {
     "name": "stderr",
     "output_type": "stream",
     "text": [
      "`summarise()` regrouping output by 'test_group' (override with `.groups` argument)\n",
      "\n"
     ]
    }
   ],
   "source": [
    "# Find all all topics or new comments that have received a response. \n",
    "# Topics with response - commment parent id = topic_id\n",
    "# Comments with a response - comment_id = comment_parent id\n",
    "comments_w_response <- topic_events %>%\n",
    "    filter(comment_id %in% comment_parent_id |\n",
    "          topic_id %in% comment_parent_id ) %>%  # comments and topics that recieved a response\n",
    " group_by(test_group, topic_type) %>%\n",
    "  summarise(users = n_distinct(user_id),\n",
    "        attempts = n_distinct(editing_session_id))\n",
    "\n",
    "comments_w_response"
   ]
  },
  {
   "cell_type": "code",
   "execution_count": 51,
   "id": "94ad2b9b-8117-4c1f-a4a2-b1a5ca668c94",
   "metadata": {},
   "outputs": [
    {
     "data": {
      "text/html": [
       "<table>\n",
       "<caption>A grouped_df: 6 × 4</caption>\n",
       "<thead>\n",
       "\t<tr><th scope=col>test_group</th><th scope=col>topic_type</th><th scope=col>users</th><th scope=col>attempts</th></tr>\n",
       "\t<tr><th scope=col>&lt;chr&gt;</th><th scope=col>&lt;chr&gt;</th><th scope=col>&lt;int&gt;</th><th scope=col>&lt;int&gt;</th></tr>\n",
       "</thead>\n",
       "<tbody>\n",
       "\t<tr><td>control</td><td>comment </td><td> 41</td><td>  47</td></tr>\n",
       "\t<tr><td>control</td><td>response</td><td>323</td><td>1045</td></tr>\n",
       "\t<tr><td>control</td><td>topic   </td><td>646</td><td>1543</td></tr>\n",
       "\t<tr><td>test   </td><td>comment </td><td> 47</td><td>  64</td></tr>\n",
       "\t<tr><td>test   </td><td>response</td><td>294</td><td> 754</td></tr>\n",
       "\t<tr><td>test   </td><td>topic   </td><td>661</td><td>1306</td></tr>\n",
       "</tbody>\n",
       "</table>\n"
      ],
      "text/latex": [
       "A grouped\\_df: 6 × 4\n",
       "\\begin{tabular}{llll}\n",
       " test\\_group & topic\\_type & users & attempts\\\\\n",
       " <chr> & <chr> & <int> & <int>\\\\\n",
       "\\hline\n",
       "\t control & comment  &  41 &   47\\\\\n",
       "\t control & response & 323 & 1045\\\\\n",
       "\t control & topic    & 646 & 1543\\\\\n",
       "\t test    & comment  &  47 &   64\\\\\n",
       "\t test    & response & 294 &  754\\\\\n",
       "\t test    & topic    & 661 & 1306\\\\\n",
       "\\end{tabular}\n"
      ],
      "text/markdown": [
       "\n",
       "A grouped_df: 6 × 4\n",
       "\n",
       "| test_group &lt;chr&gt; | topic_type &lt;chr&gt; | users &lt;int&gt; | attempts &lt;int&gt; |\n",
       "|---|---|---|---|\n",
       "| control | comment  |  41 |   47 |\n",
       "| control | response | 323 | 1045 |\n",
       "| control | topic    | 646 | 1543 |\n",
       "| test    | comment  |  47 |   64 |\n",
       "| test    | response | 294 |  754 |\n",
       "| test    | topic    | 661 | 1306 |\n",
       "\n"
      ],
      "text/plain": [
       "  test_group topic_type users attempts\n",
       "1 control    comment     41     47    \n",
       "2 control    response   323   1045    \n",
       "3 control    topic      646   1543    \n",
       "4 test       comment     47     64    \n",
       "5 test       response   294    754    \n",
       "6 test       topic      661   1306    "
      ]
     },
     "metadata": {},
     "output_type": "display_data"
    }
   ],
   "source": [
    "head(comments_w_response)"
   ]
  },
  {
   "cell_type": "markdown",
   "id": "12355762-9067-4ff0-a843-97e8c75a4510",
   "metadata": {},
   "source": [
    "Number appear as expected when limited to topics and comments that received a response. Note all topics will always have a top line comment that is also added so I might be able to remove that condition.\n",
    "\n",
    "Need to add a second row with the parent id"
   ]
  },
  {
   "cell_type": "code",
   "execution_count": null,
   "id": "821c0195-9bf0-44e9-b33a-5857cfacdc50",
   "metadata": {},
   "outputs": [],
   "source": [
    "# Find time difference\n",
    "comments_w_response_time <- topic_events %>%\n",
    "    filter(comment_id %in% comment_parent_id |\n",
    "          topic_id %in% comment_parent_id ) %>% \n",
    "    group_by(comment_id)  %>% \n",
    "    mutate(response_time = difftime(attempt_dt, attempt_dt[comment_parent_id == comment_id], units = \"mins\"))\n"
   ]
  },
  {
   "cell_type": "code",
   "execution_count": null,
   "id": "3e86d979-8923-4c70-839c-b316dface85d",
   "metadata": {},
   "outputs": [],
   "source": []
  }
 ],
 "metadata": {
  "kernelspec": {
   "display_name": "R",
   "language": "R",
   "name": "ir"
  },
  "language_info": {
   "codemirror_mode": "r",
   "file_extension": ".r",
   "mimetype": "text/x-r-source",
   "name": "R",
   "pygments_lexer": "r",
   "version": "3.5.2"
  }
 },
 "nbformat": 4,
 "nbformat_minor": 5
}
